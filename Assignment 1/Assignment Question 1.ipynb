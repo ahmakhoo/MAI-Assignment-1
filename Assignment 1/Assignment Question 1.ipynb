{
 "cells": [
  {
   "cell_type": "code",
   "execution_count": 270,
   "metadata": {},
   "outputs": [],
   "source": [
    "# Dairy dataset\n",
    "import numpy as np\n",
    "import pandas as pd \n",
    "import matplotlib.pyplot as plt\n",
    "import seaborn as sns\n",
    "import plotly.express as px\n",
    "from sklearn.preprocessing import QuantileTransformer\n",
    "import statsmodels.api as sm\n",
    "from sklearn.decomposition import PCA\n",
    "\n",
    "\n",
    "\n",
    "from warnings import filterwarnings \n",
    "filterwarnings('ignore')\n",
    "\n",
    "\n",
    "\n",
    "\n",
    "df = pd.read_excel('./dataset_9/dairy_nutrition_9.xlsx')"
   ]
  },
  {
   "attachments": {},
   "cell_type": "markdown",
   "metadata": {},
   "source": [
    "*<h3>Functions needed to carry out PCA and plot the graphs</h3>*"
   ]
  },
  {
   "cell_type": "code",
   "execution_count": 271,
   "metadata": {},
   "outputs": [],
   "source": [
    "def pca_results(data, pca):\n",
    "    \n",
    "    # Dimension indexing\n",
    "    dimensions = ['PC {}'.format(i) for i in range(1,len(pca.components_)+1)]\n",
    "    \n",
    "    # PCA components\n",
    "    components = pd.DataFrame(np.round(pca.components_, 4), columns = data.keys()) \n",
    "    components.index = dimensions\n",
    "\n",
    "    #PCA eigenvalues\n",
    "    ev = pca.explained_variance_.reshape(len(pca.components_), 1)\n",
    "    eigenvalues = pd.DataFrame(np.round(ev, 4), columns = ['Eigenvalue']) \n",
    "    eigenvalues.index = dimensions\n",
    "    \n",
    "    # PCA explained variance\n",
    "    ratios = pca.explained_variance_ratio_.reshape(len(pca.components_), 1) \n",
    "    variance_ratios = pd.DataFrame(np.round(ratios, 4), columns = ['Explained Variance']) \n",
    "    variance_ratios.index = dimensions\n",
    "\n",
    "    # Return a concatenated DataFrame\n",
    "    return pd.concat([eigenvalues, variance_ratios, components], axis = 1)\n"
   ]
  },
  {
   "cell_type": "code",
   "execution_count": 272,
   "metadata": {},
   "outputs": [],
   "source": [
    "# Plots score plot with data labels\n",
    "# Pass original data, un-centred scores and returns of PCA to this function. Optional width, height and margin.\n",
    "# This function returns the axes of the score plot\n",
    "\n",
    "def scoreplot_label(data, scores, pca, width=5, height=5, margin=0.5):\n",
    "    plt.figure(figsize=(width, height))\n",
    "    ax = sns.scatterplot(x=\"PC1\", y=\"PC2\", data = scores, hue=data['Type'])\n",
    "    \n",
    "    # Print text\n",
    "    # text_pos = 0.2\n",
    "    \n",
    "    # for i, v in enumerate(np.array(scores)):\n",
    "    #     # ax.arrow(0, 0, v[0], v[1], head_width=0.1, head_length=0.1, linewidth=2, color='red')\n",
    "    #     ax.text(v[0], v[1]+text_pos, data.iloc[i,0], color='black', ha='center', va='center', fontsize=20)\n",
    "    \n",
    "    \n",
    "    #Set limits for figure\n",
    "    x_min = min(scores['PC1'].min(),0)-margin\n",
    "    x_max = max(scores['PC1'].max(),0)+margin\n",
    "    y_min = min(scores['PC2'].min(),0)-margin\n",
    "    y_max = max(scores['PC2'].max(),0)+margin\n",
    "  \n",
    "    ax.set_xlim(x_min, x_max)\n",
    "    ax.set_ylim(y_min, y_max)\n",
    "    ax.set_title(\"Score plot\", fontsize=14)\n",
    "    plt.plot([x_min, x_max], [0, 0], color='k', linestyle='--', linewidth=1)\n",
    "    plt.plot([0, 0], [y_min, y_max], color='k', linestyle='--', linewidth=1)\n",
    "    return ax"
   ]
  },
  {
   "cell_type": "code",
   "execution_count": 273,
   "metadata": {},
   "outputs": [],
   "source": [
    "# This function plots the loading plot.\n",
    "# Pass original data dataframe and returns of PCA to this function. Optional width, height and margin\n",
    "# This function returns the axes of the loading plot\n",
    "\n",
    "def loadingplot(data, pca, width=5, height=5, margin=0.5):\n",
    "\n",
    "    fig, ax = plt.subplots(figsize = (width,height))\n",
    "\n",
    "    #Set limits for figure\n",
    "    x_min = min(pca.components_[0,:].min(),0)-margin\n",
    "    x_max = max(pca.components_[0,:].max(),0)+margin\n",
    "    y_min = min(pca.components_[1,:].min(),0)-margin\n",
    "    y_max = max(pca.components_[1,:].max(),0)+margin\n",
    "\n",
    "    ax.set_xlim(x_min, x_max)\n",
    "    ax.set_ylim(y_min, y_max)\n",
    "\n",
    "    #Scaling factor for text position\n",
    "    text_pos = 0.2\n",
    "\n",
    "    for i, v in enumerate(pca.components_.T):\n",
    "        ax.arrow(0, 0, v[0], v[1], head_width=0.1, head_length=0.1, linewidth=2, color='red')\n",
    "        ax.text(v[0], v[1]+text_pos, data.columns[i], color='black', ha='center', va='center', fontsize=12)\n",
    "\n",
    "    plt.plot([x_min, x_max], [0, 0], color='k', linestyle='--', linewidth=1)\n",
    "    plt.plot([0, 0], [y_min, y_max], color='k', linestyle='--', linewidth=1)\n",
    "    ax.set_xlabel(\"PC1\", fontsize=14)\n",
    "    ax.set_ylabel(\"PC2\", fontsize=14)\n",
    "    ax.set_title(\"Loading plot\", fontsize = 14)\n",
    "    \n",
    "    return ax"
   ]
  },
  {
   "attachments": {},
   "cell_type": "markdown",
   "metadata": {},
   "source": [
    "---"
   ]
  },
  {
   "cell_type": "code",
   "execution_count": 274,
   "metadata": {},
   "outputs": [
    {
     "data": {
      "text/html": [
       "<div>\n",
       "<style scoped>\n",
       "    .dataframe tbody tr th:only-of-type {\n",
       "        vertical-align: middle;\n",
       "    }\n",
       "\n",
       "    .dataframe tbody tr th {\n",
       "        vertical-align: top;\n",
       "    }\n",
       "\n",
       "    .dataframe thead th {\n",
       "        text-align: right;\n",
       "    }\n",
       "</style>\n",
       "<table border=\"1\" class=\"dataframe\">\n",
       "  <thead>\n",
       "    <tr style=\"text-align: right;\">\n",
       "      <th></th>\n",
       "      <th>Type</th>\n",
       "      <th>Description</th>\n",
       "      <th>Protein_g</th>\n",
       "      <th>Fat_g</th>\n",
       "      <th>Carb_g</th>\n",
       "      <th>Sugar_g</th>\n",
       "      <th>VitA_mcg</th>\n",
       "      <th>VitB6_mg</th>\n",
       "      <th>VitB12_mcg</th>\n",
       "      <th>Calcium_mg</th>\n",
       "    </tr>\n",
       "  </thead>\n",
       "  <tbody>\n",
       "    <tr>\n",
       "      <th>0</th>\n",
       "      <td>Cheese</td>\n",
       "      <td>Cheese food, cold pack, American</td>\n",
       "      <td>19.66</td>\n",
       "      <td>24.46</td>\n",
       "      <td>8.32</td>\n",
       "      <td>0.00</td>\n",
       "      <td>0</td>\n",
       "      <td>0.141</td>\n",
       "      <td>1.28</td>\n",
       "      <td>497</td>\n",
       "    </tr>\n",
       "    <tr>\n",
       "      <th>1</th>\n",
       "      <td>Cream</td>\n",
       "      <td>Cream, whipped, cream topping, pressurized</td>\n",
       "      <td>3.20</td>\n",
       "      <td>22.22</td>\n",
       "      <td>12.49</td>\n",
       "      <td>8.00</td>\n",
       "      <td>188</td>\n",
       "      <td>0.041</td>\n",
       "      <td>0.29</td>\n",
       "      <td>101</td>\n",
       "    </tr>\n",
       "    <tr>\n",
       "      <th>2</th>\n",
       "      <td>Ice cream</td>\n",
       "      <td>Fat free ice cream, no sugar added, flavors ot...</td>\n",
       "      <td>4.41</td>\n",
       "      <td>0.00</td>\n",
       "      <td>27.94</td>\n",
       "      <td>8.82</td>\n",
       "      <td>133</td>\n",
       "      <td>0.029</td>\n",
       "      <td>0.52</td>\n",
       "      <td>147</td>\n",
       "    </tr>\n",
       "    <tr>\n",
       "      <th>3</th>\n",
       "      <td>Milk</td>\n",
       "      <td>Milk, whole, 3.25% milkfat, with added vitamin D</td>\n",
       "      <td>3.15</td>\n",
       "      <td>3.25</td>\n",
       "      <td>4.80</td>\n",
       "      <td>5.05</td>\n",
       "      <td>46</td>\n",
       "      <td>0.036</td>\n",
       "      <td>0.45</td>\n",
       "      <td>113</td>\n",
       "    </tr>\n",
       "    <tr>\n",
       "      <th>4</th>\n",
       "      <td>Milk</td>\n",
       "      <td>Milk, whole, 3.25% milkfat, without added vita...</td>\n",
       "      <td>3.15</td>\n",
       "      <td>3.27</td>\n",
       "      <td>4.78</td>\n",
       "      <td>5.05</td>\n",
       "      <td>46</td>\n",
       "      <td>0.036</td>\n",
       "      <td>0.45</td>\n",
       "      <td>113</td>\n",
       "    </tr>\n",
       "    <tr>\n",
       "      <th>5</th>\n",
       "      <td>Yogurt</td>\n",
       "      <td>Yogurt, chocolate, nonfat milk</td>\n",
       "      <td>3.53</td>\n",
       "      <td>0.00</td>\n",
       "      <td>23.53</td>\n",
       "      <td>14.97</td>\n",
       "      <td>0</td>\n",
       "      <td>0.047</td>\n",
       "      <td>0.50</td>\n",
       "      <td>88</td>\n",
       "    </tr>\n",
       "    <tr>\n",
       "      <th>6</th>\n",
       "      <td>Yogurt</td>\n",
       "      <td>Yogurt, Greek, non fat, vanilla, CHOBANI</td>\n",
       "      <td>9.07</td>\n",
       "      <td>0.22</td>\n",
       "      <td>8.09</td>\n",
       "      <td>7.61</td>\n",
       "      <td>0</td>\n",
       "      <td>0.053</td>\n",
       "      <td>0.70</td>\n",
       "      <td>106</td>\n",
       "    </tr>\n",
       "    <tr>\n",
       "      <th>7</th>\n",
       "      <td>Milk</td>\n",
       "      <td>Milk, chocolate, fluid, commercial, reduced fa...</td>\n",
       "      <td>2.99</td>\n",
       "      <td>1.90</td>\n",
       "      <td>12.13</td>\n",
       "      <td>9.55</td>\n",
       "      <td>64</td>\n",
       "      <td>0.024</td>\n",
       "      <td>0.33</td>\n",
       "      <td>109</td>\n",
       "    </tr>\n",
       "    <tr>\n",
       "      <th>8</th>\n",
       "      <td>Cream</td>\n",
       "      <td>Cream, sour, cultured</td>\n",
       "      <td>2.07</td>\n",
       "      <td>19.73</td>\n",
       "      <td>2.88</td>\n",
       "      <td>2.88</td>\n",
       "      <td>176</td>\n",
       "      <td>0.057</td>\n",
       "      <td>0.28</td>\n",
       "      <td>110</td>\n",
       "    </tr>\n",
       "    <tr>\n",
       "      <th>9</th>\n",
       "      <td>Yogurt</td>\n",
       "      <td>Yogurt, Greek, plain, nonfat</td>\n",
       "      <td>10.19</td>\n",
       "      <td>0.39</td>\n",
       "      <td>3.60</td>\n",
       "      <td>3.24</td>\n",
       "      <td>1</td>\n",
       "      <td>0.063</td>\n",
       "      <td>0.75</td>\n",
       "      <td>110</td>\n",
       "    </tr>\n",
       "    <tr>\n",
       "      <th>10</th>\n",
       "      <td>Cheese</td>\n",
       "      <td>Cheese, cottage, lowfat, 2% milkfat</td>\n",
       "      <td>10.45</td>\n",
       "      <td>2.27</td>\n",
       "      <td>4.76</td>\n",
       "      <td>4.00</td>\n",
       "      <td>68</td>\n",
       "      <td>0.057</td>\n",
       "      <td>0.47</td>\n",
       "      <td>111</td>\n",
       "    </tr>\n",
       "    <tr>\n",
       "      <th>11</th>\n",
       "      <td>Milk</td>\n",
       "      <td>Milk, chocolate, fluid, commercial, whole, wit...</td>\n",
       "      <td>3.17</td>\n",
       "      <td>3.39</td>\n",
       "      <td>10.34</td>\n",
       "      <td>9.54</td>\n",
       "      <td>27</td>\n",
       "      <td>0.040</td>\n",
       "      <td>0.33</td>\n",
       "      <td>112</td>\n",
       "    </tr>\n",
       "    <tr>\n",
       "      <th>12</th>\n",
       "      <td>Cream</td>\n",
       "      <td>Sour dressing, non-butterfat, cultured, filled...</td>\n",
       "      <td>3.25</td>\n",
       "      <td>16.57</td>\n",
       "      <td>4.68</td>\n",
       "      <td>4.68</td>\n",
       "      <td>3</td>\n",
       "      <td>0.017</td>\n",
       "      <td>0.33</td>\n",
       "      <td>113</td>\n",
       "    </tr>\n",
       "    <tr>\n",
       "      <th>13</th>\n",
       "      <td>Milk</td>\n",
       "      <td>Milk, chocolate beverage, hot cocoa, homemade</td>\n",
       "      <td>3.52</td>\n",
       "      <td>2.34</td>\n",
       "      <td>10.74</td>\n",
       "      <td>9.66</td>\n",
       "      <td>51</td>\n",
       "      <td>0.040</td>\n",
       "      <td>0.49</td>\n",
       "      <td>114</td>\n",
       "    </tr>\n",
       "    <tr>\n",
       "      <th>14</th>\n",
       "      <td>Milk</td>\n",
       "      <td>Milk, chocolate, fluid, commercial, lowfat, wi...</td>\n",
       "      <td>3.24</td>\n",
       "      <td>1.00</td>\n",
       "      <td>12.60</td>\n",
       "      <td>9.94</td>\n",
       "      <td>58</td>\n",
       "      <td>0.041</td>\n",
       "      <td>0.32</td>\n",
       "      <td>116</td>\n",
       "    </tr>\n",
       "  </tbody>\n",
       "</table>\n",
       "</div>"
      ],
      "text/plain": [
       "         Type                                        Description  Protein_g  \\\n",
       "0      Cheese                   Cheese food, cold pack, American      19.66   \n",
       "1       Cream         Cream, whipped, cream topping, pressurized       3.20   \n",
       "2   Ice cream  Fat free ice cream, no sugar added, flavors ot...       4.41   \n",
       "3        Milk   Milk, whole, 3.25% milkfat, with added vitamin D       3.15   \n",
       "4        Milk  Milk, whole, 3.25% milkfat, without added vita...       3.15   \n",
       "5      Yogurt                     Yogurt, chocolate, nonfat milk       3.53   \n",
       "6      Yogurt           Yogurt, Greek, non fat, vanilla, CHOBANI       9.07   \n",
       "7        Milk  Milk, chocolate, fluid, commercial, reduced fa...       2.99   \n",
       "8       Cream                              Cream, sour, cultured       2.07   \n",
       "9      Yogurt                       Yogurt, Greek, plain, nonfat      10.19   \n",
       "10     Cheese                Cheese, cottage, lowfat, 2% milkfat      10.45   \n",
       "11       Milk  Milk, chocolate, fluid, commercial, whole, wit...       3.17   \n",
       "12      Cream  Sour dressing, non-butterfat, cultured, filled...       3.25   \n",
       "13       Milk      Milk, chocolate beverage, hot cocoa, homemade       3.52   \n",
       "14       Milk  Milk, chocolate, fluid, commercial, lowfat, wi...       3.24   \n",
       "\n",
       "    Fat_g  Carb_g  Sugar_g  VitA_mcg  VitB6_mg  VitB12_mcg  Calcium_mg  \n",
       "0   24.46    8.32     0.00         0     0.141        1.28         497  \n",
       "1   22.22   12.49     8.00       188     0.041        0.29         101  \n",
       "2    0.00   27.94     8.82       133     0.029        0.52         147  \n",
       "3    3.25    4.80     5.05        46     0.036        0.45         113  \n",
       "4    3.27    4.78     5.05        46     0.036        0.45         113  \n",
       "5    0.00   23.53    14.97         0     0.047        0.50          88  \n",
       "6    0.22    8.09     7.61         0     0.053        0.70         106  \n",
       "7    1.90   12.13     9.55        64     0.024        0.33         109  \n",
       "8   19.73    2.88     2.88       176     0.057        0.28         110  \n",
       "9    0.39    3.60     3.24         1     0.063        0.75         110  \n",
       "10   2.27    4.76     4.00        68     0.057        0.47         111  \n",
       "11   3.39   10.34     9.54        27     0.040        0.33         112  \n",
       "12  16.57    4.68     4.68         3     0.017        0.33         113  \n",
       "13   2.34   10.74     9.66        51     0.040        0.49         114  \n",
       "14   1.00   12.60     9.94        58     0.041        0.32         116  "
      ]
     },
     "execution_count": 274,
     "metadata": {},
     "output_type": "execute_result"
    }
   ],
   "source": [
    "df.head(15)"
   ]
  },
  {
   "cell_type": "code",
   "execution_count": 275,
   "metadata": {},
   "outputs": [
    {
     "name": "stdout",
     "output_type": "stream",
     "text": [
      "<class 'pandas.core.frame.DataFrame'>\n",
      "RangeIndex: 172 entries, 0 to 171\n",
      "Data columns (total 10 columns):\n",
      " #   Column       Non-Null Count  Dtype  \n",
      "---  ------       --------------  -----  \n",
      " 0   Type         172 non-null    object \n",
      " 1   Description  172 non-null    object \n",
      " 2   Protein_g    172 non-null    float64\n",
      " 3   Fat_g        172 non-null    float64\n",
      " 4   Carb_g       172 non-null    float64\n",
      " 5   Sugar_g      172 non-null    float64\n",
      " 6   VitA_mcg     172 non-null    int64  \n",
      " 7   VitB6_mg     172 non-null    float64\n",
      " 8   VitB12_mcg   172 non-null    float64\n",
      " 9   Calcium_mg   172 non-null    int64  \n",
      "dtypes: float64(6), int64(2), object(2)\n",
      "memory usage: 13.6+ KB\n"
     ]
    }
   ],
   "source": [
    "df.info()"
   ]
  },
  {
   "attachments": {},
   "cell_type": "markdown",
   "metadata": {},
   "source": [
    "---"
   ]
  },
  {
   "attachments": {},
   "cell_type": "markdown",
   "metadata": {},
   "source": [
    "***<h3>Univariate Analysis</h3>***\n",
    "\n",
    "- We check the assumptions and limitiations of the PCA to see if our data is eligible for PCA\n",
    "- to check we will plot some of the more important columns to see if they match the assumptions of PCA  \n",
    "\n",
    "***<h5>the assumptions and limitations of PCA are as follows:</h5>***\n",
    "\n",
    "- The variables should be linearly related and have a linear correlation\n",
    "\n",
    "- the principal components are orthogonal \n",
    "\n",
    "- If variables are normally distributed, then PCA will work better\n",
    "\n",
    "- correlation coefficient tends to be less reliable when estimated from small samples therefore, it is important that sample size be large enough that correlations are reliably estimated."
   ]
  },
  {
   "cell_type": "code",
   "execution_count": 276,
   "metadata": {},
   "outputs": [
    {
     "data": {
      "application/vnd.plotly.v1+json": {
       "config": {
        "plotlyServerURL": "https://plot.ly"
       },
       "data": [
        {
         "alignmentgroup": "True",
         "bingroup": "x",
         "hovertemplate": "Fat_g=%{x}<br>count=%{y}<extra></extra>",
         "legendgroup": "",
         "marker": {
          "color": "#636efa",
          "pattern": {
           "shape": ""
          }
         },
         "name": "",
         "nbinsx": 30,
         "offsetgroup": "",
         "orientation": "v",
         "showlegend": false,
         "type": "histogram",
         "x": [
          24.46,
          22.22,
          0,
          3.25,
          3.27,
          0,
          0.22,
          1.9,
          19.73,
          0.39,
          2.27,
          3.39,
          16.57,
          2.34,
          1,
          22.78,
          29.98,
          3.66,
          3.25,
          3.46,
          3.4,
          30.6,
          30.71,
          1.98,
          1.98,
          0.08,
          0.08,
          14.1,
          1.55,
          10.6,
          0,
          0.18,
          0.18,
          1,
          0.18,
          19.72,
          25.63,
          25.63,
          24.1,
          21.88,
          13.5,
          25.26,
          8.57,
          26.71,
          26.71,
          7.4,
          3.04,
          29.51,
          2.86,
          0.2,
          0.77,
          0.77,
          27.8,
          27.84,
          35.59,
          0,
          32.34,
          31.79,
          26.94,
          20,
          19.4,
          25.83,
          0.72,
          0.72,
          27.34,
          21.08,
          29.84,
          27.68,
          24.26,
          27.25,
          28.2,
          30.28,
          30.04,
          33.82,
          27.8,
          31.14,
          31.2,
          26.33,
          7,
          30.64,
          24.35,
          25.01,
          33.82,
          26.62,
          22.35,
          27.44,
          28.74,
          24.31,
          32.11,
          1.02,
          15.92,
          37,
          29.68,
          28.26,
          30.91,
          23.82,
          12.98,
          29.2,
          4.3,
          17.6,
          19.31,
          20.41,
          34.24,
          21.28,
          12,
          11.5,
          4.14,
          3.46,
          24.14,
          3.85,
          0.97,
          1.92,
          0.97,
          0.97,
          0.25,
          7.91,
          7.72,
          6.89,
          7,
          14.92,
          1.98,
          1.98,
          1.17,
          0.25,
          1.84,
          29.68,
          19.52,
          0.29,
          4.38,
          21.23,
          1.4,
          7.56,
          7.56,
          0,
          14.1,
          8.88,
          0.2,
          9.97,
          9.97,
          0.12,
          2.92,
          1.9,
          0.22,
          0.14,
          1.25,
          1.25,
          1.25,
          0,
          1.41,
          1.41,
          1.41,
          1.15,
          1.15,
          0.2,
          1.08,
          1.08,
          0.8,
          13,
          3.69,
          0,
          12.22,
          8.7,
          35.48,
          21.47,
          0.16,
          1.23,
          1.4,
          1.06,
          32,
          1.39,
          1.43,
          1.12
         ],
         "xaxis": "x",
         "yaxis": "y"
        }
       ],
       "layout": {
        "barmode": "relative",
        "legend": {
         "tracegroupgap": 0
        },
        "margin": {
         "t": 60
        },
        "template": {
         "data": {
          "bar": [
           {
            "error_x": {
             "color": "#2a3f5f"
            },
            "error_y": {
             "color": "#2a3f5f"
            },
            "marker": {
             "line": {
              "color": "#E5ECF6",
              "width": 0.5
             },
             "pattern": {
              "fillmode": "overlay",
              "size": 10,
              "solidity": 0.2
             }
            },
            "type": "bar"
           }
          ],
          "barpolar": [
           {
            "marker": {
             "line": {
              "color": "#E5ECF6",
              "width": 0.5
             },
             "pattern": {
              "fillmode": "overlay",
              "size": 10,
              "solidity": 0.2
             }
            },
            "type": "barpolar"
           }
          ],
          "carpet": [
           {
            "aaxis": {
             "endlinecolor": "#2a3f5f",
             "gridcolor": "white",
             "linecolor": "white",
             "minorgridcolor": "white",
             "startlinecolor": "#2a3f5f"
            },
            "baxis": {
             "endlinecolor": "#2a3f5f",
             "gridcolor": "white",
             "linecolor": "white",
             "minorgridcolor": "white",
             "startlinecolor": "#2a3f5f"
            },
            "type": "carpet"
           }
          ],
          "choropleth": [
           {
            "colorbar": {
             "outlinewidth": 0,
             "ticks": ""
            },
            "type": "choropleth"
           }
          ],
          "contour": [
           {
            "colorbar": {
             "outlinewidth": 0,
             "ticks": ""
            },
            "colorscale": [
             [
              0,
              "#0d0887"
             ],
             [
              0.1111111111111111,
              "#46039f"
             ],
             [
              0.2222222222222222,
              "#7201a8"
             ],
             [
              0.3333333333333333,
              "#9c179e"
             ],
             [
              0.4444444444444444,
              "#bd3786"
             ],
             [
              0.5555555555555556,
              "#d8576b"
             ],
             [
              0.6666666666666666,
              "#ed7953"
             ],
             [
              0.7777777777777778,
              "#fb9f3a"
             ],
             [
              0.8888888888888888,
              "#fdca26"
             ],
             [
              1,
              "#f0f921"
             ]
            ],
            "type": "contour"
           }
          ],
          "contourcarpet": [
           {
            "colorbar": {
             "outlinewidth": 0,
             "ticks": ""
            },
            "type": "contourcarpet"
           }
          ],
          "heatmap": [
           {
            "colorbar": {
             "outlinewidth": 0,
             "ticks": ""
            },
            "colorscale": [
             [
              0,
              "#0d0887"
             ],
             [
              0.1111111111111111,
              "#46039f"
             ],
             [
              0.2222222222222222,
              "#7201a8"
             ],
             [
              0.3333333333333333,
              "#9c179e"
             ],
             [
              0.4444444444444444,
              "#bd3786"
             ],
             [
              0.5555555555555556,
              "#d8576b"
             ],
             [
              0.6666666666666666,
              "#ed7953"
             ],
             [
              0.7777777777777778,
              "#fb9f3a"
             ],
             [
              0.8888888888888888,
              "#fdca26"
             ],
             [
              1,
              "#f0f921"
             ]
            ],
            "type": "heatmap"
           }
          ],
          "heatmapgl": [
           {
            "colorbar": {
             "outlinewidth": 0,
             "ticks": ""
            },
            "colorscale": [
             [
              0,
              "#0d0887"
             ],
             [
              0.1111111111111111,
              "#46039f"
             ],
             [
              0.2222222222222222,
              "#7201a8"
             ],
             [
              0.3333333333333333,
              "#9c179e"
             ],
             [
              0.4444444444444444,
              "#bd3786"
             ],
             [
              0.5555555555555556,
              "#d8576b"
             ],
             [
              0.6666666666666666,
              "#ed7953"
             ],
             [
              0.7777777777777778,
              "#fb9f3a"
             ],
             [
              0.8888888888888888,
              "#fdca26"
             ],
             [
              1,
              "#f0f921"
             ]
            ],
            "type": "heatmapgl"
           }
          ],
          "histogram": [
           {
            "marker": {
             "pattern": {
              "fillmode": "overlay",
              "size": 10,
              "solidity": 0.2
             }
            },
            "type": "histogram"
           }
          ],
          "histogram2d": [
           {
            "colorbar": {
             "outlinewidth": 0,
             "ticks": ""
            },
            "colorscale": [
             [
              0,
              "#0d0887"
             ],
             [
              0.1111111111111111,
              "#46039f"
             ],
             [
              0.2222222222222222,
              "#7201a8"
             ],
             [
              0.3333333333333333,
              "#9c179e"
             ],
             [
              0.4444444444444444,
              "#bd3786"
             ],
             [
              0.5555555555555556,
              "#d8576b"
             ],
             [
              0.6666666666666666,
              "#ed7953"
             ],
             [
              0.7777777777777778,
              "#fb9f3a"
             ],
             [
              0.8888888888888888,
              "#fdca26"
             ],
             [
              1,
              "#f0f921"
             ]
            ],
            "type": "histogram2d"
           }
          ],
          "histogram2dcontour": [
           {
            "colorbar": {
             "outlinewidth": 0,
             "ticks": ""
            },
            "colorscale": [
             [
              0,
              "#0d0887"
             ],
             [
              0.1111111111111111,
              "#46039f"
             ],
             [
              0.2222222222222222,
              "#7201a8"
             ],
             [
              0.3333333333333333,
              "#9c179e"
             ],
             [
              0.4444444444444444,
              "#bd3786"
             ],
             [
              0.5555555555555556,
              "#d8576b"
             ],
             [
              0.6666666666666666,
              "#ed7953"
             ],
             [
              0.7777777777777778,
              "#fb9f3a"
             ],
             [
              0.8888888888888888,
              "#fdca26"
             ],
             [
              1,
              "#f0f921"
             ]
            ],
            "type": "histogram2dcontour"
           }
          ],
          "mesh3d": [
           {
            "colorbar": {
             "outlinewidth": 0,
             "ticks": ""
            },
            "type": "mesh3d"
           }
          ],
          "parcoords": [
           {
            "line": {
             "colorbar": {
              "outlinewidth": 0,
              "ticks": ""
             }
            },
            "type": "parcoords"
           }
          ],
          "pie": [
           {
            "automargin": true,
            "type": "pie"
           }
          ],
          "scatter": [
           {
            "fillpattern": {
             "fillmode": "overlay",
             "size": 10,
             "solidity": 0.2
            },
            "type": "scatter"
           }
          ],
          "scatter3d": [
           {
            "line": {
             "colorbar": {
              "outlinewidth": 0,
              "ticks": ""
             }
            },
            "marker": {
             "colorbar": {
              "outlinewidth": 0,
              "ticks": ""
             }
            },
            "type": "scatter3d"
           }
          ],
          "scattercarpet": [
           {
            "marker": {
             "colorbar": {
              "outlinewidth": 0,
              "ticks": ""
             }
            },
            "type": "scattercarpet"
           }
          ],
          "scattergeo": [
           {
            "marker": {
             "colorbar": {
              "outlinewidth": 0,
              "ticks": ""
             }
            },
            "type": "scattergeo"
           }
          ],
          "scattergl": [
           {
            "marker": {
             "colorbar": {
              "outlinewidth": 0,
              "ticks": ""
             }
            },
            "type": "scattergl"
           }
          ],
          "scattermapbox": [
           {
            "marker": {
             "colorbar": {
              "outlinewidth": 0,
              "ticks": ""
             }
            },
            "type": "scattermapbox"
           }
          ],
          "scatterpolar": [
           {
            "marker": {
             "colorbar": {
              "outlinewidth": 0,
              "ticks": ""
             }
            },
            "type": "scatterpolar"
           }
          ],
          "scatterpolargl": [
           {
            "marker": {
             "colorbar": {
              "outlinewidth": 0,
              "ticks": ""
             }
            },
            "type": "scatterpolargl"
           }
          ],
          "scatterternary": [
           {
            "marker": {
             "colorbar": {
              "outlinewidth": 0,
              "ticks": ""
             }
            },
            "type": "scatterternary"
           }
          ],
          "surface": [
           {
            "colorbar": {
             "outlinewidth": 0,
             "ticks": ""
            },
            "colorscale": [
             [
              0,
              "#0d0887"
             ],
             [
              0.1111111111111111,
              "#46039f"
             ],
             [
              0.2222222222222222,
              "#7201a8"
             ],
             [
              0.3333333333333333,
              "#9c179e"
             ],
             [
              0.4444444444444444,
              "#bd3786"
             ],
             [
              0.5555555555555556,
              "#d8576b"
             ],
             [
              0.6666666666666666,
              "#ed7953"
             ],
             [
              0.7777777777777778,
              "#fb9f3a"
             ],
             [
              0.8888888888888888,
              "#fdca26"
             ],
             [
              1,
              "#f0f921"
             ]
            ],
            "type": "surface"
           }
          ],
          "table": [
           {
            "cells": {
             "fill": {
              "color": "#EBF0F8"
             },
             "line": {
              "color": "white"
             }
            },
            "header": {
             "fill": {
              "color": "#C8D4E3"
             },
             "line": {
              "color": "white"
             }
            },
            "type": "table"
           }
          ]
         },
         "layout": {
          "annotationdefaults": {
           "arrowcolor": "#2a3f5f",
           "arrowhead": 0,
           "arrowwidth": 1
          },
          "autotypenumbers": "strict",
          "coloraxis": {
           "colorbar": {
            "outlinewidth": 0,
            "ticks": ""
           }
          },
          "colorscale": {
           "diverging": [
            [
             0,
             "#8e0152"
            ],
            [
             0.1,
             "#c51b7d"
            ],
            [
             0.2,
             "#de77ae"
            ],
            [
             0.3,
             "#f1b6da"
            ],
            [
             0.4,
             "#fde0ef"
            ],
            [
             0.5,
             "#f7f7f7"
            ],
            [
             0.6,
             "#e6f5d0"
            ],
            [
             0.7,
             "#b8e186"
            ],
            [
             0.8,
             "#7fbc41"
            ],
            [
             0.9,
             "#4d9221"
            ],
            [
             1,
             "#276419"
            ]
           ],
           "sequential": [
            [
             0,
             "#0d0887"
            ],
            [
             0.1111111111111111,
             "#46039f"
            ],
            [
             0.2222222222222222,
             "#7201a8"
            ],
            [
             0.3333333333333333,
             "#9c179e"
            ],
            [
             0.4444444444444444,
             "#bd3786"
            ],
            [
             0.5555555555555556,
             "#d8576b"
            ],
            [
             0.6666666666666666,
             "#ed7953"
            ],
            [
             0.7777777777777778,
             "#fb9f3a"
            ],
            [
             0.8888888888888888,
             "#fdca26"
            ],
            [
             1,
             "#f0f921"
            ]
           ],
           "sequentialminus": [
            [
             0,
             "#0d0887"
            ],
            [
             0.1111111111111111,
             "#46039f"
            ],
            [
             0.2222222222222222,
             "#7201a8"
            ],
            [
             0.3333333333333333,
             "#9c179e"
            ],
            [
             0.4444444444444444,
             "#bd3786"
            ],
            [
             0.5555555555555556,
             "#d8576b"
            ],
            [
             0.6666666666666666,
             "#ed7953"
            ],
            [
             0.7777777777777778,
             "#fb9f3a"
            ],
            [
             0.8888888888888888,
             "#fdca26"
            ],
            [
             1,
             "#f0f921"
            ]
           ]
          },
          "colorway": [
           "#636efa",
           "#EF553B",
           "#00cc96",
           "#ab63fa",
           "#FFA15A",
           "#19d3f3",
           "#FF6692",
           "#B6E880",
           "#FF97FF",
           "#FECB52"
          ],
          "font": {
           "color": "#2a3f5f"
          },
          "geo": {
           "bgcolor": "white",
           "lakecolor": "white",
           "landcolor": "#E5ECF6",
           "showlakes": true,
           "showland": true,
           "subunitcolor": "white"
          },
          "hoverlabel": {
           "align": "left"
          },
          "hovermode": "closest",
          "mapbox": {
           "style": "light"
          },
          "paper_bgcolor": "white",
          "plot_bgcolor": "#E5ECF6",
          "polar": {
           "angularaxis": {
            "gridcolor": "white",
            "linecolor": "white",
            "ticks": ""
           },
           "bgcolor": "#E5ECF6",
           "radialaxis": {
            "gridcolor": "white",
            "linecolor": "white",
            "ticks": ""
           }
          },
          "scene": {
           "xaxis": {
            "backgroundcolor": "#E5ECF6",
            "gridcolor": "white",
            "gridwidth": 2,
            "linecolor": "white",
            "showbackground": true,
            "ticks": "",
            "zerolinecolor": "white"
           },
           "yaxis": {
            "backgroundcolor": "#E5ECF6",
            "gridcolor": "white",
            "gridwidth": 2,
            "linecolor": "white",
            "showbackground": true,
            "ticks": "",
            "zerolinecolor": "white"
           },
           "zaxis": {
            "backgroundcolor": "#E5ECF6",
            "gridcolor": "white",
            "gridwidth": 2,
            "linecolor": "white",
            "showbackground": true,
            "ticks": "",
            "zerolinecolor": "white"
           }
          },
          "shapedefaults": {
           "line": {
            "color": "#2a3f5f"
           }
          },
          "ternary": {
           "aaxis": {
            "gridcolor": "white",
            "linecolor": "white",
            "ticks": ""
           },
           "baxis": {
            "gridcolor": "white",
            "linecolor": "white",
            "ticks": ""
           },
           "bgcolor": "#E5ECF6",
           "caxis": {
            "gridcolor": "white",
            "linecolor": "white",
            "ticks": ""
           }
          },
          "title": {
           "x": 0.05
          },
          "xaxis": {
           "automargin": true,
           "gridcolor": "white",
           "linecolor": "white",
           "ticks": "",
           "title": {
            "standoff": 15
           },
           "zerolinecolor": "white",
           "zerolinewidth": 2
          },
          "yaxis": {
           "automargin": true,
           "gridcolor": "white",
           "linecolor": "white",
           "ticks": "",
           "title": {
            "standoff": 15
           },
           "zerolinecolor": "white",
           "zerolinewidth": 2
          }
         }
        },
        "title": {
         "text": "Distribution of Fat_g"
        },
        "xaxis": {
         "anchor": "y",
         "domain": [
          0,
          1
         ],
         "title": {
          "text": "Fat_g"
         }
        },
        "yaxis": {
         "anchor": "x",
         "domain": [
          0,
          1
         ],
         "title": {
          "text": "Count"
         }
        }
       }
      }
     },
     "metadata": {},
     "output_type": "display_data"
    }
   ],
   "source": [
    "# Columns to test are Fat_g, protein_g, sugar_g,calcium_mg, VitB6_mg\n",
    "\n",
    "column = 'Fat_g'\n",
    "\n",
    "fig = px.histogram(df, x= column, nbins=30)\n",
    "\n",
    "fig.update_layout(\n",
    "    title=\"Distribution of \" + column,\n",
    "    xaxis_title=column,\n",
    "    yaxis_title=\"Count\"\n",
    ")"
   ]
  },
  {
   "cell_type": "code",
   "execution_count": 277,
   "metadata": {},
   "outputs": [
    {
     "data": {
      "application/vnd.plotly.v1+json": {
       "config": {
        "plotlyServerURL": "https://plot.ly"
       },
       "data": [
        {
         "alignmentgroup": "True",
         "bingroup": "x",
         "hovertemplate": "Protein_g=%{x}<br>count=%{y}<extra></extra>",
         "legendgroup": "",
         "marker": {
          "color": "#636efa",
          "pattern": {
           "shape": ""
          }
         },
         "name": "",
         "nbinsx": 30,
         "offsetgroup": "",
         "orientation": "v",
         "showlegend": false,
         "type": "histogram",
         "x": [
          19.66,
          3.2,
          4.41,
          3.15,
          3.15,
          3.53,
          9.07,
          2.99,
          2.07,
          10.19,
          10.45,
          3.17,
          3.25,
          3.52,
          3.24,
          9.15,
          21.44,
          3.28,
          3.47,
          3.33,
          3.33,
          23.37,
          18.13,
          3.3,
          3.3,
          3.37,
          3.37,
          7,
          5.25,
          3.5,
          32.14,
          3.86,
          3.86,
          15.69,
          5.73,
          23.63,
          16.86,
          16.86,
          4.1,
          5.21,
          0.69,
          2.11,
          4.29,
          26.32,
          26.32,
          3.7,
          4.29,
          9.65,
          5.71,
          35.5,
          36.16,
          36.16,
          26.93,
          28.42,
          30.52,
          28.4,
          29.81,
          18.13,
          31.8,
          20,
          24.69,
          35.75,
          35.1,
          35.1,
          37.86,
          18.52,
          21.58,
          20.75,
          19.8,
          20.05,
          23.78,
          24.48,
          23.41,
          24.04,
          24.99,
          25.6,
          22.13,
          24.55,
          24.35,
          21.54,
          24.51,
          24.73,
          24.25,
          25.58,
          22.17,
          24.94,
          21.4,
          20.38,
          23.76,
          12.39,
          24.26,
          2.05,
          23.24,
          22.6,
          2.17,
          18.09,
          11.26,
          25.18,
          11.12,
          24.7,
          2.7,
          27.35,
          5.93,
          14.21,
          2.94,
          2.96,
          3.56,
          3.1,
          21.92,
          10.69,
          3.48,
          3.48,
          3.37,
          3.37,
          3.57,
          11.39,
          10.98,
          3.75,
          5.98,
          10.33,
          3.95,
          3.95,
          3.93,
          3.96,
          3.87,
          21.56,
          2.4,
          10.34,
          1.03,
          16.41,
          2.6,
          6.81,
          6.81,
          21.05,
          17.6,
          13.41,
          7.55,
          1,
          1,
          8.03,
          8.25,
          2.99,
          8.03,
          8.12,
          4.93,
          4.93,
          4.93,
          3.1,
          4.86,
          4.86,
          4.86,
          3.98,
          3.98,
          4.4,
          4.37,
          4.37,
          4.4,
          4.1,
          3.36,
          3.53,
          11.47,
          7.91,
          4.79,
          0.68,
          8.05,
          5.02,
          4.8,
          3.47,
          2.11,
          4.78,
          4.91,
          3.95
         ],
         "xaxis": "x",
         "yaxis": "y"
        }
       ],
       "layout": {
        "barmode": "relative",
        "legend": {
         "tracegroupgap": 0
        },
        "margin": {
         "t": 60
        },
        "template": {
         "data": {
          "bar": [
           {
            "error_x": {
             "color": "#2a3f5f"
            },
            "error_y": {
             "color": "#2a3f5f"
            },
            "marker": {
             "line": {
              "color": "#E5ECF6",
              "width": 0.5
             },
             "pattern": {
              "fillmode": "overlay",
              "size": 10,
              "solidity": 0.2
             }
            },
            "type": "bar"
           }
          ],
          "barpolar": [
           {
            "marker": {
             "line": {
              "color": "#E5ECF6",
              "width": 0.5
             },
             "pattern": {
              "fillmode": "overlay",
              "size": 10,
              "solidity": 0.2
             }
            },
            "type": "barpolar"
           }
          ],
          "carpet": [
           {
            "aaxis": {
             "endlinecolor": "#2a3f5f",
             "gridcolor": "white",
             "linecolor": "white",
             "minorgridcolor": "white",
             "startlinecolor": "#2a3f5f"
            },
            "baxis": {
             "endlinecolor": "#2a3f5f",
             "gridcolor": "white",
             "linecolor": "white",
             "minorgridcolor": "white",
             "startlinecolor": "#2a3f5f"
            },
            "type": "carpet"
           }
          ],
          "choropleth": [
           {
            "colorbar": {
             "outlinewidth": 0,
             "ticks": ""
            },
            "type": "choropleth"
           }
          ],
          "contour": [
           {
            "colorbar": {
             "outlinewidth": 0,
             "ticks": ""
            },
            "colorscale": [
             [
              0,
              "#0d0887"
             ],
             [
              0.1111111111111111,
              "#46039f"
             ],
             [
              0.2222222222222222,
              "#7201a8"
             ],
             [
              0.3333333333333333,
              "#9c179e"
             ],
             [
              0.4444444444444444,
              "#bd3786"
             ],
             [
              0.5555555555555556,
              "#d8576b"
             ],
             [
              0.6666666666666666,
              "#ed7953"
             ],
             [
              0.7777777777777778,
              "#fb9f3a"
             ],
             [
              0.8888888888888888,
              "#fdca26"
             ],
             [
              1,
              "#f0f921"
             ]
            ],
            "type": "contour"
           }
          ],
          "contourcarpet": [
           {
            "colorbar": {
             "outlinewidth": 0,
             "ticks": ""
            },
            "type": "contourcarpet"
           }
          ],
          "heatmap": [
           {
            "colorbar": {
             "outlinewidth": 0,
             "ticks": ""
            },
            "colorscale": [
             [
              0,
              "#0d0887"
             ],
             [
              0.1111111111111111,
              "#46039f"
             ],
             [
              0.2222222222222222,
              "#7201a8"
             ],
             [
              0.3333333333333333,
              "#9c179e"
             ],
             [
              0.4444444444444444,
              "#bd3786"
             ],
             [
              0.5555555555555556,
              "#d8576b"
             ],
             [
              0.6666666666666666,
              "#ed7953"
             ],
             [
              0.7777777777777778,
              "#fb9f3a"
             ],
             [
              0.8888888888888888,
              "#fdca26"
             ],
             [
              1,
              "#f0f921"
             ]
            ],
            "type": "heatmap"
           }
          ],
          "heatmapgl": [
           {
            "colorbar": {
             "outlinewidth": 0,
             "ticks": ""
            },
            "colorscale": [
             [
              0,
              "#0d0887"
             ],
             [
              0.1111111111111111,
              "#46039f"
             ],
             [
              0.2222222222222222,
              "#7201a8"
             ],
             [
              0.3333333333333333,
              "#9c179e"
             ],
             [
              0.4444444444444444,
              "#bd3786"
             ],
             [
              0.5555555555555556,
              "#d8576b"
             ],
             [
              0.6666666666666666,
              "#ed7953"
             ],
             [
              0.7777777777777778,
              "#fb9f3a"
             ],
             [
              0.8888888888888888,
              "#fdca26"
             ],
             [
              1,
              "#f0f921"
             ]
            ],
            "type": "heatmapgl"
           }
          ],
          "histogram": [
           {
            "marker": {
             "pattern": {
              "fillmode": "overlay",
              "size": 10,
              "solidity": 0.2
             }
            },
            "type": "histogram"
           }
          ],
          "histogram2d": [
           {
            "colorbar": {
             "outlinewidth": 0,
             "ticks": ""
            },
            "colorscale": [
             [
              0,
              "#0d0887"
             ],
             [
              0.1111111111111111,
              "#46039f"
             ],
             [
              0.2222222222222222,
              "#7201a8"
             ],
             [
              0.3333333333333333,
              "#9c179e"
             ],
             [
              0.4444444444444444,
              "#bd3786"
             ],
             [
              0.5555555555555556,
              "#d8576b"
             ],
             [
              0.6666666666666666,
              "#ed7953"
             ],
             [
              0.7777777777777778,
              "#fb9f3a"
             ],
             [
              0.8888888888888888,
              "#fdca26"
             ],
             [
              1,
              "#f0f921"
             ]
            ],
            "type": "histogram2d"
           }
          ],
          "histogram2dcontour": [
           {
            "colorbar": {
             "outlinewidth": 0,
             "ticks": ""
            },
            "colorscale": [
             [
              0,
              "#0d0887"
             ],
             [
              0.1111111111111111,
              "#46039f"
             ],
             [
              0.2222222222222222,
              "#7201a8"
             ],
             [
              0.3333333333333333,
              "#9c179e"
             ],
             [
              0.4444444444444444,
              "#bd3786"
             ],
             [
              0.5555555555555556,
              "#d8576b"
             ],
             [
              0.6666666666666666,
              "#ed7953"
             ],
             [
              0.7777777777777778,
              "#fb9f3a"
             ],
             [
              0.8888888888888888,
              "#fdca26"
             ],
             [
              1,
              "#f0f921"
             ]
            ],
            "type": "histogram2dcontour"
           }
          ],
          "mesh3d": [
           {
            "colorbar": {
             "outlinewidth": 0,
             "ticks": ""
            },
            "type": "mesh3d"
           }
          ],
          "parcoords": [
           {
            "line": {
             "colorbar": {
              "outlinewidth": 0,
              "ticks": ""
             }
            },
            "type": "parcoords"
           }
          ],
          "pie": [
           {
            "automargin": true,
            "type": "pie"
           }
          ],
          "scatter": [
           {
            "fillpattern": {
             "fillmode": "overlay",
             "size": 10,
             "solidity": 0.2
            },
            "type": "scatter"
           }
          ],
          "scatter3d": [
           {
            "line": {
             "colorbar": {
              "outlinewidth": 0,
              "ticks": ""
             }
            },
            "marker": {
             "colorbar": {
              "outlinewidth": 0,
              "ticks": ""
             }
            },
            "type": "scatter3d"
           }
          ],
          "scattercarpet": [
           {
            "marker": {
             "colorbar": {
              "outlinewidth": 0,
              "ticks": ""
             }
            },
            "type": "scattercarpet"
           }
          ],
          "scattergeo": [
           {
            "marker": {
             "colorbar": {
              "outlinewidth": 0,
              "ticks": ""
             }
            },
            "type": "scattergeo"
           }
          ],
          "scattergl": [
           {
            "marker": {
             "colorbar": {
              "outlinewidth": 0,
              "ticks": ""
             }
            },
            "type": "scattergl"
           }
          ],
          "scattermapbox": [
           {
            "marker": {
             "colorbar": {
              "outlinewidth": 0,
              "ticks": ""
             }
            },
            "type": "scattermapbox"
           }
          ],
          "scatterpolar": [
           {
            "marker": {
             "colorbar": {
              "outlinewidth": 0,
              "ticks": ""
             }
            },
            "type": "scatterpolar"
           }
          ],
          "scatterpolargl": [
           {
            "marker": {
             "colorbar": {
              "outlinewidth": 0,
              "ticks": ""
             }
            },
            "type": "scatterpolargl"
           }
          ],
          "scatterternary": [
           {
            "marker": {
             "colorbar": {
              "outlinewidth": 0,
              "ticks": ""
             }
            },
            "type": "scatterternary"
           }
          ],
          "surface": [
           {
            "colorbar": {
             "outlinewidth": 0,
             "ticks": ""
            },
            "colorscale": [
             [
              0,
              "#0d0887"
             ],
             [
              0.1111111111111111,
              "#46039f"
             ],
             [
              0.2222222222222222,
              "#7201a8"
             ],
             [
              0.3333333333333333,
              "#9c179e"
             ],
             [
              0.4444444444444444,
              "#bd3786"
             ],
             [
              0.5555555555555556,
              "#d8576b"
             ],
             [
              0.6666666666666666,
              "#ed7953"
             ],
             [
              0.7777777777777778,
              "#fb9f3a"
             ],
             [
              0.8888888888888888,
              "#fdca26"
             ],
             [
              1,
              "#f0f921"
             ]
            ],
            "type": "surface"
           }
          ],
          "table": [
           {
            "cells": {
             "fill": {
              "color": "#EBF0F8"
             },
             "line": {
              "color": "white"
             }
            },
            "header": {
             "fill": {
              "color": "#C8D4E3"
             },
             "line": {
              "color": "white"
             }
            },
            "type": "table"
           }
          ]
         },
         "layout": {
          "annotationdefaults": {
           "arrowcolor": "#2a3f5f",
           "arrowhead": 0,
           "arrowwidth": 1
          },
          "autotypenumbers": "strict",
          "coloraxis": {
           "colorbar": {
            "outlinewidth": 0,
            "ticks": ""
           }
          },
          "colorscale": {
           "diverging": [
            [
             0,
             "#8e0152"
            ],
            [
             0.1,
             "#c51b7d"
            ],
            [
             0.2,
             "#de77ae"
            ],
            [
             0.3,
             "#f1b6da"
            ],
            [
             0.4,
             "#fde0ef"
            ],
            [
             0.5,
             "#f7f7f7"
            ],
            [
             0.6,
             "#e6f5d0"
            ],
            [
             0.7,
             "#b8e186"
            ],
            [
             0.8,
             "#7fbc41"
            ],
            [
             0.9,
             "#4d9221"
            ],
            [
             1,
             "#276419"
            ]
           ],
           "sequential": [
            [
             0,
             "#0d0887"
            ],
            [
             0.1111111111111111,
             "#46039f"
            ],
            [
             0.2222222222222222,
             "#7201a8"
            ],
            [
             0.3333333333333333,
             "#9c179e"
            ],
            [
             0.4444444444444444,
             "#bd3786"
            ],
            [
             0.5555555555555556,
             "#d8576b"
            ],
            [
             0.6666666666666666,
             "#ed7953"
            ],
            [
             0.7777777777777778,
             "#fb9f3a"
            ],
            [
             0.8888888888888888,
             "#fdca26"
            ],
            [
             1,
             "#f0f921"
            ]
           ],
           "sequentialminus": [
            [
             0,
             "#0d0887"
            ],
            [
             0.1111111111111111,
             "#46039f"
            ],
            [
             0.2222222222222222,
             "#7201a8"
            ],
            [
             0.3333333333333333,
             "#9c179e"
            ],
            [
             0.4444444444444444,
             "#bd3786"
            ],
            [
             0.5555555555555556,
             "#d8576b"
            ],
            [
             0.6666666666666666,
             "#ed7953"
            ],
            [
             0.7777777777777778,
             "#fb9f3a"
            ],
            [
             0.8888888888888888,
             "#fdca26"
            ],
            [
             1,
             "#f0f921"
            ]
           ]
          },
          "colorway": [
           "#636efa",
           "#EF553B",
           "#00cc96",
           "#ab63fa",
           "#FFA15A",
           "#19d3f3",
           "#FF6692",
           "#B6E880",
           "#FF97FF",
           "#FECB52"
          ],
          "font": {
           "color": "#2a3f5f"
          },
          "geo": {
           "bgcolor": "white",
           "lakecolor": "white",
           "landcolor": "#E5ECF6",
           "showlakes": true,
           "showland": true,
           "subunitcolor": "white"
          },
          "hoverlabel": {
           "align": "left"
          },
          "hovermode": "closest",
          "mapbox": {
           "style": "light"
          },
          "paper_bgcolor": "white",
          "plot_bgcolor": "#E5ECF6",
          "polar": {
           "angularaxis": {
            "gridcolor": "white",
            "linecolor": "white",
            "ticks": ""
           },
           "bgcolor": "#E5ECF6",
           "radialaxis": {
            "gridcolor": "white",
            "linecolor": "white",
            "ticks": ""
           }
          },
          "scene": {
           "xaxis": {
            "backgroundcolor": "#E5ECF6",
            "gridcolor": "white",
            "gridwidth": 2,
            "linecolor": "white",
            "showbackground": true,
            "ticks": "",
            "zerolinecolor": "white"
           },
           "yaxis": {
            "backgroundcolor": "#E5ECF6",
            "gridcolor": "white",
            "gridwidth": 2,
            "linecolor": "white",
            "showbackground": true,
            "ticks": "",
            "zerolinecolor": "white"
           },
           "zaxis": {
            "backgroundcolor": "#E5ECF6",
            "gridcolor": "white",
            "gridwidth": 2,
            "linecolor": "white",
            "showbackground": true,
            "ticks": "",
            "zerolinecolor": "white"
           }
          },
          "shapedefaults": {
           "line": {
            "color": "#2a3f5f"
           }
          },
          "ternary": {
           "aaxis": {
            "gridcolor": "white",
            "linecolor": "white",
            "ticks": ""
           },
           "baxis": {
            "gridcolor": "white",
            "linecolor": "white",
            "ticks": ""
           },
           "bgcolor": "#E5ECF6",
           "caxis": {
            "gridcolor": "white",
            "linecolor": "white",
            "ticks": ""
           }
          },
          "title": {
           "x": 0.05
          },
          "xaxis": {
           "automargin": true,
           "gridcolor": "white",
           "linecolor": "white",
           "ticks": "",
           "title": {
            "standoff": 15
           },
           "zerolinecolor": "white",
           "zerolinewidth": 2
          },
          "yaxis": {
           "automargin": true,
           "gridcolor": "white",
           "linecolor": "white",
           "ticks": "",
           "title": {
            "standoff": 15
           },
           "zerolinecolor": "white",
           "zerolinewidth": 2
          }
         }
        },
        "title": {
         "text": "Distribution of Protein_g"
        },
        "xaxis": {
         "anchor": "y",
         "domain": [
          0,
          1
         ],
         "title": {
          "text": "Protein_g"
         }
        },
        "yaxis": {
         "anchor": "x",
         "domain": [
          0,
          1
         ],
         "title": {
          "text": "Count"
         }
        }
       }
      }
     },
     "metadata": {},
     "output_type": "display_data"
    }
   ],
   "source": [
    "column = 'Protein_g'\n",
    "\n",
    "fig = px.histogram(df, x= column, nbins=30)\n",
    "\n",
    "fig.update_layout(\n",
    "    title=\"Distribution of \" + column,\n",
    "    xaxis_title=column,\n",
    "    yaxis_title=\"Count\"\n",
    ")"
   ]
  },
  {
   "cell_type": "code",
   "execution_count": 278,
   "metadata": {},
   "outputs": [
    {
     "data": {
      "application/vnd.plotly.v1+json": {
       "config": {
        "plotlyServerURL": "https://plot.ly"
       },
       "data": [
        {
         "alignmentgroup": "True",
         "bingroup": "x",
         "hovertemplate": "Carb_g=%{x}<br>count=%{y}<extra></extra>",
         "legendgroup": "",
         "marker": {
          "color": "#636efa",
          "pattern": {
           "shape": ""
          }
         },
         "name": "",
         "nbinsx": 30,
         "offsetgroup": "",
         "orientation": "v",
         "showlegend": false,
         "type": "histogram",
         "x": [
          8.32,
          12.49,
          27.94,
          4.8,
          4.78,
          23.53,
          8.09,
          12.13,
          2.88,
          3.6,
          4.76,
          10.34,
          4.68,
          10.74,
          12.6,
          3.59,
          4.63,
          4.65,
          4.66,
          4.74,
          4.74,
          4.78,
          4.78,
          4.8,
          4.8,
          4.96,
          4.96,
          7,
          7.04,
          7.1,
          7.14,
          7.5,
          7.5,
          7.66,
          7.68,
          8.06,
          8.56,
          8.56,
          24.5,
          34.38,
          35.07,
          37.12,
          37.14,
          38.42,
          38.42,
          39.6,
          39.64,
          42.65,
          42.86,
          51.8,
          51.98,
          51.98,
          5.38,
          13.91,
          2.17,
          3.4,
          0.36,
          3.7,
          3.63,
          1.37,
          3.41,
          3.22,
          52.19,
          52.19,
          3.41,
          0,
          0.12,
          0.45,
          0.46,
          0.49,
          0.57,
          0.68,
          1.12,
          1.33,
          1.43,
          1.55,
          1.73,
          1.57,
          1.91,
          2,
          2.04,
          2.1,
          2.13,
          2.14,
          2.19,
          2.22,
          2.34,
          2.53,
          2.57,
          2.72,
          2.77,
          2.79,
          2.79,
          2.87,
          2.96,
          2.98,
          3.04,
          3.06,
          3.38,
          3.5,
          3.66,
          4.06,
          4.07,
          4.09,
          4.26,
          4.3,
          4.45,
          4.46,
          4.5,
          4.61,
          4.97,
          4.97,
          4.99,
          4.99,
          5.02,
          5.14,
          5.24,
          5.18,
          5.36,
          5.48,
          5.49,
          5.49,
          5.52,
          5.56,
          4.68,
          5.56,
          6.63,
          6.66,
          6.89,
          8.73,
          9,
          10.04,
          10.04,
          10.53,
          10.6,
          10.71,
          11.35,
          11.38,
          11.38,
          11.62,
          11.67,
          12.13,
          12.53,
          12.72,
          13.8,
          13.8,
          13.8,
          15.6,
          18.6,
          18.6,
          18.6,
          18.64,
          18.64,
          19,
          19.05,
          19.05,
          19.7,
          22.2,
          23.15,
          23.53,
          23.67,
          54.4,
          53.92,
          75.42,
          12.65,
          12.9,
          18.2,
          4.88,
          2.88,
          17.9,
          18.6,
          18.77
         ],
         "xaxis": "x",
         "yaxis": "y"
        }
       ],
       "layout": {
        "barmode": "relative",
        "legend": {
         "tracegroupgap": 0
        },
        "margin": {
         "t": 60
        },
        "template": {
         "data": {
          "bar": [
           {
            "error_x": {
             "color": "#2a3f5f"
            },
            "error_y": {
             "color": "#2a3f5f"
            },
            "marker": {
             "line": {
              "color": "#E5ECF6",
              "width": 0.5
             },
             "pattern": {
              "fillmode": "overlay",
              "size": 10,
              "solidity": 0.2
             }
            },
            "type": "bar"
           }
          ],
          "barpolar": [
           {
            "marker": {
             "line": {
              "color": "#E5ECF6",
              "width": 0.5
             },
             "pattern": {
              "fillmode": "overlay",
              "size": 10,
              "solidity": 0.2
             }
            },
            "type": "barpolar"
           }
          ],
          "carpet": [
           {
            "aaxis": {
             "endlinecolor": "#2a3f5f",
             "gridcolor": "white",
             "linecolor": "white",
             "minorgridcolor": "white",
             "startlinecolor": "#2a3f5f"
            },
            "baxis": {
             "endlinecolor": "#2a3f5f",
             "gridcolor": "white",
             "linecolor": "white",
             "minorgridcolor": "white",
             "startlinecolor": "#2a3f5f"
            },
            "type": "carpet"
           }
          ],
          "choropleth": [
           {
            "colorbar": {
             "outlinewidth": 0,
             "ticks": ""
            },
            "type": "choropleth"
           }
          ],
          "contour": [
           {
            "colorbar": {
             "outlinewidth": 0,
             "ticks": ""
            },
            "colorscale": [
             [
              0,
              "#0d0887"
             ],
             [
              0.1111111111111111,
              "#46039f"
             ],
             [
              0.2222222222222222,
              "#7201a8"
             ],
             [
              0.3333333333333333,
              "#9c179e"
             ],
             [
              0.4444444444444444,
              "#bd3786"
             ],
             [
              0.5555555555555556,
              "#d8576b"
             ],
             [
              0.6666666666666666,
              "#ed7953"
             ],
             [
              0.7777777777777778,
              "#fb9f3a"
             ],
             [
              0.8888888888888888,
              "#fdca26"
             ],
             [
              1,
              "#f0f921"
             ]
            ],
            "type": "contour"
           }
          ],
          "contourcarpet": [
           {
            "colorbar": {
             "outlinewidth": 0,
             "ticks": ""
            },
            "type": "contourcarpet"
           }
          ],
          "heatmap": [
           {
            "colorbar": {
             "outlinewidth": 0,
             "ticks": ""
            },
            "colorscale": [
             [
              0,
              "#0d0887"
             ],
             [
              0.1111111111111111,
              "#46039f"
             ],
             [
              0.2222222222222222,
              "#7201a8"
             ],
             [
              0.3333333333333333,
              "#9c179e"
             ],
             [
              0.4444444444444444,
              "#bd3786"
             ],
             [
              0.5555555555555556,
              "#d8576b"
             ],
             [
              0.6666666666666666,
              "#ed7953"
             ],
             [
              0.7777777777777778,
              "#fb9f3a"
             ],
             [
              0.8888888888888888,
              "#fdca26"
             ],
             [
              1,
              "#f0f921"
             ]
            ],
            "type": "heatmap"
           }
          ],
          "heatmapgl": [
           {
            "colorbar": {
             "outlinewidth": 0,
             "ticks": ""
            },
            "colorscale": [
             [
              0,
              "#0d0887"
             ],
             [
              0.1111111111111111,
              "#46039f"
             ],
             [
              0.2222222222222222,
              "#7201a8"
             ],
             [
              0.3333333333333333,
              "#9c179e"
             ],
             [
              0.4444444444444444,
              "#bd3786"
             ],
             [
              0.5555555555555556,
              "#d8576b"
             ],
             [
              0.6666666666666666,
              "#ed7953"
             ],
             [
              0.7777777777777778,
              "#fb9f3a"
             ],
             [
              0.8888888888888888,
              "#fdca26"
             ],
             [
              1,
              "#f0f921"
             ]
            ],
            "type": "heatmapgl"
           }
          ],
          "histogram": [
           {
            "marker": {
             "pattern": {
              "fillmode": "overlay",
              "size": 10,
              "solidity": 0.2
             }
            },
            "type": "histogram"
           }
          ],
          "histogram2d": [
           {
            "colorbar": {
             "outlinewidth": 0,
             "ticks": ""
            },
            "colorscale": [
             [
              0,
              "#0d0887"
             ],
             [
              0.1111111111111111,
              "#46039f"
             ],
             [
              0.2222222222222222,
              "#7201a8"
             ],
             [
              0.3333333333333333,
              "#9c179e"
             ],
             [
              0.4444444444444444,
              "#bd3786"
             ],
             [
              0.5555555555555556,
              "#d8576b"
             ],
             [
              0.6666666666666666,
              "#ed7953"
             ],
             [
              0.7777777777777778,
              "#fb9f3a"
             ],
             [
              0.8888888888888888,
              "#fdca26"
             ],
             [
              1,
              "#f0f921"
             ]
            ],
            "type": "histogram2d"
           }
          ],
          "histogram2dcontour": [
           {
            "colorbar": {
             "outlinewidth": 0,
             "ticks": ""
            },
            "colorscale": [
             [
              0,
              "#0d0887"
             ],
             [
              0.1111111111111111,
              "#46039f"
             ],
             [
              0.2222222222222222,
              "#7201a8"
             ],
             [
              0.3333333333333333,
              "#9c179e"
             ],
             [
              0.4444444444444444,
              "#bd3786"
             ],
             [
              0.5555555555555556,
              "#d8576b"
             ],
             [
              0.6666666666666666,
              "#ed7953"
             ],
             [
              0.7777777777777778,
              "#fb9f3a"
             ],
             [
              0.8888888888888888,
              "#fdca26"
             ],
             [
              1,
              "#f0f921"
             ]
            ],
            "type": "histogram2dcontour"
           }
          ],
          "mesh3d": [
           {
            "colorbar": {
             "outlinewidth": 0,
             "ticks": ""
            },
            "type": "mesh3d"
           }
          ],
          "parcoords": [
           {
            "line": {
             "colorbar": {
              "outlinewidth": 0,
              "ticks": ""
             }
            },
            "type": "parcoords"
           }
          ],
          "pie": [
           {
            "automargin": true,
            "type": "pie"
           }
          ],
          "scatter": [
           {
            "fillpattern": {
             "fillmode": "overlay",
             "size": 10,
             "solidity": 0.2
            },
            "type": "scatter"
           }
          ],
          "scatter3d": [
           {
            "line": {
             "colorbar": {
              "outlinewidth": 0,
              "ticks": ""
             }
            },
            "marker": {
             "colorbar": {
              "outlinewidth": 0,
              "ticks": ""
             }
            },
            "type": "scatter3d"
           }
          ],
          "scattercarpet": [
           {
            "marker": {
             "colorbar": {
              "outlinewidth": 0,
              "ticks": ""
             }
            },
            "type": "scattercarpet"
           }
          ],
          "scattergeo": [
           {
            "marker": {
             "colorbar": {
              "outlinewidth": 0,
              "ticks": ""
             }
            },
            "type": "scattergeo"
           }
          ],
          "scattergl": [
           {
            "marker": {
             "colorbar": {
              "outlinewidth": 0,
              "ticks": ""
             }
            },
            "type": "scattergl"
           }
          ],
          "scattermapbox": [
           {
            "marker": {
             "colorbar": {
              "outlinewidth": 0,
              "ticks": ""
             }
            },
            "type": "scattermapbox"
           }
          ],
          "scatterpolar": [
           {
            "marker": {
             "colorbar": {
              "outlinewidth": 0,
              "ticks": ""
             }
            },
            "type": "scatterpolar"
           }
          ],
          "scatterpolargl": [
           {
            "marker": {
             "colorbar": {
              "outlinewidth": 0,
              "ticks": ""
             }
            },
            "type": "scatterpolargl"
           }
          ],
          "scatterternary": [
           {
            "marker": {
             "colorbar": {
              "outlinewidth": 0,
              "ticks": ""
             }
            },
            "type": "scatterternary"
           }
          ],
          "surface": [
           {
            "colorbar": {
             "outlinewidth": 0,
             "ticks": ""
            },
            "colorscale": [
             [
              0,
              "#0d0887"
             ],
             [
              0.1111111111111111,
              "#46039f"
             ],
             [
              0.2222222222222222,
              "#7201a8"
             ],
             [
              0.3333333333333333,
              "#9c179e"
             ],
             [
              0.4444444444444444,
              "#bd3786"
             ],
             [
              0.5555555555555556,
              "#d8576b"
             ],
             [
              0.6666666666666666,
              "#ed7953"
             ],
             [
              0.7777777777777778,
              "#fb9f3a"
             ],
             [
              0.8888888888888888,
              "#fdca26"
             ],
             [
              1,
              "#f0f921"
             ]
            ],
            "type": "surface"
           }
          ],
          "table": [
           {
            "cells": {
             "fill": {
              "color": "#EBF0F8"
             },
             "line": {
              "color": "white"
             }
            },
            "header": {
             "fill": {
              "color": "#C8D4E3"
             },
             "line": {
              "color": "white"
             }
            },
            "type": "table"
           }
          ]
         },
         "layout": {
          "annotationdefaults": {
           "arrowcolor": "#2a3f5f",
           "arrowhead": 0,
           "arrowwidth": 1
          },
          "autotypenumbers": "strict",
          "coloraxis": {
           "colorbar": {
            "outlinewidth": 0,
            "ticks": ""
           }
          },
          "colorscale": {
           "diverging": [
            [
             0,
             "#8e0152"
            ],
            [
             0.1,
             "#c51b7d"
            ],
            [
             0.2,
             "#de77ae"
            ],
            [
             0.3,
             "#f1b6da"
            ],
            [
             0.4,
             "#fde0ef"
            ],
            [
             0.5,
             "#f7f7f7"
            ],
            [
             0.6,
             "#e6f5d0"
            ],
            [
             0.7,
             "#b8e186"
            ],
            [
             0.8,
             "#7fbc41"
            ],
            [
             0.9,
             "#4d9221"
            ],
            [
             1,
             "#276419"
            ]
           ],
           "sequential": [
            [
             0,
             "#0d0887"
            ],
            [
             0.1111111111111111,
             "#46039f"
            ],
            [
             0.2222222222222222,
             "#7201a8"
            ],
            [
             0.3333333333333333,
             "#9c179e"
            ],
            [
             0.4444444444444444,
             "#bd3786"
            ],
            [
             0.5555555555555556,
             "#d8576b"
            ],
            [
             0.6666666666666666,
             "#ed7953"
            ],
            [
             0.7777777777777778,
             "#fb9f3a"
            ],
            [
             0.8888888888888888,
             "#fdca26"
            ],
            [
             1,
             "#f0f921"
            ]
           ],
           "sequentialminus": [
            [
             0,
             "#0d0887"
            ],
            [
             0.1111111111111111,
             "#46039f"
            ],
            [
             0.2222222222222222,
             "#7201a8"
            ],
            [
             0.3333333333333333,
             "#9c179e"
            ],
            [
             0.4444444444444444,
             "#bd3786"
            ],
            [
             0.5555555555555556,
             "#d8576b"
            ],
            [
             0.6666666666666666,
             "#ed7953"
            ],
            [
             0.7777777777777778,
             "#fb9f3a"
            ],
            [
             0.8888888888888888,
             "#fdca26"
            ],
            [
             1,
             "#f0f921"
            ]
           ]
          },
          "colorway": [
           "#636efa",
           "#EF553B",
           "#00cc96",
           "#ab63fa",
           "#FFA15A",
           "#19d3f3",
           "#FF6692",
           "#B6E880",
           "#FF97FF",
           "#FECB52"
          ],
          "font": {
           "color": "#2a3f5f"
          },
          "geo": {
           "bgcolor": "white",
           "lakecolor": "white",
           "landcolor": "#E5ECF6",
           "showlakes": true,
           "showland": true,
           "subunitcolor": "white"
          },
          "hoverlabel": {
           "align": "left"
          },
          "hovermode": "closest",
          "mapbox": {
           "style": "light"
          },
          "paper_bgcolor": "white",
          "plot_bgcolor": "#E5ECF6",
          "polar": {
           "angularaxis": {
            "gridcolor": "white",
            "linecolor": "white",
            "ticks": ""
           },
           "bgcolor": "#E5ECF6",
           "radialaxis": {
            "gridcolor": "white",
            "linecolor": "white",
            "ticks": ""
           }
          },
          "scene": {
           "xaxis": {
            "backgroundcolor": "#E5ECF6",
            "gridcolor": "white",
            "gridwidth": 2,
            "linecolor": "white",
            "showbackground": true,
            "ticks": "",
            "zerolinecolor": "white"
           },
           "yaxis": {
            "backgroundcolor": "#E5ECF6",
            "gridcolor": "white",
            "gridwidth": 2,
            "linecolor": "white",
            "showbackground": true,
            "ticks": "",
            "zerolinecolor": "white"
           },
           "zaxis": {
            "backgroundcolor": "#E5ECF6",
            "gridcolor": "white",
            "gridwidth": 2,
            "linecolor": "white",
            "showbackground": true,
            "ticks": "",
            "zerolinecolor": "white"
           }
          },
          "shapedefaults": {
           "line": {
            "color": "#2a3f5f"
           }
          },
          "ternary": {
           "aaxis": {
            "gridcolor": "white",
            "linecolor": "white",
            "ticks": ""
           },
           "baxis": {
            "gridcolor": "white",
            "linecolor": "white",
            "ticks": ""
           },
           "bgcolor": "#E5ECF6",
           "caxis": {
            "gridcolor": "white",
            "linecolor": "white",
            "ticks": ""
           }
          },
          "title": {
           "x": 0.05
          },
          "xaxis": {
           "automargin": true,
           "gridcolor": "white",
           "linecolor": "white",
           "ticks": "",
           "title": {
            "standoff": 15
           },
           "zerolinecolor": "white",
           "zerolinewidth": 2
          },
          "yaxis": {
           "automargin": true,
           "gridcolor": "white",
           "linecolor": "white",
           "ticks": "",
           "title": {
            "standoff": 15
           },
           "zerolinecolor": "white",
           "zerolinewidth": 2
          }
         }
        },
        "title": {
         "text": "Distribution of Carb_g"
        },
        "xaxis": {
         "anchor": "y",
         "domain": [
          0,
          1
         ],
         "title": {
          "text": "Carb_g"
         }
        },
        "yaxis": {
         "anchor": "x",
         "domain": [
          0,
          1
         ],
         "title": {
          "text": "Count"
         }
        }
       }
      }
     },
     "metadata": {},
     "output_type": "display_data"
    }
   ],
   "source": [
    "column = 'Carb_g'\n",
    "\n",
    "fig = px.histogram(df, x= column, nbins=30)\n",
    "\n",
    "fig.update_layout(\n",
    "    title=\"Distribution of \" + column,\n",
    "    xaxis_title=column,\n",
    "    yaxis_title=\"Count\"\n",
    ")"
   ]
  },
  {
   "cell_type": "code",
   "execution_count": 279,
   "metadata": {},
   "outputs": [],
   "source": [
    "# columns_to_transform = ['Protein_g', 'Fat_g', 'Carb_g', 'Sugar_g', 'Calcium_mg', 'VitB6_mg', 'VitB12_mcg', 'VitA_mcg']\n",
    "\n",
    "# # Apply logarithmic transformation to selected columns\n",
    "# # df[columns_to_transform] = np.log(df[columns_to_transform])\n",
    "\n",
    "# transformer = QuantileTransformer(output_distribution='normal')\n",
    "\n",
    "# df[columns_to_transform] = transformer.fit_transform(df[columns_to_transform])\n",
    "\n",
    "\n",
    "# df\n",
    "\n",
    "# instead of normalizing it we can just standardize the data"
   ]
  },
  {
   "attachments": {},
   "cell_type": "markdown",
   "metadata": {},
   "source": [
    ">Just to check if the principal componets are orthogonal"
   ]
  },
  {
   "cell_type": "code",
   "execution_count": 280,
   "metadata": {},
   "outputs": [],
   "source": [
    "# columns_to_transform = ['Protein_g', 'Fat_g', 'Carb_g', 'Sugar_g', 'Calcium_mg', 'VitB6_mg', 'VitB12_mcg', 'VitA_mcg']\n",
    "\n",
    "# pca = PCA()\n",
    "# principal_components = pca.fit_transform(df[columns_to_transform])\n",
    "\n",
    "# # Calculate correlation matrix\n",
    "# correlation_matrix = np.corrcoef(principal_components.T)\n",
    "\n",
    "# # Check for orthogonality\n",
    "# is_orthogonal = np.allclose(correlation_matrix, np.eye(correlation_matrix.shape[0]))\n",
    "# print(\"Are the principal components orthogonal?\", is_orthogonal)\n"
   ]
  },
  {
   "attachments": {},
   "cell_type": "markdown",
   "metadata": {},
   "source": [
    "---"
   ]
  },
  {
   "attachments": {},
   "cell_type": "markdown",
   "metadata": {},
   "source": [
    "**<h1>`Question 1 (A) and 1 (B)`</h1>**"
   ]
  },
  {
   "cell_type": "code",
   "execution_count": 281,
   "metadata": {},
   "outputs": [
    {
     "data": {
      "text/html": [
       "<div>\n",
       "<style scoped>\n",
       "    .dataframe tbody tr th:only-of-type {\n",
       "        vertical-align: middle;\n",
       "    }\n",
       "\n",
       "    .dataframe tbody tr th {\n",
       "        vertical-align: top;\n",
       "    }\n",
       "\n",
       "    .dataframe thead th {\n",
       "        text-align: right;\n",
       "    }\n",
       "</style>\n",
       "<table border=\"1\" class=\"dataframe\">\n",
       "  <thead>\n",
       "    <tr style=\"text-align: right;\">\n",
       "      <th></th>\n",
       "      <th>Protein_g</th>\n",
       "      <th>Fat_g</th>\n",
       "      <th>Carb_g</th>\n",
       "      <th>Sugar_g</th>\n",
       "      <th>VitA_mcg</th>\n",
       "      <th>VitB6_mg</th>\n",
       "      <th>VitB12_mcg</th>\n",
       "      <th>Calcium_mg</th>\n",
       "    </tr>\n",
       "  </thead>\n",
       "  <tbody>\n",
       "    <tr>\n",
       "      <th>0</th>\n",
       "      <td>19.66</td>\n",
       "      <td>24.46</td>\n",
       "      <td>8.32</td>\n",
       "      <td>0.00</td>\n",
       "      <td>0</td>\n",
       "      <td>0.141</td>\n",
       "      <td>1.28</td>\n",
       "      <td>497</td>\n",
       "    </tr>\n",
       "    <tr>\n",
       "      <th>1</th>\n",
       "      <td>3.20</td>\n",
       "      <td>22.22</td>\n",
       "      <td>12.49</td>\n",
       "      <td>8.00</td>\n",
       "      <td>188</td>\n",
       "      <td>0.041</td>\n",
       "      <td>0.29</td>\n",
       "      <td>101</td>\n",
       "    </tr>\n",
       "    <tr>\n",
       "      <th>2</th>\n",
       "      <td>4.41</td>\n",
       "      <td>0.00</td>\n",
       "      <td>27.94</td>\n",
       "      <td>8.82</td>\n",
       "      <td>133</td>\n",
       "      <td>0.029</td>\n",
       "      <td>0.52</td>\n",
       "      <td>147</td>\n",
       "    </tr>\n",
       "    <tr>\n",
       "      <th>3</th>\n",
       "      <td>3.15</td>\n",
       "      <td>3.25</td>\n",
       "      <td>4.80</td>\n",
       "      <td>5.05</td>\n",
       "      <td>46</td>\n",
       "      <td>0.036</td>\n",
       "      <td>0.45</td>\n",
       "      <td>113</td>\n",
       "    </tr>\n",
       "    <tr>\n",
       "      <th>4</th>\n",
       "      <td>3.15</td>\n",
       "      <td>3.27</td>\n",
       "      <td>4.78</td>\n",
       "      <td>5.05</td>\n",
       "      <td>46</td>\n",
       "      <td>0.036</td>\n",
       "      <td>0.45</td>\n",
       "      <td>113</td>\n",
       "    </tr>\n",
       "    <tr>\n",
       "      <th>...</th>\n",
       "      <td>...</td>\n",
       "      <td>...</td>\n",
       "      <td>...</td>\n",
       "      <td>...</td>\n",
       "      <td>...</td>\n",
       "      <td>...</td>\n",
       "      <td>...</td>\n",
       "      <td>...</td>\n",
       "    </tr>\n",
       "    <tr>\n",
       "      <th>167</th>\n",
       "      <td>3.47</td>\n",
       "      <td>1.06</td>\n",
       "      <td>4.88</td>\n",
       "      <td>5.30</td>\n",
       "      <td>16</td>\n",
       "      <td>0.032</td>\n",
       "      <td>0.41</td>\n",
       "      <td>120</td>\n",
       "    </tr>\n",
       "    <tr>\n",
       "      <th>168</th>\n",
       "      <td>2.11</td>\n",
       "      <td>32.00</td>\n",
       "      <td>2.88</td>\n",
       "      <td>2.88</td>\n",
       "      <td>420</td>\n",
       "      <td>0.019</td>\n",
       "      <td>0.14</td>\n",
       "      <td>62</td>\n",
       "    </tr>\n",
       "    <tr>\n",
       "      <th>169</th>\n",
       "      <td>4.78</td>\n",
       "      <td>1.39</td>\n",
       "      <td>17.90</td>\n",
       "      <td>3.10</td>\n",
       "      <td>134</td>\n",
       "      <td>0.040</td>\n",
       "      <td>0.50</td>\n",
       "      <td>169</td>\n",
       "    </tr>\n",
       "    <tr>\n",
       "      <th>170</th>\n",
       "      <td>4.91</td>\n",
       "      <td>1.43</td>\n",
       "      <td>18.60</td>\n",
       "      <td>0.00</td>\n",
       "      <td>0</td>\n",
       "      <td>0.045</td>\n",
       "      <td>0.55</td>\n",
       "      <td>171</td>\n",
       "    </tr>\n",
       "    <tr>\n",
       "      <th>171</th>\n",
       "      <td>3.95</td>\n",
       "      <td>1.12</td>\n",
       "      <td>18.77</td>\n",
       "      <td>18.77</td>\n",
       "      <td>13</td>\n",
       "      <td>0.039</td>\n",
       "      <td>0.43</td>\n",
       "      <td>138</td>\n",
       "    </tr>\n",
       "  </tbody>\n",
       "</table>\n",
       "<p>172 rows × 8 columns</p>\n",
       "</div>"
      ],
      "text/plain": [
       "     Protein_g  Fat_g  Carb_g  Sugar_g  VitA_mcg  VitB6_mg  VitB12_mcg  \\\n",
       "0        19.66  24.46    8.32     0.00         0     0.141        1.28   \n",
       "1         3.20  22.22   12.49     8.00       188     0.041        0.29   \n",
       "2         4.41   0.00   27.94     8.82       133     0.029        0.52   \n",
       "3         3.15   3.25    4.80     5.05        46     0.036        0.45   \n",
       "4         3.15   3.27    4.78     5.05        46     0.036        0.45   \n",
       "..         ...    ...     ...      ...       ...       ...         ...   \n",
       "167       3.47   1.06    4.88     5.30        16     0.032        0.41   \n",
       "168       2.11  32.00    2.88     2.88       420     0.019        0.14   \n",
       "169       4.78   1.39   17.90     3.10       134     0.040        0.50   \n",
       "170       4.91   1.43   18.60     0.00         0     0.045        0.55   \n",
       "171       3.95   1.12   18.77    18.77        13     0.039        0.43   \n",
       "\n",
       "     Calcium_mg  \n",
       "0           497  \n",
       "1           101  \n",
       "2           147  \n",
       "3           113  \n",
       "4           113  \n",
       "..          ...  \n",
       "167         120  \n",
       "168          62  \n",
       "169         169  \n",
       "170         171  \n",
       "171         138  \n",
       "\n",
       "[172 rows x 8 columns]"
      ]
     },
     "execution_count": 281,
     "metadata": {},
     "output_type": "execute_result"
    }
   ],
   "source": [
    "df = pd.read_excel('./dataset_9/dairy_nutrition_9.xlsx')\n",
    "df1 = df.drop(['Type', 'Description'], axis=1)\n",
    "df1"
   ]
  },
  {
   "attachments": {},
   "cell_type": "markdown",
   "metadata": {},
   "source": [
    ">drop the type and distribution columns so that we can feed the numerical values into PCA"
   ]
  },
  {
   "attachments": {},
   "cell_type": "markdown",
   "metadata": {},
   "source": [
    "**I Checked if the components are orthogonal or not**"
   ]
  },
  {
   "cell_type": "code",
   "execution_count": 282,
   "metadata": {},
   "outputs": [
    {
     "name": "stdout",
     "output_type": "stream",
     "text": [
      "Are the principal components orthogonal? True\n"
     ]
    }
   ],
   "source": [
    "pca = PCA()\n",
    "principal_components = pca.fit_transform(df1)\n",
    "\n",
    "# Calculate correlation matrix\n",
    "correlation_matrix = np.corrcoef(principal_components.T)\n",
    "\n",
    "# Check for orthogonality\n",
    "is_orthogonal = np.allclose(correlation_matrix, np.eye(correlation_matrix.shape[0]))\n",
    "print(\"Are the principal components orthogonal?\", is_orthogonal)\n",
    "\n"
   ]
  },
  {
   "cell_type": "code",
   "execution_count": 283,
   "metadata": {},
   "outputs": [
    {
     "data": {
      "text/html": [
       "<div>\n",
       "<style scoped>\n",
       "    .dataframe tbody tr th:only-of-type {\n",
       "        vertical-align: middle;\n",
       "    }\n",
       "\n",
       "    .dataframe tbody tr th {\n",
       "        vertical-align: top;\n",
       "    }\n",
       "\n",
       "    .dataframe thead th {\n",
       "        text-align: right;\n",
       "    }\n",
       "</style>\n",
       "<table border=\"1\" class=\"dataframe\">\n",
       "  <thead>\n",
       "    <tr style=\"text-align: right;\">\n",
       "      <th></th>\n",
       "      <th>Protein_g</th>\n",
       "      <th>Fat_g</th>\n",
       "      <th>Carb_g</th>\n",
       "      <th>Sugar_g</th>\n",
       "      <th>VitA_mcg</th>\n",
       "      <th>VitB6_mg</th>\n",
       "      <th>VitB12_mcg</th>\n",
       "      <th>Calcium_mg</th>\n",
       "    </tr>\n",
       "  </thead>\n",
       "  <tbody>\n",
       "    <tr>\n",
       "      <th>0</th>\n",
       "      <td>0.728774</td>\n",
       "      <td>0.965428</td>\n",
       "      <td>-0.241193</td>\n",
       "      <td>-0.644294</td>\n",
       "      <td>-0.928364</td>\n",
       "      <td>0.839888</td>\n",
       "      <td>0.524361</td>\n",
       "      <td>0.403531</td>\n",
       "    </tr>\n",
       "    <tr>\n",
       "      <th>1</th>\n",
       "      <td>-0.881163</td>\n",
       "      <td>0.781915</td>\n",
       "      <td>0.065740</td>\n",
       "      <td>0.028659</td>\n",
       "      <td>0.525017</td>\n",
       "      <td>-0.381974</td>\n",
       "      <td>-0.650793</td>\n",
       "      <td>-0.766505</td>\n",
       "    </tr>\n",
       "    <tr>\n",
       "      <th>2</th>\n",
       "      <td>-0.762814</td>\n",
       "      <td>-1.038466</td>\n",
       "      <td>1.202937</td>\n",
       "      <td>0.097637</td>\n",
       "      <td>0.099826</td>\n",
       "      <td>-0.528598</td>\n",
       "      <td>-0.377777</td>\n",
       "      <td>-0.630591</td>\n",
       "    </tr>\n",
       "    <tr>\n",
       "      <th>3</th>\n",
       "      <td>-0.886054</td>\n",
       "      <td>-0.772208</td>\n",
       "      <td>-0.500283</td>\n",
       "      <td>-0.219492</td>\n",
       "      <td>-0.572750</td>\n",
       "      <td>-0.443067</td>\n",
       "      <td>-0.460869</td>\n",
       "      <td>-0.731049</td>\n",
       "    </tr>\n",
       "    <tr>\n",
       "      <th>4</th>\n",
       "      <td>-0.886054</td>\n",
       "      <td>-0.770570</td>\n",
       "      <td>-0.501755</td>\n",
       "      <td>-0.219492</td>\n",
       "      <td>-0.572750</td>\n",
       "      <td>-0.443067</td>\n",
       "      <td>-0.460869</td>\n",
       "      <td>-0.731049</td>\n",
       "    </tr>\n",
       "  </tbody>\n",
       "</table>\n",
       "</div>"
      ],
      "text/plain": [
       "   Protein_g     Fat_g    Carb_g   Sugar_g  VitA_mcg  VitB6_mg  VitB12_mcg  \\\n",
       "0   0.728774  0.965428 -0.241193 -0.644294 -0.928364  0.839888    0.524361   \n",
       "1  -0.881163  0.781915  0.065740  0.028659  0.525017 -0.381974   -0.650793   \n",
       "2  -0.762814 -1.038466  1.202937  0.097637  0.099826 -0.528598   -0.377777   \n",
       "3  -0.886054 -0.772208 -0.500283 -0.219492 -0.572750 -0.443067   -0.460869   \n",
       "4  -0.886054 -0.770570 -0.501755 -0.219492 -0.572750 -0.443067   -0.460869   \n",
       "\n",
       "   Calcium_mg  \n",
       "0    0.403531  \n",
       "1   -0.766505  \n",
       "2   -0.630591  \n",
       "3   -0.731049  \n",
       "4   -0.731049  "
      ]
     },
     "execution_count": 283,
     "metadata": {},
     "output_type": "execute_result"
    }
   ],
   "source": [
    "data_standardized = (df1 - df1.mean())/df1.std()\n",
    "data_standardized.head()"
   ]
  },
  {
   "attachments": {},
   "cell_type": "markdown",
   "metadata": {},
   "source": [
    ">We standardized the data as from the analysis the data is skewed and all over the place"
   ]
  },
  {
   "cell_type": "code",
   "execution_count": 284,
   "metadata": {},
   "outputs": [],
   "source": [
    "# implementing PCA using sklearn\n",
    "from sklearn.decomposition import PCA\n",
    "\n",
    "pca = PCA(n_components=8).fit(data_standardized)\n",
    "#Note that pca.transform() returns scores based on centred data\n",
    "pca_samples = pca.transform(data_standardized)\n"
   ]
  },
  {
   "attachments": {},
   "cell_type": "markdown",
   "metadata": {},
   "source": [
    ">Implement the PCA on the data"
   ]
  },
  {
   "cell_type": "code",
   "execution_count": 285,
   "metadata": {},
   "outputs": [
    {
     "data": {
      "text/html": [
       "<div>\n",
       "<style scoped>\n",
       "    .dataframe tbody tr th:only-of-type {\n",
       "        vertical-align: middle;\n",
       "    }\n",
       "\n",
       "    .dataframe tbody tr th {\n",
       "        vertical-align: top;\n",
       "    }\n",
       "\n",
       "    .dataframe thead th {\n",
       "        text-align: right;\n",
       "    }\n",
       "</style>\n",
       "<table border=\"1\" class=\"dataframe\">\n",
       "  <thead>\n",
       "    <tr style=\"text-align: right;\">\n",
       "      <th></th>\n",
       "      <th>Eigenvalue</th>\n",
       "      <th>Explained Variance</th>\n",
       "      <th>Protein_g</th>\n",
       "      <th>Fat_g</th>\n",
       "      <th>Carb_g</th>\n",
       "      <th>Sugar_g</th>\n",
       "      <th>VitA_mcg</th>\n",
       "      <th>VitB6_mg</th>\n",
       "      <th>VitB12_mcg</th>\n",
       "      <th>Calcium_mg</th>\n",
       "    </tr>\n",
       "  </thead>\n",
       "  <tbody>\n",
       "    <tr>\n",
       "      <th>PC 1</th>\n",
       "      <td>3.7340</td>\n",
       "      <td>0.4667</td>\n",
       "      <td>0.4731</td>\n",
       "      <td>0.2974</td>\n",
       "      <td>0.0517</td>\n",
       "      <td>0.0786</td>\n",
       "      <td>0.3650</td>\n",
       "      <td>0.3601</td>\n",
       "      <td>0.4411</td>\n",
       "      <td>0.4706</td>\n",
       "    </tr>\n",
       "    <tr>\n",
       "      <th>PC 2</th>\n",
       "      <td>2.1422</td>\n",
       "      <td>0.2678</td>\n",
       "      <td>-0.1048</td>\n",
       "      <td>-0.3213</td>\n",
       "      <td>0.6244</td>\n",
       "      <td>0.6061</td>\n",
       "      <td>-0.1748</td>\n",
       "      <td>0.2503</td>\n",
       "      <td>0.1712</td>\n",
       "      <td>-0.0778</td>\n",
       "    </tr>\n",
       "    <tr>\n",
       "      <th>PC 3</th>\n",
       "      <td>0.9068</td>\n",
       "      <td>0.1134</td>\n",
       "      <td>0.1550</td>\n",
       "      <td>-0.5709</td>\n",
       "      <td>-0.2856</td>\n",
       "      <td>-0.3362</td>\n",
       "      <td>-0.4771</td>\n",
       "      <td>0.3537</td>\n",
       "      <td>0.3014</td>\n",
       "      <td>0.1095</td>\n",
       "    </tr>\n",
       "    <tr>\n",
       "      <th>PC 4</th>\n",
       "      <td>0.4683</td>\n",
       "      <td>0.0585</td>\n",
       "      <td>-0.3454</td>\n",
       "      <td>-0.0460</td>\n",
       "      <td>-0.0831</td>\n",
       "      <td>-0.1744</td>\n",
       "      <td>0.4802</td>\n",
       "      <td>0.6552</td>\n",
       "      <td>-0.0375</td>\n",
       "      <td>-0.4242</td>\n",
       "    </tr>\n",
       "    <tr>\n",
       "      <th>PC 5</th>\n",
       "      <td>0.3271</td>\n",
       "      <td>0.0409</td>\n",
       "      <td>0.0030</td>\n",
       "      <td>-0.6693</td>\n",
       "      <td>-0.0554</td>\n",
       "      <td>0.0376</td>\n",
       "      <td>0.6109</td>\n",
       "      <td>-0.3749</td>\n",
       "      <td>0.0646</td>\n",
       "      <td>0.1724</td>\n",
       "    </tr>\n",
       "    <tr>\n",
       "      <th>PC 6</th>\n",
       "      <td>0.1948</td>\n",
       "      <td>0.0243</td>\n",
       "      <td>-0.1971</td>\n",
       "      <td>0.1395</td>\n",
       "      <td>0.2573</td>\n",
       "      <td>-0.3394</td>\n",
       "      <td>0.0107</td>\n",
       "      <td>-0.3239</td>\n",
       "      <td>0.7438</td>\n",
       "      <td>-0.3194</td>\n",
       "    </tr>\n",
       "    <tr>\n",
       "      <th>PC 7</th>\n",
       "      <td>0.1478</td>\n",
       "      <td>0.0185</td>\n",
       "      <td>0.3735</td>\n",
       "      <td>-0.1012</td>\n",
       "      <td>0.6407</td>\n",
       "      <td>-0.5562</td>\n",
       "      <td>0.0527</td>\n",
       "      <td>0.0434</td>\n",
       "      <td>-0.3531</td>\n",
       "      <td>-0.0321</td>\n",
       "    </tr>\n",
       "    <tr>\n",
       "      <th>PC 8</th>\n",
       "      <td>0.0790</td>\n",
       "      <td>0.0099</td>\n",
       "      <td>-0.6660</td>\n",
       "      <td>0.0518</td>\n",
       "      <td>0.1980</td>\n",
       "      <td>-0.2387</td>\n",
       "      <td>-0.0442</td>\n",
       "      <td>0.0774</td>\n",
       "      <td>-0.0419</td>\n",
       "      <td>0.6692</td>\n",
       "    </tr>\n",
       "  </tbody>\n",
       "</table>\n",
       "</div>"
      ],
      "text/plain": [
       "      Eigenvalue  Explained Variance  Protein_g   Fat_g  Carb_g  Sugar_g  \\\n",
       "PC 1      3.7340              0.4667     0.4731  0.2974  0.0517   0.0786   \n",
       "PC 2      2.1422              0.2678    -0.1048 -0.3213  0.6244   0.6061   \n",
       "PC 3      0.9068              0.1134     0.1550 -0.5709 -0.2856  -0.3362   \n",
       "PC 4      0.4683              0.0585    -0.3454 -0.0460 -0.0831  -0.1744   \n",
       "PC 5      0.3271              0.0409     0.0030 -0.6693 -0.0554   0.0376   \n",
       "PC 6      0.1948              0.0243    -0.1971  0.1395  0.2573  -0.3394   \n",
       "PC 7      0.1478              0.0185     0.3735 -0.1012  0.6407  -0.5562   \n",
       "PC 8      0.0790              0.0099    -0.6660  0.0518  0.1980  -0.2387   \n",
       "\n",
       "      VitA_mcg  VitB6_mg  VitB12_mcg  Calcium_mg  \n",
       "PC 1    0.3650    0.3601      0.4411      0.4706  \n",
       "PC 2   -0.1748    0.2503      0.1712     -0.0778  \n",
       "PC 3   -0.4771    0.3537      0.3014      0.1095  \n",
       "PC 4    0.4802    0.6552     -0.0375     -0.4242  \n",
       "PC 5    0.6109   -0.3749      0.0646      0.1724  \n",
       "PC 6    0.0107   -0.3239      0.7438     -0.3194  \n",
       "PC 7    0.0527    0.0434     -0.3531     -0.0321  \n",
       "PC 8   -0.0442    0.0774     -0.0419      0.6692  "
      ]
     },
     "execution_count": 285,
     "metadata": {},
     "output_type": "execute_result"
    }
   ],
   "source": [
    "pca_results = pca_results(data_standardized, pca)\n",
    "pca_results"
   ]
  },
  {
   "attachments": {},
   "cell_type": "markdown",
   "metadata": {},
   "source": [
    ">As we can see from PCA, Since i will be using Kaisers rule i will be discard components that has a eigenvalue of less than 1 leaving us with only PC1 and PC2"
   ]
  },
  {
   "cell_type": "code",
   "execution_count": 286,
   "metadata": {},
   "outputs": [
    {
     "data": {
      "text/plain": [
       "<Figure size 640x480 with 0 Axes>"
      ]
     },
     "metadata": {},
     "output_type": "display_data"
    },
    {
     "data": {
      "image/png": "[encoded data removed]",
      "text/plain": [
       "<Figure size 640x480 with 1 Axes>"
      ]
     },
     "metadata": {},
     "output_type": "display_data"
    }
   ],
   "source": [
    "#Scree plot\n",
    "import matplotlib.ticker as ticker\n",
    "plt.clf()\n",
    "fig1, ax1 = plt.subplots()\n",
    "ax1.plot(np.arange(1, len(pca.explained_variance_)+1), pca.explained_variance_)\n",
    "ax1.xaxis.set_major_locator(ticker.MultipleLocator(1))\n",
    "ax1.set(xlabel = 'Component number', ylabel = 'Eigenvalue', title = 'Screeplot')\n",
    "plt.show()"
   ]
  },
  {
   "attachments": {},
   "cell_type": "markdown",
   "metadata": {},
   "source": [
    ">From the scree plot the elbow is at 4 components however based on kaisers rule we only need PC1 and PC2 hence i decided to discard the other components and keep those 2"
   ]
  },
  {
   "cell_type": "code",
   "execution_count": 287,
   "metadata": {},
   "outputs": [],
   "source": [
    "#Extract only the two PCs\n",
    "pca2 = PCA(n_components=2).fit(data_standardized)\n",
    "scores2 = pca2.transform(data_standardized)"
   ]
  },
  {
   "attachments": {},
   "cell_type": "markdown",
   "metadata": {},
   "source": [
    ">Extract 2 PCs"
   ]
  },
  {
   "cell_type": "code",
   "execution_count": 288,
   "metadata": {},
   "outputs": [
    {
     "data": {
      "text/html": [
       "<div>\n",
       "<style scoped>\n",
       "    .dataframe tbody tr th:only-of-type {\n",
       "        vertical-align: middle;\n",
       "    }\n",
       "\n",
       "    .dataframe tbody tr th {\n",
       "        vertical-align: top;\n",
       "    }\n",
       "\n",
       "    .dataframe thead th {\n",
       "        text-align: right;\n",
       "    }\n",
       "</style>\n",
       "<table border=\"1\" class=\"dataframe\">\n",
       "  <thead>\n",
       "    <tr style=\"text-align: right;\">\n",
       "      <th></th>\n",
       "      <th>PC1</th>\n",
       "      <th>PC2</th>\n",
       "    </tr>\n",
       "  </thead>\n",
       "  <tbody>\n",
       "    <tr>\n",
       "      <th>0</th>\n",
       "      <td>0.953542</td>\n",
       "      <td>-0.496858</td>\n",
       "    </tr>\n",
       "    <tr>\n",
       "      <th>1</th>\n",
       "      <td>-0.772259</td>\n",
       "      <td>-0.339564</td>\n",
       "    </tr>\n",
       "    <tr>\n",
       "      <th>2</th>\n",
       "      <td>-1.217161</td>\n",
       "      <td>1.058514</td>\n",
       "    </tr>\n",
       "    <tr>\n",
       "      <th>3</th>\n",
       "      <td>-1.607844</td>\n",
       "      <td>-0.137269</td>\n",
       "    </tr>\n",
       "    <tr>\n",
       "      <th>4</th>\n",
       "      <td>-1.607433</td>\n",
       "      <td>-0.138715</td>\n",
       "    </tr>\n",
       "  </tbody>\n",
       "</table>\n",
       "</div>"
      ],
      "text/plain": [
       "        PC1       PC2\n",
       "0  0.953542 -0.496858\n",
       "1 -0.772259 -0.339564\n",
       "2 -1.217161  1.058514\n",
       "3 -1.607844 -0.137269\n",
       "4 -1.607433 -0.138715"
      ]
     },
     "execution_count": 288,
     "metadata": {},
     "output_type": "execute_result"
    }
   ],
   "source": [
    "#Obtain scores from original data that are not centred\n",
    "\n",
    "scores_notcentred = np.dot(data_standardized, pca2.components_.T)\n",
    "scores_notcentred = pd.DataFrame(scores_notcentred, columns = ['PC1', 'PC2'])\n",
    "scores_notcentred.head()"
   ]
  },
  {
   "cell_type": "code",
   "execution_count": 289,
   "metadata": {},
   "outputs": [
    {
     "data": {
      "image/png": "[encoded data removed]",
      "text/plain": [
       "<Figure size 500x700 with 1 Axes>"
      ]
     },
     "metadata": {},
     "output_type": "display_data"
    }
   ],
   "source": [
    "plt.clf\n",
    "ax2 = loadingplot(data_standardized, pca, width=5, height=7)\n",
    "plt.show()"
   ]
  },
  {
   "attachments": {},
   "cell_type": "markdown",
   "metadata": {},
   "source": [
    "**<h4>Short Summary</h4>**\n",
    "\n",
    "> For PC1 we can see that vitamin B6, B12, A, calcium, Protein, Fat all have a strong positive contribution to PC1\n",
    "> While Carbohydrates and Sugar tho positive contribution is a lot lesser compared to the other nutrients\n",
    "\n",
    "> For PC2 we can see that Carbohydrates and Sugar contribute the positive to PC2, while vitamin B6 and B12 also contributed positively it was a lot lesser  \n",
    "> compared to the other nutrients calcium, protein, vitamin A, and Fat contributed negatively to PC2 "
   ]
  },
  {
   "cell_type": "code",
   "execution_count": 290,
   "metadata": {},
   "outputs": [
    {
     "data": {
      "image/png": "[encoded data removed]",
      "text/plain": [
       "<Figure size 1500x1500 with 1 Axes>"
      ]
     },
     "metadata": {},
     "output_type": "display_data"
    }
   ],
   "source": [
    "plt.clf\n",
    "\n",
    "ax3 = scoreplot_label(df, scores_notcentred, pca, height =15, width = 15)\n",
    "plt.show()"
   ]
  },
  {
   "attachments": {},
   "cell_type": "markdown",
   "metadata": {},
   "source": [
    "---"
   ]
  },
  {
   "attachments": {},
   "cell_type": "markdown",
   "metadata": {},
   "source": [
    "**<h1>`Question 1 (C)`</h1>**"
   ]
  },
  {
   "attachments": {},
   "cell_type": "markdown",
   "metadata": {},
   "source": [
    "*<h3>Steps i need to do</h3>*\n",
    "\n",
    "Since when new points are introduced the PCA results will change i need to:\n",
    "\n",
    "- Add the 2 new data points (rows) into the dataset\n",
    "\n",
    "- Evaluate a new PCA result and determine how many components to keep\n",
    "\n",
    "- plot all the necessary graphs and infer from there "
   ]
  },
  {
   "cell_type": "code",
   "execution_count": 296,
   "metadata": {},
   "outputs": [],
   "source": [
    "\n",
    "def pca_results(data, pca):\n",
    "    \n",
    "    # Dimension indexing\n",
    "    dimensions = ['PC {}'.format(i) for i in range(1,len(pca.components_)+1)]\n",
    "    \n",
    "    # PCA components\n",
    "    components = pd.DataFrame(np.round(pca.components_, 4), columns = data.keys()) \n",
    "    components.index = dimensions\n",
    "\n",
    "    #PCA eigenvalues\n",
    "    ev = pca.explained_variance_.reshape(len(pca.components_), 1)\n",
    "    eigenvalues = pd.DataFrame(np.round(ev, 4), columns = ['Eigenvalue']) \n",
    "    eigenvalues.index = dimensions\n",
    "    \n",
    "    # PCA explained variance\n",
    "    ratios = pca.explained_variance_ratio_.reshape(len(pca.components_), 1) \n",
    "    variance_ratios = pd.DataFrame(np.round(ratios, 4), columns = ['Explained Variance']) \n",
    "    variance_ratios.index = dimensions\n",
    "\n",
    "    # Return a concatenated DataFrame\n",
    "    return pd.concat([eigenvalues, variance_ratios, components], axis = 1)"
   ]
  },
  {
   "cell_type": "code",
   "execution_count": 291,
   "metadata": {},
   "outputs": [
    {
     "data": {
      "text/html": [
       "<div>\n",
       "<style scoped>\n",
       "    .dataframe tbody tr th:only-of-type {\n",
       "        vertical-align: middle;\n",
       "    }\n",
       "\n",
       "    .dataframe tbody tr th {\n",
       "        vertical-align: top;\n",
       "    }\n",
       "\n",
       "    .dataframe thead th {\n",
       "        text-align: right;\n",
       "    }\n",
       "</style>\n",
       "<table border=\"1\" class=\"dataframe\">\n",
       "  <thead>\n",
       "    <tr style=\"text-align: right;\">\n",
       "      <th></th>\n",
       "      <th>Type</th>\n",
       "      <th>Description</th>\n",
       "      <th>Protein_g</th>\n",
       "      <th>Fat_g</th>\n",
       "      <th>Carb_g</th>\n",
       "      <th>Sugar_g</th>\n",
       "      <th>VitA_mcg</th>\n",
       "      <th>VitB6_mg</th>\n",
       "      <th>VitB12_mcg</th>\n",
       "      <th>Calcium_mg</th>\n",
       "    </tr>\n",
       "  </thead>\n",
       "  <tbody>\n",
       "    <tr>\n",
       "      <th>0</th>\n",
       "      <td>Cheese</td>\n",
       "      <td>Cheese food, cold pack, American</td>\n",
       "      <td>19.66</td>\n",
       "      <td>24.46</td>\n",
       "      <td>8.32</td>\n",
       "      <td>0.00</td>\n",
       "      <td>0</td>\n",
       "      <td>0.141</td>\n",
       "      <td>1.28</td>\n",
       "      <td>497</td>\n",
       "    </tr>\n",
       "    <tr>\n",
       "      <th>1</th>\n",
       "      <td>Cream</td>\n",
       "      <td>Cream, whipped, cream topping, pressurized</td>\n",
       "      <td>3.20</td>\n",
       "      <td>22.22</td>\n",
       "      <td>12.49</td>\n",
       "      <td>8.00</td>\n",
       "      <td>188</td>\n",
       "      <td>0.041</td>\n",
       "      <td>0.29</td>\n",
       "      <td>101</td>\n",
       "    </tr>\n",
       "    <tr>\n",
       "      <th>2</th>\n",
       "      <td>Ice cream</td>\n",
       "      <td>Fat free ice cream, no sugar added, flavors ot...</td>\n",
       "      <td>4.41</td>\n",
       "      <td>0.00</td>\n",
       "      <td>27.94</td>\n",
       "      <td>8.82</td>\n",
       "      <td>133</td>\n",
       "      <td>0.029</td>\n",
       "      <td>0.52</td>\n",
       "      <td>147</td>\n",
       "    </tr>\n",
       "    <tr>\n",
       "      <th>3</th>\n",
       "      <td>Milk</td>\n",
       "      <td>Milk, whole, 3.25% milkfat, with added vitamin D</td>\n",
       "      <td>3.15</td>\n",
       "      <td>3.25</td>\n",
       "      <td>4.80</td>\n",
       "      <td>5.05</td>\n",
       "      <td>46</td>\n",
       "      <td>0.036</td>\n",
       "      <td>0.45</td>\n",
       "      <td>113</td>\n",
       "    </tr>\n",
       "    <tr>\n",
       "      <th>4</th>\n",
       "      <td>Milk</td>\n",
       "      <td>Milk, whole, 3.25% milkfat, without added vita...</td>\n",
       "      <td>3.15</td>\n",
       "      <td>3.27</td>\n",
       "      <td>4.78</td>\n",
       "      <td>5.05</td>\n",
       "      <td>46</td>\n",
       "      <td>0.036</td>\n",
       "      <td>0.45</td>\n",
       "      <td>113</td>\n",
       "    </tr>\n",
       "    <tr>\n",
       "      <th>...</th>\n",
       "      <td>...</td>\n",
       "      <td>...</td>\n",
       "      <td>...</td>\n",
       "      <td>...</td>\n",
       "      <td>...</td>\n",
       "      <td>...</td>\n",
       "      <td>...</td>\n",
       "      <td>...</td>\n",
       "      <td>...</td>\n",
       "      <td>...</td>\n",
       "    </tr>\n",
       "    <tr>\n",
       "      <th>167</th>\n",
       "      <td>Milk</td>\n",
       "      <td>Milk, fluid, 1% fat, without added vitamin A a...</td>\n",
       "      <td>3.47</td>\n",
       "      <td>1.06</td>\n",
       "      <td>4.88</td>\n",
       "      <td>5.30</td>\n",
       "      <td>16</td>\n",
       "      <td>0.032</td>\n",
       "      <td>0.41</td>\n",
       "      <td>120</td>\n",
       "    </tr>\n",
       "    <tr>\n",
       "      <th>168</th>\n",
       "      <td>Cream</td>\n",
       "      <td>Cream, fluid, heavy whipping</td>\n",
       "      <td>2.11</td>\n",
       "      <td>32.00</td>\n",
       "      <td>2.88</td>\n",
       "      <td>2.88</td>\n",
       "      <td>420</td>\n",
       "      <td>0.019</td>\n",
       "      <td>0.14</td>\n",
       "      <td>62</td>\n",
       "    </tr>\n",
       "    <tr>\n",
       "      <th>169</th>\n",
       "      <td>Yogurt</td>\n",
       "      <td>Yogurt, fruit, lowfat, with low calorie sweete...</td>\n",
       "      <td>4.78</td>\n",
       "      <td>1.39</td>\n",
       "      <td>17.90</td>\n",
       "      <td>3.10</td>\n",
       "      <td>134</td>\n",
       "      <td>0.040</td>\n",
       "      <td>0.50</td>\n",
       "      <td>169</td>\n",
       "    </tr>\n",
       "    <tr>\n",
       "      <th>170</th>\n",
       "      <td>Yogurt</td>\n",
       "      <td>Yogurt, fruit, low fat, 11 grams protein per 8...</td>\n",
       "      <td>4.91</td>\n",
       "      <td>1.43</td>\n",
       "      <td>18.60</td>\n",
       "      <td>0.00</td>\n",
       "      <td>0</td>\n",
       "      <td>0.045</td>\n",
       "      <td>0.55</td>\n",
       "      <td>171</td>\n",
       "    </tr>\n",
       "    <tr>\n",
       "      <th>171</th>\n",
       "      <td>Yogurt</td>\n",
       "      <td>Yogurt, fruit, low fat, 9 grams protein per 8 ...</td>\n",
       "      <td>3.95</td>\n",
       "      <td>1.12</td>\n",
       "      <td>18.77</td>\n",
       "      <td>18.77</td>\n",
       "      <td>13</td>\n",
       "      <td>0.039</td>\n",
       "      <td>0.43</td>\n",
       "      <td>138</td>\n",
       "    </tr>\n",
       "  </tbody>\n",
       "</table>\n",
       "<p>172 rows × 10 columns</p>\n",
       "</div>"
      ],
      "text/plain": [
       "          Type                                        Description  Protein_g  \\\n",
       "0       Cheese                   Cheese food, cold pack, American      19.66   \n",
       "1        Cream         Cream, whipped, cream topping, pressurized       3.20   \n",
       "2    Ice cream  Fat free ice cream, no sugar added, flavors ot...       4.41   \n",
       "3         Milk   Milk, whole, 3.25% milkfat, with added vitamin D       3.15   \n",
       "4         Milk  Milk, whole, 3.25% milkfat, without added vita...       3.15   \n",
       "..         ...                                                ...        ...   \n",
       "167       Milk  Milk, fluid, 1% fat, without added vitamin A a...       3.47   \n",
       "168      Cream                       Cream, fluid, heavy whipping       2.11   \n",
       "169     Yogurt  Yogurt, fruit, lowfat, with low calorie sweete...       4.78   \n",
       "170     Yogurt  Yogurt, fruit, low fat, 11 grams protein per 8...       4.91   \n",
       "171     Yogurt  Yogurt, fruit, low fat, 9 grams protein per 8 ...       3.95   \n",
       "\n",
       "     Fat_g  Carb_g  Sugar_g  VitA_mcg  VitB6_mg  VitB12_mcg  Calcium_mg  \n",
       "0    24.46    8.32     0.00         0     0.141        1.28         497  \n",
       "1    22.22   12.49     8.00       188     0.041        0.29         101  \n",
       "2     0.00   27.94     8.82       133     0.029        0.52         147  \n",
       "3     3.25    4.80     5.05        46     0.036        0.45         113  \n",
       "4     3.27    4.78     5.05        46     0.036        0.45         113  \n",
       "..     ...     ...      ...       ...       ...         ...         ...  \n",
       "167   1.06    4.88     5.30        16     0.032        0.41         120  \n",
       "168  32.00    2.88     2.88       420     0.019        0.14          62  \n",
       "169   1.39   17.90     3.10       134     0.040        0.50         169  \n",
       "170   1.43   18.60     0.00         0     0.045        0.55         171  \n",
       "171   1.12   18.77    18.77        13     0.039        0.43         138  \n",
       "\n",
       "[172 rows x 10 columns]"
      ]
     },
     "execution_count": 291,
     "metadata": {},
     "output_type": "execute_result"
    }
   ],
   "source": [
    "df"
   ]
  },
  {
   "cell_type": "code",
   "execution_count": 292,
   "metadata": {},
   "outputs": [
    {
     "data": {
      "text/html": [
       "<div>\n",
       "<style scoped>\n",
       "    .dataframe tbody tr th:only-of-type {\n",
       "        vertical-align: middle;\n",
       "    }\n",
       "\n",
       "    .dataframe tbody tr th {\n",
       "        vertical-align: top;\n",
       "    }\n",
       "\n",
       "    .dataframe thead th {\n",
       "        text-align: right;\n",
       "    }\n",
       "</style>\n",
       "<table border=\"1\" class=\"dataframe\">\n",
       "  <thead>\n",
       "    <tr style=\"text-align: right;\">\n",
       "      <th></th>\n",
       "      <th>Type</th>\n",
       "      <th>Description</th>\n",
       "      <th>Protein_g</th>\n",
       "      <th>Fat_g</th>\n",
       "      <th>Carb_g</th>\n",
       "      <th>Sugar_g</th>\n",
       "      <th>VitA_mcg</th>\n",
       "      <th>VitB6_mg</th>\n",
       "      <th>VitB12_mcg</th>\n",
       "      <th>Calcium_mg</th>\n",
       "    </tr>\n",
       "  </thead>\n",
       "  <tbody>\n",
       "    <tr>\n",
       "      <th>172</th>\n",
       "      <td>Product 1</td>\n",
       "      <td>Product 1</td>\n",
       "      <td>22.17</td>\n",
       "      <td>23.50</td>\n",
       "      <td>2.22</td>\n",
       "      <td>1.01</td>\n",
       "      <td>181</td>\n",
       "      <td>0.034</td>\n",
       "      <td>2.28</td>\n",
       "      <td>505</td>\n",
       "    </tr>\n",
       "    <tr>\n",
       "      <th>173</th>\n",
       "      <td>Product 2</td>\n",
       "      <td>Product 2</td>\n",
       "      <td>4.32</td>\n",
       "      <td>1.42</td>\n",
       "      <td>23.00</td>\n",
       "      <td>14.58</td>\n",
       "      <td>13</td>\n",
       "      <td>0.047</td>\n",
       "      <td>0.53</td>\n",
       "      <td>114</td>\n",
       "    </tr>\n",
       "  </tbody>\n",
       "</table>\n",
       "</div>"
      ],
      "text/plain": [
       "          Type Description  Protein_g  Fat_g  Carb_g  Sugar_g  VitA_mcg  \\\n",
       "172  Product 1   Product 1      22.17  23.50    2.22     1.01       181   \n",
       "173  Product 2   Product 2       4.32   1.42   23.00    14.58        13   \n",
       "\n",
       "     VitB6_mg  VitB12_mcg  Calcium_mg  \n",
       "172     0.034        2.28         505  \n",
       "173     0.047        0.53         114  "
      ]
     },
     "metadata": {},
     "output_type": "display_data"
    },
    {
     "data": {
      "text/html": [
       "<div>\n",
       "<style scoped>\n",
       "    .dataframe tbody tr th:only-of-type {\n",
       "        vertical-align: middle;\n",
       "    }\n",
       "\n",
       "    .dataframe tbody tr th {\n",
       "        vertical-align: top;\n",
       "    }\n",
       "\n",
       "    .dataframe thead th {\n",
       "        text-align: right;\n",
       "    }\n",
       "</style>\n",
       "<table border=\"1\" class=\"dataframe\">\n",
       "  <thead>\n",
       "    <tr style=\"text-align: right;\">\n",
       "      <th></th>\n",
       "      <th>Protein_g</th>\n",
       "      <th>Fat_g</th>\n",
       "      <th>Carb_g</th>\n",
       "      <th>Sugar_g</th>\n",
       "      <th>VitA_mcg</th>\n",
       "      <th>VitB6_mg</th>\n",
       "      <th>VitB12_mcg</th>\n",
       "      <th>Calcium_mg</th>\n",
       "    </tr>\n",
       "  </thead>\n",
       "  <tbody>\n",
       "    <tr>\n",
       "      <th>172</th>\n",
       "      <td>22.17</td>\n",
       "      <td>23.50</td>\n",
       "      <td>2.22</td>\n",
       "      <td>1.01</td>\n",
       "      <td>181</td>\n",
       "      <td>0.034</td>\n",
       "      <td>2.28</td>\n",
       "      <td>505</td>\n",
       "    </tr>\n",
       "    <tr>\n",
       "      <th>173</th>\n",
       "      <td>4.32</td>\n",
       "      <td>1.42</td>\n",
       "      <td>23.00</td>\n",
       "      <td>14.58</td>\n",
       "      <td>13</td>\n",
       "      <td>0.047</td>\n",
       "      <td>0.53</td>\n",
       "      <td>114</td>\n",
       "    </tr>\n",
       "  </tbody>\n",
       "</table>\n",
       "</div>"
      ],
      "text/plain": [
       "     Protein_g  Fat_g  Carb_g  Sugar_g  VitA_mcg  VitB6_mg  VitB12_mcg  \\\n",
       "172      22.17  23.50    2.22     1.01       181     0.034        2.28   \n",
       "173       4.32   1.42   23.00    14.58        13     0.047        0.53   \n",
       "\n",
       "     Calcium_mg  \n",
       "172         505  \n",
       "173         114  "
      ]
     },
     "metadata": {},
     "output_type": "display_data"
    }
   ],
   "source": [
    "new_row = [pd.Series({'Type': 'Product 1', 'Description': 'Product 1' , 'Protein_g': 22.17 , 'Fat_g': 23.5, 'Carb_g': 2.22, 'Sugar_g': 1.01, 'VitA_mcg': 181, 'VitB6_mg': 0.034, 'VitB12_mcg': 2.28, 'Calcium_mg': 505}, name=len(df1)),\n",
    "          pd.Series({'Type': 'Product 2', 'Description': 'Product 2' ,'Protein_g': 4.32 , 'Fat_g': 1.42, 'Carb_g': 23.0, 'Sugar_g': 14.58, 'VitA_mcg': 13, 'VitB6_mg': 0.047, 'VitB12_mcg': 0.53, 'Calcium_mg': 114}, name=len(df1)+1) ]\n",
    "\n",
    "new_df = df.append(new_row)\n",
    "df2 = new_df.drop(['Type', 'Description'], axis=1)\n",
    "display(new_df.tail(2))\n",
    "display(df2.tail(2))"
   ]
  },
  {
   "attachments": {},
   "cell_type": "markdown",
   "metadata": {},
   "source": [
    "> ##### Add 2 new rows to the data frame with the new values of the 2 product, i added it to the un reduced data so that it could be labeled later in the score plot"
   ]
  },
  {
   "cell_type": "code",
   "execution_count": 293,
   "metadata": {},
   "outputs": [
    {
     "data": {
      "text/html": [
       "<div>\n",
       "<style scoped>\n",
       "    .dataframe tbody tr th:only-of-type {\n",
       "        vertical-align: middle;\n",
       "    }\n",
       "\n",
       "    .dataframe tbody tr th {\n",
       "        vertical-align: top;\n",
       "    }\n",
       "\n",
       "    .dataframe thead th {\n",
       "        text-align: right;\n",
       "    }\n",
       "</style>\n",
       "<table border=\"1\" class=\"dataframe\">\n",
       "  <thead>\n",
       "    <tr style=\"text-align: right;\">\n",
       "      <th></th>\n",
       "      <th>Protein_g</th>\n",
       "      <th>Fat_g</th>\n",
       "      <th>Carb_g</th>\n",
       "      <th>Sugar_g</th>\n",
       "      <th>VitA_mcg</th>\n",
       "      <th>VitB6_mg</th>\n",
       "      <th>VitB12_mcg</th>\n",
       "      <th>Calcium_mg</th>\n",
       "    </tr>\n",
       "  </thead>\n",
       "  <tbody>\n",
       "    <tr>\n",
       "      <th>0</th>\n",
       "      <td>0.728570</td>\n",
       "      <td>0.966647</td>\n",
       "      <td>-0.242626</td>\n",
       "      <td>-0.646951</td>\n",
       "      <td>-0.929255</td>\n",
       "      <td>0.848503</td>\n",
       "      <td>0.515064</td>\n",
       "      <td>0.406778</td>\n",
       "    </tr>\n",
       "    <tr>\n",
       "      <th>1</th>\n",
       "      <td>-0.883492</td>\n",
       "      <td>0.782941</td>\n",
       "      <td>0.065037</td>\n",
       "      <td>0.028640</td>\n",
       "      <td>0.528742</td>\n",
       "      <td>-0.379370</td>\n",
       "      <td>-0.656532</td>\n",
       "      <td>-0.767638</td>\n",
       "    </tr>\n",
       "    <tr>\n",
       "      <th>2</th>\n",
       "      <td>-0.764987</td>\n",
       "      <td>-1.039354</td>\n",
       "      <td>1.204936</td>\n",
       "      <td>0.097888</td>\n",
       "      <td>0.102201</td>\n",
       "      <td>-0.526715</td>\n",
       "      <td>-0.384343</td>\n",
       "      <td>-0.631216</td>\n",
       "    </tr>\n",
       "    <tr>\n",
       "      <th>3</th>\n",
       "      <td>-0.888389</td>\n",
       "      <td>-0.772817</td>\n",
       "      <td>-0.502331</td>\n",
       "      <td>-0.220484</td>\n",
       "      <td>-0.572511</td>\n",
       "      <td>-0.440764</td>\n",
       "      <td>-0.467183</td>\n",
       "      <td>-0.732050</td>\n",
       "    </tr>\n",
       "    <tr>\n",
       "      <th>4</th>\n",
       "      <td>-0.888389</td>\n",
       "      <td>-0.771177</td>\n",
       "      <td>-0.503807</td>\n",
       "      <td>-0.220484</td>\n",
       "      <td>-0.572511</td>\n",
       "      <td>-0.440764</td>\n",
       "      <td>-0.467183</td>\n",
       "      <td>-0.732050</td>\n",
       "    </tr>\n",
       "    <tr>\n",
       "      <th>...</th>\n",
       "      <td>...</td>\n",
       "      <td>...</td>\n",
       "      <td>...</td>\n",
       "      <td>...</td>\n",
       "      <td>...</td>\n",
       "      <td>...</td>\n",
       "      <td>...</td>\n",
       "      <td>...</td>\n",
       "    </tr>\n",
       "    <tr>\n",
       "      <th>169</th>\n",
       "      <td>-0.728750</td>\n",
       "      <td>-0.925358</td>\n",
       "      <td>0.464186</td>\n",
       "      <td>-0.385159</td>\n",
       "      <td>0.109956</td>\n",
       "      <td>-0.391649</td>\n",
       "      <td>-0.408011</td>\n",
       "      <td>-0.565971</td>\n",
       "    </tr>\n",
       "    <tr>\n",
       "      <th>170</th>\n",
       "      <td>-0.716018</td>\n",
       "      <td>-0.922078</td>\n",
       "      <td>0.515832</td>\n",
       "      <td>-0.646951</td>\n",
       "      <td>-0.929255</td>\n",
       "      <td>-0.330256</td>\n",
       "      <td>-0.348840</td>\n",
       "      <td>-0.560039</td>\n",
       "    </tr>\n",
       "    <tr>\n",
       "      <th>171</th>\n",
       "      <td>-0.810039</td>\n",
       "      <td>-0.947501</td>\n",
       "      <td>0.528374</td>\n",
       "      <td>0.938154</td>\n",
       "      <td>-0.828436</td>\n",
       "      <td>-0.403928</td>\n",
       "      <td>-0.490851</td>\n",
       "      <td>-0.657907</td>\n",
       "    </tr>\n",
       "    <tr>\n",
       "      <th>172</th>\n",
       "      <td>0.974395</td>\n",
       "      <td>0.887916</td>\n",
       "      <td>-0.692683</td>\n",
       "      <td>-0.561657</td>\n",
       "      <td>0.474455</td>\n",
       "      <td>-0.465322</td>\n",
       "      <td>1.698494</td>\n",
       "      <td>0.430503</td>\n",
       "    </tr>\n",
       "    <tr>\n",
       "      <th>173</th>\n",
       "      <td>-0.773801</td>\n",
       "      <td>-0.922898</td>\n",
       "      <td>0.840463</td>\n",
       "      <td>0.584313</td>\n",
       "      <td>-0.828436</td>\n",
       "      <td>-0.305698</td>\n",
       "      <td>-0.372508</td>\n",
       "      <td>-0.729084</td>\n",
       "    </tr>\n",
       "  </tbody>\n",
       "</table>\n",
       "<p>174 rows × 8 columns</p>\n",
       "</div>"
      ],
      "text/plain": [
       "     Protein_g     Fat_g    Carb_g   Sugar_g  VitA_mcg  VitB6_mg  VitB12_mcg  \\\n",
       "0     0.728570  0.966647 -0.242626 -0.646951 -0.929255  0.848503    0.515064   \n",
       "1    -0.883492  0.782941  0.065037  0.028640  0.528742 -0.379370   -0.656532   \n",
       "2    -0.764987 -1.039354  1.204936  0.097888  0.102201 -0.526715   -0.384343   \n",
       "3    -0.888389 -0.772817 -0.502331 -0.220484 -0.572511 -0.440764   -0.467183   \n",
       "4    -0.888389 -0.771177 -0.503807 -0.220484 -0.572511 -0.440764   -0.467183   \n",
       "..         ...       ...       ...       ...       ...       ...         ...   \n",
       "169  -0.728750 -0.925358  0.464186 -0.385159  0.109956 -0.391649   -0.408011   \n",
       "170  -0.716018 -0.922078  0.515832 -0.646951 -0.929255 -0.330256   -0.348840   \n",
       "171  -0.810039 -0.947501  0.528374  0.938154 -0.828436 -0.403928   -0.490851   \n",
       "172   0.974395  0.887916 -0.692683 -0.561657  0.474455 -0.465322    1.698494   \n",
       "173  -0.773801 -0.922898  0.840463  0.584313 -0.828436 -0.305698   -0.372508   \n",
       "\n",
       "     Calcium_mg  \n",
       "0      0.406778  \n",
       "1     -0.767638  \n",
       "2     -0.631216  \n",
       "3     -0.732050  \n",
       "4     -0.732050  \n",
       "..          ...  \n",
       "169   -0.565971  \n",
       "170   -0.560039  \n",
       "171   -0.657907  \n",
       "172    0.430503  \n",
       "173   -0.729084  \n",
       "\n",
       "[174 rows x 8 columns]"
      ]
     },
     "execution_count": 293,
     "metadata": {},
     "output_type": "execute_result"
    }
   ],
   "source": [
    "data_standardized = (df2 - df2.mean())/df2.std()\n",
    "data_standardized"
   ]
  },
  {
   "cell_type": "code",
   "execution_count": 294,
   "metadata": {},
   "outputs": [],
   "source": [
    "pca = PCA(n_components=8).fit(data_standardized)\n",
    "#Note that pca.transform() returns scores based on centred data\n",
    "pca_samples = pca.transform(data_standardized)"
   ]
  },
  {
   "cell_type": "code",
   "execution_count": 297,
   "metadata": {},
   "outputs": [
    {
     "data": {
      "text/html": [
       "<div>\n",
       "<style scoped>\n",
       "    .dataframe tbody tr th:only-of-type {\n",
       "        vertical-align: middle;\n",
       "    }\n",
       "\n",
       "    .dataframe tbody tr th {\n",
       "        vertical-align: top;\n",
       "    }\n",
       "\n",
       "    .dataframe thead th {\n",
       "        text-align: right;\n",
       "    }\n",
       "</style>\n",
       "<table border=\"1\" class=\"dataframe\">\n",
       "  <thead>\n",
       "    <tr style=\"text-align: right;\">\n",
       "      <th></th>\n",
       "      <th>Eigenvalue</th>\n",
       "      <th>Explained Variance</th>\n",
       "      <th>Protein_g</th>\n",
       "      <th>Fat_g</th>\n",
       "      <th>Carb_g</th>\n",
       "      <th>Sugar_g</th>\n",
       "      <th>VitA_mcg</th>\n",
       "      <th>VitB6_mg</th>\n",
       "      <th>VitB12_mcg</th>\n",
       "      <th>Calcium_mg</th>\n",
       "    </tr>\n",
       "  </thead>\n",
       "  <tbody>\n",
       "    <tr>\n",
       "      <th>PC 1</th>\n",
       "      <td>3.7312</td>\n",
       "      <td>0.4664</td>\n",
       "      <td>0.4743</td>\n",
       "      <td>0.3019</td>\n",
       "      <td>0.0428</td>\n",
       "      <td>0.0708</td>\n",
       "      <td>0.3674</td>\n",
       "      <td>0.3561</td>\n",
       "      <td>0.4394</td>\n",
       "      <td>0.4713</td>\n",
       "    </tr>\n",
       "    <tr>\n",
       "      <th>PC 2</th>\n",
       "      <td>2.1462</td>\n",
       "      <td>0.2683</td>\n",
       "      <td>-0.0985</td>\n",
       "      <td>-0.3164</td>\n",
       "      <td>0.6255</td>\n",
       "      <td>0.6079</td>\n",
       "      <td>-0.1686</td>\n",
       "      <td>0.2578</td>\n",
       "      <td>0.1720</td>\n",
       "      <td>-0.0701</td>\n",
       "    </tr>\n",
       "    <tr>\n",
       "      <th>PC 3</th>\n",
       "      <td>0.9004</td>\n",
       "      <td>0.1126</td>\n",
       "      <td>0.1549</td>\n",
       "      <td>-0.5699</td>\n",
       "      <td>-0.2840</td>\n",
       "      <td>-0.3354</td>\n",
       "      <td>-0.4787</td>\n",
       "      <td>0.3551</td>\n",
       "      <td>0.3016</td>\n",
       "      <td>0.1090</td>\n",
       "    </tr>\n",
       "    <tr>\n",
       "      <th>PC 4</th>\n",
       "      <td>0.4684</td>\n",
       "      <td>0.0585</td>\n",
       "      <td>-0.3422</td>\n",
       "      <td>-0.0446</td>\n",
       "      <td>-0.0841</td>\n",
       "      <td>-0.1740</td>\n",
       "      <td>0.4776</td>\n",
       "      <td>0.6619</td>\n",
       "      <td>-0.0513</td>\n",
       "      <td>-0.4179</td>\n",
       "    </tr>\n",
       "    <tr>\n",
       "      <th>PC 5</th>\n",
       "      <td>0.3249</td>\n",
       "      <td>0.0406</td>\n",
       "      <td>0.0005</td>\n",
       "      <td>-0.6704</td>\n",
       "      <td>-0.0554</td>\n",
       "      <td>0.0357</td>\n",
       "      <td>0.6119</td>\n",
       "      <td>-0.3723</td>\n",
       "      <td>0.0691</td>\n",
       "      <td>0.1685</td>\n",
       "    </tr>\n",
       "    <tr>\n",
       "      <th>PC 6</th>\n",
       "      <td>0.2014</td>\n",
       "      <td>0.0252</td>\n",
       "      <td>-0.2037</td>\n",
       "      <td>0.1437</td>\n",
       "      <td>0.2220</td>\n",
       "      <td>-0.3047</td>\n",
       "      <td>0.0128</td>\n",
       "      <td>-0.3144</td>\n",
       "      <td>0.7609</td>\n",
       "      <td>-0.3432</td>\n",
       "    </tr>\n",
       "    <tr>\n",
       "      <th>PC 7</th>\n",
       "      <td>0.1479</td>\n",
       "      <td>0.0185</td>\n",
       "      <td>0.3539</td>\n",
       "      <td>-0.0926</td>\n",
       "      <td>0.6556</td>\n",
       "      <td>-0.5764</td>\n",
       "      <td>0.0515</td>\n",
       "      <td>0.0250</td>\n",
       "      <td>-0.3158</td>\n",
       "      <td>-0.0344</td>\n",
       "    </tr>\n",
       "    <tr>\n",
       "      <th>PC 8</th>\n",
       "      <td>0.0796</td>\n",
       "      <td>0.0099</td>\n",
       "      <td>-0.6764</td>\n",
       "      <td>0.0575</td>\n",
       "      <td>0.1925</td>\n",
       "      <td>-0.2374</td>\n",
       "      <td>-0.0455</td>\n",
       "      <td>0.0662</td>\n",
       "      <td>-0.0162</td>\n",
       "      <td>0.6626</td>\n",
       "    </tr>\n",
       "  </tbody>\n",
       "</table>\n",
       "</div>"
      ],
      "text/plain": [
       "      Eigenvalue  Explained Variance  Protein_g   Fat_g  Carb_g  Sugar_g  \\\n",
       "PC 1      3.7312              0.4664     0.4743  0.3019  0.0428   0.0708   \n",
       "PC 2      2.1462              0.2683    -0.0985 -0.3164  0.6255   0.6079   \n",
       "PC 3      0.9004              0.1126     0.1549 -0.5699 -0.2840  -0.3354   \n",
       "PC 4      0.4684              0.0585    -0.3422 -0.0446 -0.0841  -0.1740   \n",
       "PC 5      0.3249              0.0406     0.0005 -0.6704 -0.0554   0.0357   \n",
       "PC 6      0.2014              0.0252    -0.2037  0.1437  0.2220  -0.3047   \n",
       "PC 7      0.1479              0.0185     0.3539 -0.0926  0.6556  -0.5764   \n",
       "PC 8      0.0796              0.0099    -0.6764  0.0575  0.1925  -0.2374   \n",
       "\n",
       "      VitA_mcg  VitB6_mg  VitB12_mcg  Calcium_mg  \n",
       "PC 1    0.3674    0.3561      0.4394      0.4713  \n",
       "PC 2   -0.1686    0.2578      0.1720     -0.0701  \n",
       "PC 3   -0.4787    0.3551      0.3016      0.1090  \n",
       "PC 4    0.4776    0.6619     -0.0513     -0.4179  \n",
       "PC 5    0.6119   -0.3723      0.0691      0.1685  \n",
       "PC 6    0.0128   -0.3144      0.7609     -0.3432  \n",
       "PC 7    0.0515    0.0250     -0.3158     -0.0344  \n",
       "PC 8   -0.0455    0.0662     -0.0162      0.6626  "
      ]
     },
     "execution_count": 297,
     "metadata": {},
     "output_type": "execute_result"
    }
   ],
   "source": [
    "pca_results = pca_results(data_standardized, pca)\n",
    "pca_results"
   ]
  },
  {
   "attachments": {},
   "cell_type": "markdown",
   "metadata": {},
   "source": [
    ">The PCA results we obtained after adding the 2 new records slightly changed compared to the one in question 1 A"
   ]
  },
  {
   "cell_type": "code",
   "execution_count": 298,
   "metadata": {},
   "outputs": [
    {
     "data": {
      "text/plain": [
       "<Figure size 640x480 with 0 Axes>"
      ]
     },
     "metadata": {},
     "output_type": "display_data"
    },
    {
     "data": {
      "image/png": "[encoded data removed]",
      "text/plain": [
       "<Figure size 640x480 with 1 Axes>"
      ]
     },
     "metadata": {},
     "output_type": "display_data"
    }
   ],
   "source": [
    "import matplotlib.ticker as ticker\n",
    "plt.clf()\n",
    "fig1, ax1 = plt.subplots()\n",
    "ax1.plot(np.arange(1, len(pca.explained_variance_)+1), pca.explained_variance_)\n",
    "ax1.xaxis.set_major_locator(ticker.MultipleLocator(1))\n",
    "ax1.set(xlabel = 'Component number', ylabel = 'Eigenvalue', title = 'Screeplot')\n",
    "plt.show()"
   ]
  },
  {
   "attachments": {},
   "cell_type": "markdown",
   "metadata": {},
   "source": [
    "> similarly to question 1 the screeplot suggests to keep 4 components however based on kaisers rule we only need PC1 and PC2 hence i decided to discard the other components and keep those 2"
   ]
  },
  {
   "cell_type": "code",
   "execution_count": 299,
   "metadata": {},
   "outputs": [],
   "source": [
    "pca2 = PCA(n_components=2).fit(data_standardized)\n",
    "scores2 = pca2.transform(data_standardized)"
   ]
  },
  {
   "attachments": {},
   "cell_type": "markdown",
   "metadata": {},
   "source": [
    "> Extract those 2 PCs"
   ]
  },
  {
   "cell_type": "code",
   "execution_count": 300,
   "metadata": {},
   "outputs": [
    {
     "data": {
      "text/html": [
       "<div>\n",
       "<style scoped>\n",
       "    .dataframe tbody tr th:only-of-type {\n",
       "        vertical-align: middle;\n",
       "    }\n",
       "\n",
       "    .dataframe tbody tr th {\n",
       "        vertical-align: top;\n",
       "    }\n",
       "\n",
       "    .dataframe thead th {\n",
       "        text-align: right;\n",
       "    }\n",
       "</style>\n",
       "<table border=\"1\" class=\"dataframe\">\n",
       "  <thead>\n",
       "    <tr style=\"text-align: right;\">\n",
       "      <th></th>\n",
       "      <th>PC1</th>\n",
       "      <th>PC2</th>\n",
       "    </tr>\n",
       "  </thead>\n",
       "  <tbody>\n",
       "    <tr>\n",
       "      <th>0</th>\n",
       "      <td>0.960118</td>\n",
       "      <td>-0.487103</td>\n",
       "    </tr>\n",
       "    <tr>\n",
       "      <th>1</th>\n",
       "      <td>-0.769053</td>\n",
       "      <td>-0.348686</td>\n",
       "    </tr>\n",
       "    <tr>\n",
       "      <th>2</th>\n",
       "      <td>-1.234587</td>\n",
       "      <td>1.042488</td>\n",
       "    </tr>\n",
       "    <tr>\n",
       "      <th>3</th>\n",
       "      <td>-1.609419</td>\n",
       "      <td>-0.162457</td>\n",
       "    </tr>\n",
       "    <tr>\n",
       "      <th>4</th>\n",
       "      <td>-1.608987</td>\n",
       "      <td>-0.163899</td>\n",
       "    </tr>\n",
       "    <tr>\n",
       "      <th>...</th>\n",
       "      <td>...</td>\n",
       "      <td>...</td>\n",
       "    </tr>\n",
       "    <tr>\n",
       "      <th>169</th>\n",
       "      <td>-1.177558</td>\n",
       "      <td>0.270712</td>\n",
       "    </tr>\n",
       "    <tr>\n",
       "      <th>170</th>\n",
       "      <td>-1.517950</td>\n",
       "      <td>0.342376</td>\n",
       "    </tr>\n",
       "    <tr>\n",
       "      <th>171</th>\n",
       "      <td>-1.555255</td>\n",
       "      <td>1.277537</td>\n",
       "    </tr>\n",
       "    <tr>\n",
       "      <th>172</th>\n",
       "      <td>1.618688</td>\n",
       "      <td>-1.089466</td>\n",
       "    </tr>\n",
       "    <tr>\n",
       "      <th>173</th>\n",
       "      <td>-1.488885</td>\n",
       "      <td>1.296984</td>\n",
       "    </tr>\n",
       "  </tbody>\n",
       "</table>\n",
       "<p>174 rows × 2 columns</p>\n",
       "</div>"
      ],
      "text/plain": [
       "          PC1       PC2\n",
       "0    0.960118 -0.487103\n",
       "1   -0.769053 -0.348686\n",
       "2   -1.234587  1.042488\n",
       "3   -1.609419 -0.162457\n",
       "4   -1.608987 -0.163899\n",
       "..        ...       ...\n",
       "169 -1.177558  0.270712\n",
       "170 -1.517950  0.342376\n",
       "171 -1.555255  1.277537\n",
       "172  1.618688 -1.089466\n",
       "173 -1.488885  1.296984\n",
       "\n",
       "[174 rows x 2 columns]"
      ]
     },
     "execution_count": 300,
     "metadata": {},
     "output_type": "execute_result"
    }
   ],
   "source": [
    "scores_notcentred = np.dot(data_standardized, pca2.components_.T)\n",
    "scores_notcentred = pd.DataFrame(scores_notcentred, columns = ['PC1', 'PC2'])\n",
    "scores_notcentred"
   ]
  },
  {
   "cell_type": "code",
   "execution_count": 301,
   "metadata": {},
   "outputs": [
    {
     "data": {
      "image/png": "[encoded data removed]",
      "text/plain": [
       "<Figure size 500x700 with 1 Axes>"
      ]
     },
     "metadata": {},
     "output_type": "display_data"
    }
   ],
   "source": [
    "plt.clf\n",
    "ax2 = loadingplot(data_standardized, pca, width=5, height=7)\n",
    "plt.show()"
   ]
  },
  {
   "attachments": {},
   "cell_type": "markdown",
   "metadata": {},
   "source": [
    "**<h4>Short Summary</h4>**\n",
    "**`Similarly to loading plot in question 1A`**\n",
    "\n",
    "> For PC1 we can see that vitamin B6, B12, A, calcium, Protein, Fat all have a strong positive contribution to PC1\n",
    "> While Carbohydrates and Sugar tho positive contribution is a lot lesser compared to the other nutrients\n",
    "\n",
    "> For PC2 we can see that Carbohydrates and Sugar contribute the positive to PC2, while vitamin B6 and B12 also contributed positively it was a lot lesser  \n",
    "> compared to the other nutrients calcium, protein, vitamin A, and Fat contributed negatively to PC2 "
   ]
  },
  {
   "cell_type": "code",
   "execution_count": 302,
   "metadata": {},
   "outputs": [
    {
     "data": {
      "image/png": "[encoded data removed]",
      "text/plain": [
       "<Figure size 1500x1500 with 1 Axes>"
      ]
     },
     "metadata": {},
     "output_type": "display_data"
    }
   ],
   "source": [
    "plt.clf\n",
    "\n",
    "ax3 = scoreplot_label(new_df, scores_notcentred, pca, height =15, width = 15)\n",
    "plt.show()"
   ]
  },
  {
   "attachments": {},
   "cell_type": "markdown",
   "metadata": {},
   "source": [
    ">We can see where the new points are located in the score plot and see which cluster they are closest to and belong to\n",
    "\n",
    "- For product 1 it is closest to all the milk product hence likely to be a milk product\n",
    "\n",
    "- For product 2 it is close to both yogurt and ice cream products however i see more yogurt data points around it hence i will classify it as a yogurt product"
   ]
  },
  {
   "attachments": {},
   "cell_type": "markdown",
   "metadata": {},
   "source": [
    "---"
   ]
  },
  {
   "attachments": {},
   "cell_type": "markdown",
   "metadata": {},
   "source": [
    "**<h3>`Question 1 (D)`</h3>**\n",
    "\n",
    "Expected = subbing in the standardized values into PCA created in question 1 (A)\n",
    "\n",
    "Actual = subbing in the standardized values into PCA created in question 1 (C)"
   ]
  },
  {
   "attachments": {},
   "cell_type": "markdown",
   "metadata": {},
   "source": [
    "<!--  -->"
   ]
  },
  {
   "attachments": {},
   "cell_type": "markdown",
   "metadata": {},
   "source": [
    "**`Product 1 (Expected)`**\n"
   ]
  },
  {
   "cell_type": "code",
   "execution_count": 303,
   "metadata": {},
   "outputs": [
    {
     "data": {
      "text/plain": [
       "1.6025085795999998"
      ]
     },
     "execution_count": 303,
     "metadata": {},
     "output_type": "execute_result"
    }
   ],
   "source": [
    "x1 = ((0.4731)*(0.974395)) + (0.2974*(0.887916)) + (0.0517*(-0.692683))  + (0.0786*(-0.561657)) + (0.3650*(0.474455)) + (0.3601*(-0.465322)) + (0.4411*(1.698494)) + (0.4706*(0.430503))\n",
    "x1 "
   ]
  },
  {
   "cell_type": "code",
   "execution_count": 304,
   "metadata": {},
   "outputs": [
    {
     "data": {
      "text/plain": [
       "-1.0896094536"
      ]
     },
     "execution_count": 304,
     "metadata": {},
     "output_type": "execute_result"
    }
   ],
   "source": [
    "y1 = ((-0.0985)*(0.974395)) + (-0.3164*(0.887916)) + (0.6255*(-0.692683))  + (0.6079*(-0.561657)) + (-0.1686*(0.474455)) + (0.2578*(-0.465322)) + (0.1720*(1.698494)) + (-0.0701*(0.430503))\n",
    "y1"
   ]
  },
  {
   "attachments": {},
   "cell_type": "markdown",
   "metadata": {},
   "source": [
    "**`Product 2 (Expected)`**"
   ]
  },
  {
   "cell_type": "code",
   "execution_count": 305,
   "metadata": {},
   "outputs": [
    {
     "data": {
      "text/plain": [
       "-1.4710573784"
      ]
     },
     "execution_count": 305,
     "metadata": {},
     "output_type": "execute_result"
    }
   ],
   "source": [
    "x2 = ((0.4731)*(-0.773801)) + (0.2974*(-0.922898)) + (0.0517*(0.840463))  + (0.0786*(0.584313)) + (0.3650*(-0.828436)) + (0.3601*(-0.305698)) + (0.4411*(-0.372508)) + (0.4706*(-0.729084))\n",
    "x2"
   ]
  },
  {
   "cell_type": "code",
   "execution_count": 306,
   "metadata": {},
   "outputs": [
    {
     "data": {
      "text/plain": [
       "1.2970405824999998"
      ]
     },
     "execution_count": 306,
     "metadata": {},
     "output_type": "execute_result"
    }
   ],
   "source": [
    "y2 = ((-0.0985)*(-0.773801)) + (-0.3164 *(-0.922898)) + (0.6255*(0.840463))  + (0.6079*(0.584313)) + (-0.1686*(-0.828436)) + (0.2578*(-0.305698)) + (0.1720*(-0.372508)) + (-0.0701*(-0.729084))\n",
    "y2"
   ]
  },
  {
   "attachments": {},
   "cell_type": "markdown",
   "metadata": {},
   "source": [
    ">Add these points into the data"
   ]
  },
  {
   "cell_type": "code",
   "execution_count": 307,
   "metadata": {},
   "outputs": [],
   "source": [
    "# scores_notcentred\n",
    "\n",
    "# record1 = pd.DataFrame({'PC1': [x1], 'PC2': [y1]})\n",
    "# record2 = pd.DataFrame({'PC1': [x2], 'PC2': [y2]})\n",
    "\n",
    "# df = sc.append(new_data, ignore_index=True)\n",
    "\n",
    "new_row = [pd.Series({'PC1': x1, 'PC2': y1 }, name=len(df1)),\n",
    "          pd.Series({'PC1': x2, 'PC2': y2 }, name=len(df1)+1) ]\n",
    "\n",
    "scores_notcentred2 = scores_notcentred.append(new_row)"
   ]
  },
  {
   "cell_type": "code",
   "execution_count": 308,
   "metadata": {},
   "outputs": [
    {
     "data": {
      "image/png": "[encoded data removed]",
      "text/plain": [
       "<Figure size 1500x1500 with 1 Axes>"
      ]
     },
     "metadata": {},
     "output_type": "display_data"
    }
   ],
   "source": [
    "plt.clf\n",
    "\n",
    "ax3 = scoreplot_label(new_df, scores_notcentred, pca, height =15, width = 15)\n",
    "\n",
    "extra_points = pd.DataFrame({'PC1': [x1, x2], 'PC2': [y1, y2]})\n",
    "sns.scatterplot(x=\"PC1\", y=\"PC2\", data=extra_points, color='red')\n",
    "\n",
    "plt.show()"
   ]
  },
  {
   "attachments": {},
   "cell_type": "markdown",
   "metadata": {},
   "source": [
    ">The points are so close together that it covers up each other which matches up to my expectation as i know there would be a slight change but nothing too drastic"
   ]
  },
  {
   "attachments": {},
   "cell_type": "markdown",
   "metadata": {},
   "source": [
    "---"
   ]
  },
  {
   "attachments": {},
   "cell_type": "markdown",
   "metadata": {},
   "source": [
    "**<h2>`For question 2 (B)`</h2>**"
   ]
  },
  {
   "attachments": {},
   "cell_type": "markdown",
   "metadata": {},
   "source": [
    "<h3>Usefullness for classification/clustering</h3>\n",
    "\n",
    "I Feel like it is extremely useful due to a few points:\n",
    "\n",
    "- Clear clusters can be seen and inferred from the score plot\n",
    "\n",
    "- Successful classification of the 2 new products\n",
    "\n",
    "- Reduction of the number of dimensions"
   ]
  },
  {
   "attachments": {},
   "cell_type": "markdown",
   "metadata": {},
   "source": [
    "---"
   ]
  },
  {
   "attachments": {},
   "cell_type": "markdown",
   "metadata": {},
   "source": [
    "Spaghetti Recipe (click to read more)\n",
    "\n",
    "<!-- ## Ingredients:\n",
    "- 8 ounces (225g) spaghetti\n",
    "- 1 tablespoon olive oil\n",
    "- 3 cloves garlic, minced\n",
    "- 1 small onion, finely chopped\n",
    "- 1 can (14 ounces/400g) crushed tomatoes\n",
    "- 1 teaspoon dried basil\n",
    "- 1 teaspoon dried oregano\n",
    "- Salt and pepper to taste\n",
    "- Fresh basil leaves, for garnish\n",
    "- Grated Parmesan cheese, for serving\n",
    "\n",
    "## Instructions:\n",
    "1. Cook the spaghetti according to the package instructions until al dente. Drain and set aside.\n",
    "\n",
    "2. In a large skillet, heat olive oil over medium heat. Add garlic and onion, and sauté until translucent and fragrant.\n",
    "\n",
    "3. Add crushed tomatoes, dried basil, dried oregano, salt, and pepper to the skillet. Stir well to combine. Simmer the sauce for about 15 minutes to allow the flavors to meld together.\n",
    "\n",
    "4. Add the cooked spaghetti to the skillet and toss it in the sauce until well coated.\n",
    "\n",
    "5. Serve the spaghetti hot, garnished with fresh basil leaves and grated Parmesan cheese.\n",
    "\n",
    "Enjoy your delicious spaghetti meal! -->"
   ]
  }
 ],
 "metadata": {
  "kernelspec": {
   "display_name": "base",
   "language": "python",
   "name": "python3"
  },
  "language_info": {
   "codemirror_mode": {
    "name": "ipython",
    "version": 3
   },
   "file_extension": ".py",
   "mimetype": "text/x-python",
   "name": "python",
   "nbconvert_exporter": "python",
   "pygments_lexer": "ipython3",
   "version": "3.10.9"
  },
  "orig_nbformat": 4
 },
 "nbformat": 4,
 "nbformat_minor": 2
}
