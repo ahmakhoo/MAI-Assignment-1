{
 "cells": [
  {
   "cell_type": "code",
   "execution_count": 129,
   "metadata": {},
   "outputs": [],
   "source": [
    "import numpy as np\n",
    "import pandas as pd \n",
    "import matplotlib.pyplot as plt\n",
    "import seaborn as sns\n",
    "import plotly.express as px\n",
    "from sklearn.preprocessing import QuantileTransformer\n",
    "import statsmodels.api as sm\n",
    "from sklearn.decomposition import PCA\n",
    "\n",
    "df = pd.read_excel('./dataset_9/cars_9.xlsx')"
   ]
  },
  {
   "attachments": {},
   "cell_type": "markdown",
   "metadata": {},
   "source": [
    "*<h2>Function for performing PCA and plotting graphs</h2>*"
   ]
  },
  {
   "cell_type": "code",
   "execution_count": 130,
   "metadata": {},
   "outputs": [],
   "source": [
    "\n",
    "def pca_results(data, pca):\n",
    "    \n",
    "    # Dimension indexing\n",
    "    dimensions = ['PC {}'.format(i) for i in range(1,len(pca.components_)+1)]\n",
    "    \n",
    "    # PCA components\n",
    "    components = pd.DataFrame(np.round(pca.components_, 4), columns = data.keys()) \n",
    "    components.index = dimensions\n",
    "\n",
    "    #PCA eigenvalues\n",
    "    ev = pca.explained_variance_.reshape(len(pca.components_), 1)\n",
    "    eigenvalues = pd.DataFrame(np.round(ev, 4), columns = ['Eigenvalue']) \n",
    "    eigenvalues.index = dimensions\n",
    "    \n",
    "    # PCA explained variance\n",
    "    ratios = pca.explained_variance_ratio_.reshape(len(pca.components_), 1) \n",
    "    variance_ratios = pd.DataFrame(np.round(ratios, 4), columns = ['Explained Variance']) \n",
    "    variance_ratios.index = dimensions\n",
    "\n",
    "    # Compute the cumulative % variance explained\n",
    "    cum_variance_ratios = np.cumsum(variance_ratios)\n",
    "    cum_variance_ratios.columns = ['Cumulative Variance Explained']\n",
    "\n",
    "    # Return a concatenated DataFrame\n",
    "    return pd.concat([eigenvalues, variance_ratios, cum_variance_ratios , components], axis = 1)"
   ]
  },
  {
   "cell_type": "code",
   "execution_count": 131,
   "metadata": {},
   "outputs": [],
   "source": [
    "def scoreplot_label(data, scores, pca, width=5, height=5, margin=0.5):\n",
    "    plt.figure(figsize=(width, height))\n",
    "    ax = sns.scatterplot(x=\"PC1\", y=\"PC2\", data = scores, hue = data['Brand'])\n",
    "    \n",
    "    # Print text\n",
    "    # text_pos = 0.2\n",
    "    \n",
    "    # for i, v in enumerate(np.array(scores)):\n",
    "    #     # ax.arrow(0, 0, v[0], v[1], head_width=0.1, head_length=0.1, linewidth=2, color='red')\n",
    "    #     ax.text(v[0], v[1]+text_pos, data.iloc[i,0], color='black', ha='center', va='center', fontsize=5)\n",
    "    \n",
    "    \n",
    "    #Set limits for figure\n",
    "    x_min = min(scores['PC1'].min(),0)-margin\n",
    "    x_max = max(scores['PC1'].max(),0)+margin\n",
    "    y_min = min(scores['PC2'].min(),0)-margin\n",
    "    y_max = max(scores['PC2'].max(),0)+margin\n",
    "  \n",
    "    ax.set_xlim(x_min, x_max)\n",
    "    ax.set_ylim(y_min, y_max)\n",
    "    ax.set_title(\"Score plot\", fontsize=14)\n",
    "    plt.plot([x_min, x_max], [0, 0], color='k', linestyle='--', linewidth=1)\n",
    "    plt.plot([0, 0], [y_min, y_max], color='k', linestyle='--', linewidth=1)\n",
    "    return ax"
   ]
  },
  {
   "cell_type": "code",
   "execution_count": 132,
   "metadata": {},
   "outputs": [],
   "source": [
    "def loadingplot(data, pca, width=5, height=5, margin=0.5):\n",
    "\n",
    "    fig, ax = plt.subplots(figsize = (width,height))\n",
    "\n",
    "    #Set limits for figure\n",
    "    x_min = min(pca.components_[0,:].min(),0)-margin\n",
    "    x_max = max(pca.components_[0,:].max(),0)+margin\n",
    "    y_min = min(pca.components_[1,:].min(),0)-margin\n",
    "    y_max = max(pca.components_[1,:].max(),0)+margin\n",
    "\n",
    "    ax.set_xlim(x_min, x_max)\n",
    "    ax.set_ylim(y_min, y_max)\n",
    "\n",
    "    #Scaling factor for text position\n",
    "    text_pos = 0.2\n",
    "\n",
    "    for i, v in enumerate(pca.components_.T):\n",
    "        ax.arrow(0, 0, v[0], v[1], head_width=0.1, head_length=0.1, linewidth=2, color='red')\n",
    "        ax.text(v[0], v[1]+text_pos, data.columns[i], color='black', ha='center', va='center', fontsize=12)\n",
    "\n",
    "    plt.plot([x_min, x_max], [0, 0], color='k', linestyle='--', linewidth=1)\n",
    "    plt.plot([0, 0], [y_min, y_max], color='k', linestyle='--', linewidth=1)\n",
    "    ax.set_xlabel(\"PC1\", fontsize=14)\n",
    "    ax.set_ylabel(\"PC2\", fontsize=14)\n",
    "    ax.set_title(\"Loading plot\", fontsize = 14)\n",
    "    \n",
    "    return ax"
   ]
  },
  {
   "attachments": {},
   "cell_type": "markdown",
   "metadata": {},
   "source": [
    "---\n"
   ]
  },
  {
   "cell_type": "code",
   "execution_count": 133,
   "metadata": {},
   "outputs": [
    {
     "data": {
      "text/html": [
       "<div>\n",
       "<style scoped>\n",
       "    .dataframe tbody tr th:only-of-type {\n",
       "        vertical-align: middle;\n",
       "    }\n",
       "\n",
       "    .dataframe tbody tr th {\n",
       "        vertical-align: top;\n",
       "    }\n",
       "\n",
       "    .dataframe thead th {\n",
       "        text-align: right;\n",
       "    }\n",
       "</style>\n",
       "<table border=\"1\" class=\"dataframe\">\n",
       "  <thead>\n",
       "    <tr style=\"text-align: right;\">\n",
       "      <th></th>\n",
       "      <th>Brand</th>\n",
       "      <th>Type</th>\n",
       "      <th>Wheel-base</th>\n",
       "      <th>Length</th>\n",
       "      <th>Width</th>\n",
       "      <th>Height</th>\n",
       "      <th>Curb-weight</th>\n",
       "      <th>Cylinders</th>\n",
       "      <th>Engine</th>\n",
       "      <th>Compression-ratio</th>\n",
       "      <th>Horsepower</th>\n",
       "      <th>City-mpg</th>\n",
       "      <th>Highway-mpg</th>\n",
       "      <th>Price</th>\n",
       "    </tr>\n",
       "  </thead>\n",
       "  <tbody>\n",
       "    <tr>\n",
       "      <th>0</th>\n",
       "      <td>alfa-romero</td>\n",
       "      <td>convertible</td>\n",
       "      <td>88.6</td>\n",
       "      <td>168.8</td>\n",
       "      <td>64.1</td>\n",
       "      <td>48.8</td>\n",
       "      <td>2548</td>\n",
       "      <td>4</td>\n",
       "      <td>130</td>\n",
       "      <td>9.0</td>\n",
       "      <td>111</td>\n",
       "      <td>21</td>\n",
       "      <td>27</td>\n",
       "      <td>13495</td>\n",
       "    </tr>\n",
       "    <tr>\n",
       "      <th>1</th>\n",
       "      <td>alfa-romero</td>\n",
       "      <td>convertible</td>\n",
       "      <td>88.6</td>\n",
       "      <td>168.8</td>\n",
       "      <td>64.1</td>\n",
       "      <td>48.8</td>\n",
       "      <td>2548</td>\n",
       "      <td>4</td>\n",
       "      <td>130</td>\n",
       "      <td>9.0</td>\n",
       "      <td>111</td>\n",
       "      <td>21</td>\n",
       "      <td>27</td>\n",
       "      <td>16500</td>\n",
       "    </tr>\n",
       "    <tr>\n",
       "      <th>2</th>\n",
       "      <td>alfa-romero</td>\n",
       "      <td>hatchback</td>\n",
       "      <td>94.5</td>\n",
       "      <td>171.2</td>\n",
       "      <td>65.5</td>\n",
       "      <td>52.4</td>\n",
       "      <td>2823</td>\n",
       "      <td>6</td>\n",
       "      <td>152</td>\n",
       "      <td>9.0</td>\n",
       "      <td>154</td>\n",
       "      <td>19</td>\n",
       "      <td>26</td>\n",
       "      <td>16500</td>\n",
       "    </tr>\n",
       "    <tr>\n",
       "      <th>3</th>\n",
       "      <td>audi</td>\n",
       "      <td>sedan</td>\n",
       "      <td>99.4</td>\n",
       "      <td>176.6</td>\n",
       "      <td>66.4</td>\n",
       "      <td>54.3</td>\n",
       "      <td>2824</td>\n",
       "      <td>5</td>\n",
       "      <td>136</td>\n",
       "      <td>8.0</td>\n",
       "      <td>115</td>\n",
       "      <td>18</td>\n",
       "      <td>22</td>\n",
       "      <td>17450</td>\n",
       "    </tr>\n",
       "    <tr>\n",
       "      <th>4</th>\n",
       "      <td>audi</td>\n",
       "      <td>sedan</td>\n",
       "      <td>99.8</td>\n",
       "      <td>177.3</td>\n",
       "      <td>66.3</td>\n",
       "      <td>53.1</td>\n",
       "      <td>2507</td>\n",
       "      <td>5</td>\n",
       "      <td>136</td>\n",
       "      <td>8.5</td>\n",
       "      <td>110</td>\n",
       "      <td>19</td>\n",
       "      <td>25</td>\n",
       "      <td>15250</td>\n",
       "    </tr>\n",
       "    <tr>\n",
       "      <th>...</th>\n",
       "      <td>...</td>\n",
       "      <td>...</td>\n",
       "      <td>...</td>\n",
       "      <td>...</td>\n",
       "      <td>...</td>\n",
       "      <td>...</td>\n",
       "      <td>...</td>\n",
       "      <td>...</td>\n",
       "      <td>...</td>\n",
       "      <td>...</td>\n",
       "      <td>...</td>\n",
       "      <td>...</td>\n",
       "      <td>...</td>\n",
       "      <td>...</td>\n",
       "    </tr>\n",
       "    <tr>\n",
       "      <th>190</th>\n",
       "      <td>volvo</td>\n",
       "      <td>sedan</td>\n",
       "      <td>109.1</td>\n",
       "      <td>188.8</td>\n",
       "      <td>68.9</td>\n",
       "      <td>55.5</td>\n",
       "      <td>2952</td>\n",
       "      <td>4</td>\n",
       "      <td>141</td>\n",
       "      <td>9.5</td>\n",
       "      <td>114</td>\n",
       "      <td>23</td>\n",
       "      <td>28</td>\n",
       "      <td>16845</td>\n",
       "    </tr>\n",
       "    <tr>\n",
       "      <th>191</th>\n",
       "      <td>volvo</td>\n",
       "      <td>sedan</td>\n",
       "      <td>109.1</td>\n",
       "      <td>188.8</td>\n",
       "      <td>68.8</td>\n",
       "      <td>55.5</td>\n",
       "      <td>3049</td>\n",
       "      <td>4</td>\n",
       "      <td>141</td>\n",
       "      <td>8.7</td>\n",
       "      <td>160</td>\n",
       "      <td>19</td>\n",
       "      <td>25</td>\n",
       "      <td>19045</td>\n",
       "    </tr>\n",
       "    <tr>\n",
       "      <th>192</th>\n",
       "      <td>volvo</td>\n",
       "      <td>sedan</td>\n",
       "      <td>109.1</td>\n",
       "      <td>188.8</td>\n",
       "      <td>68.9</td>\n",
       "      <td>55.5</td>\n",
       "      <td>3062</td>\n",
       "      <td>4</td>\n",
       "      <td>141</td>\n",
       "      <td>9.5</td>\n",
       "      <td>114</td>\n",
       "      <td>19</td>\n",
       "      <td>25</td>\n",
       "      <td>22625</td>\n",
       "    </tr>\n",
       "    <tr>\n",
       "      <th>193</th>\n",
       "      <td>volvo</td>\n",
       "      <td>sedan</td>\n",
       "      <td>109.1</td>\n",
       "      <td>188.8</td>\n",
       "      <td>68.9</td>\n",
       "      <td>55.5</td>\n",
       "      <td>3012</td>\n",
       "      <td>6</td>\n",
       "      <td>173</td>\n",
       "      <td>8.8</td>\n",
       "      <td>134</td>\n",
       "      <td>18</td>\n",
       "      <td>23</td>\n",
       "      <td>21485</td>\n",
       "    </tr>\n",
       "    <tr>\n",
       "      <th>194</th>\n",
       "      <td>volvo</td>\n",
       "      <td>sedan</td>\n",
       "      <td>109.1</td>\n",
       "      <td>188.8</td>\n",
       "      <td>68.9</td>\n",
       "      <td>55.5</td>\n",
       "      <td>3217</td>\n",
       "      <td>6</td>\n",
       "      <td>145</td>\n",
       "      <td>23.0</td>\n",
       "      <td>106</td>\n",
       "      <td>26</td>\n",
       "      <td>27</td>\n",
       "      <td>22470</td>\n",
       "    </tr>\n",
       "  </tbody>\n",
       "</table>\n",
       "<p>195 rows × 14 columns</p>\n",
       "</div>"
      ],
      "text/plain": [
       "           Brand         Type  Wheel-base  Length  Width  Height  Curb-weight  \\\n",
       "0    alfa-romero  convertible        88.6   168.8   64.1    48.8         2548   \n",
       "1    alfa-romero  convertible        88.6   168.8   64.1    48.8         2548   \n",
       "2    alfa-romero    hatchback        94.5   171.2   65.5    52.4         2823   \n",
       "3           audi        sedan        99.4   176.6   66.4    54.3         2824   \n",
       "4           audi        sedan        99.8   177.3   66.3    53.1         2507   \n",
       "..           ...          ...         ...     ...    ...     ...          ...   \n",
       "190        volvo        sedan       109.1   188.8   68.9    55.5         2952   \n",
       "191        volvo        sedan       109.1   188.8   68.8    55.5         3049   \n",
       "192        volvo        sedan       109.1   188.8   68.9    55.5         3062   \n",
       "193        volvo        sedan       109.1   188.8   68.9    55.5         3012   \n",
       "194        volvo        sedan       109.1   188.8   68.9    55.5         3217   \n",
       "\n",
       "     Cylinders  Engine  Compression-ratio  Horsepower  City-mpg  Highway-mpg  \\\n",
       "0            4     130                9.0         111        21           27   \n",
       "1            4     130                9.0         111        21           27   \n",
       "2            6     152                9.0         154        19           26   \n",
       "3            5     136                8.0         115        18           22   \n",
       "4            5     136                8.5         110        19           25   \n",
       "..         ...     ...                ...         ...       ...          ...   \n",
       "190          4     141                9.5         114        23           28   \n",
       "191          4     141                8.7         160        19           25   \n",
       "192          4     141                9.5         114        19           25   \n",
       "193          6     173                8.8         134        18           23   \n",
       "194          6     145               23.0         106        26           27   \n",
       "\n",
       "     Price  \n",
       "0    13495  \n",
       "1    16500  \n",
       "2    16500  \n",
       "3    17450  \n",
       "4    15250  \n",
       "..     ...  \n",
       "190  16845  \n",
       "191  19045  \n",
       "192  22625  \n",
       "193  21485  \n",
       "194  22470  \n",
       "\n",
       "[195 rows x 14 columns]"
      ]
     },
     "execution_count": 133,
     "metadata": {},
     "output_type": "execute_result"
    }
   ],
   "source": [
    "df"
   ]
  },
  {
   "cell_type": "code",
   "execution_count": 134,
   "metadata": {},
   "outputs": [
    {
     "name": "stdout",
     "output_type": "stream",
     "text": [
      "<class 'pandas.core.frame.DataFrame'>\n",
      "RangeIndex: 195 entries, 0 to 194\n",
      "Data columns (total 14 columns):\n",
      " #   Column             Non-Null Count  Dtype  \n",
      "---  ------             --------------  -----  \n",
      " 0   Brand              195 non-null    object \n",
      " 1   Type               195 non-null    object \n",
      " 2   Wheel-base         195 non-null    float64\n",
      " 3   Length             195 non-null    float64\n",
      " 4   Width              195 non-null    float64\n",
      " 5   Height             195 non-null    float64\n",
      " 6   Curb-weight        195 non-null    int64  \n",
      " 7   Cylinders          195 non-null    int64  \n",
      " 8   Engine             195 non-null    int64  \n",
      " 9   Compression-ratio  195 non-null    float64\n",
      " 10  Horsepower         195 non-null    int64  \n",
      " 11  City-mpg           195 non-null    int64  \n",
      " 12  Highway-mpg        195 non-null    int64  \n",
      " 13  Price              195 non-null    int64  \n",
      "dtypes: float64(5), int64(7), object(2)\n",
      "memory usage: 21.5+ KB\n"
     ]
    }
   ],
   "source": [
    "df.info()"
   ]
  },
  {
   "attachments": {},
   "cell_type": "markdown",
   "metadata": {},
   "source": [
    "---"
   ]
  },
  {
   "attachments": {},
   "cell_type": "markdown",
   "metadata": {},
   "source": [
    "***<h3>Univariate Analysis</h3>***\n",
    "\n",
    "***<h5>the assumptions and limitations of PCA are as follows:</h5>***\n",
    "\n",
    "- The variables should be linearly related and have a linear correlation\n",
    "\n",
    "- the principal components are orthogonal \n",
    "\n",
    "- If variables are normally distributed, then PCA will work better\n",
    "\n",
    "- correlation coefficient tends to be less reliable when estimated from small samples therefore, it is important that sample size be large enough that correlations are reliably estimated."
   ]
  },
  {
   "cell_type": "code",
   "execution_count": 135,
   "metadata": {},
   "outputs": [
    {
     "data": {
      "application/vnd.plotly.v1+json": {
       "config": {
        "plotlyServerURL": "https://plot.ly"
       },
       "data": [
        {
         "alignmentgroup": "True",
         "bingroup": "x",
         "hovertemplate": "Wheel-base=%{x}<br>count=%{y}<extra></extra>",
         "legendgroup": "",
         "marker": {
          "color": "#636efa",
          "pattern": {
           "shape": ""
          }
         },
         "name": "",
         "nbinsx": 30,
         "offsetgroup": "",
         "orientation": "v",
         "showlegend": false,
         "type": "histogram",
         "x": [
          88.6,
          88.6,
          94.5,
          99.4,
          99.8,
          105.8,
          105.8,
          105.8,
          99.8,
          101.2,
          101.2,
          101.2,
          101.2,
          103.5,
          103.5,
          103.5,
          110,
          94.5,
          94.5,
          88.4,
          93.7,
          93.7,
          93.7,
          93.7,
          93.7,
          93.7,
          93.7,
          103.3,
          95.9,
          86.6,
          86.6,
          93.7,
          93.7,
          93.7,
          96.5,
          96.5,
          96.5,
          96.5,
          96.5,
          96.5,
          96.5,
          96.5,
          94.3,
          96,
          113,
          113,
          102,
          93.1,
          93.1,
          93.1,
          93.1,
          93.1,
          98.8,
          98.8,
          98.8,
          98.8,
          98.8,
          98.8,
          104.9,
          104.9,
          115.6,
          96.6,
          120.9,
          112,
          110,
          110,
          106.7,
          115.6,
          102.7,
          93.7,
          93.7,
          93.7,
          93,
          96.3,
          96.3,
          95.9,
          95.9,
          95.9,
          96.3,
          96.3,
          96.3,
          96.3,
          96.3,
          94.5,
          94.5,
          94.5,
          94.5,
          94.5,
          94.5,
          94.5,
          94.5,
          94.5,
          95.1,
          97.2,
          97.2,
          100.4,
          100.4,
          100.4,
          91.3,
          91.3,
          107.9,
          107.9,
          114.2,
          114.2,
          107.9,
          107.9,
          114.2,
          114.2,
          107.9,
          107.9,
          108,
          93.7,
          93.7,
          93.7,
          93.7,
          93.7,
          93.7,
          93.7,
          103.3,
          95.9,
          94.5,
          89.5,
          89.5,
          89.5,
          89.5,
          99.1,
          99.1,
          99.1,
          99.1,
          99.1,
          99.1,
          93.7,
          93.7,
          93.7,
          93.3,
          97.2,
          97.2,
          97.2,
          97,
          97,
          97,
          97,
          97,
          96.9,
          96.9,
          95.7,
          95.7,
          95.7,
          95.7,
          95.7,
          95.7,
          95.7,
          95.7,
          95.7,
          95.7,
          94.5,
          94.5,
          94.5,
          98.4,
          98.4,
          98.4,
          98.4,
          98.4,
          102.4,
          102.4,
          102.4,
          102.4,
          102.4,
          102.4,
          104.5,
          104.5,
          100.4,
          97.3,
          97.3,
          97.3,
          97.3,
          97.3,
          97.3,
          97.3,
          94.5,
          94.5,
          100.4,
          100.4,
          100.4,
          104.3,
          104.3,
          104.3,
          104.3,
          104.3,
          104.3,
          109.1,
          109.1,
          109.1,
          109.1,
          109.1
         ],
         "xaxis": "x",
         "yaxis": "y"
        }
       ],
       "layout": {
        "barmode": "relative",
        "legend": {
         "tracegroupgap": 0
        },
        "margin": {
         "t": 60
        },
        "template": {
         "data": {
          "bar": [
           {
            "error_x": {
             "color": "#2a3f5f"
            },
            "error_y": {
             "color": "#2a3f5f"
            },
            "marker": {
             "line": {
              "color": "#E5ECF6",
              "width": 0.5
             },
             "pattern": {
              "fillmode": "overlay",
              "size": 10,
              "solidity": 0.2
             }
            },
            "type": "bar"
           }
          ],
          "barpolar": [
           {
            "marker": {
             "line": {
              "color": "#E5ECF6",
              "width": 0.5
             },
             "pattern": {
              "fillmode": "overlay",
              "size": 10,
              "solidity": 0.2
             }
            },
            "type": "barpolar"
           }
          ],
          "carpet": [
           {
            "aaxis": {
             "endlinecolor": "#2a3f5f",
             "gridcolor": "white",
             "linecolor": "white",
             "minorgridcolor": "white",
             "startlinecolor": "#2a3f5f"
            },
            "baxis": {
             "endlinecolor": "#2a3f5f",
             "gridcolor": "white",
             "linecolor": "white",
             "minorgridcolor": "white",
             "startlinecolor": "#2a3f5f"
            },
            "type": "carpet"
           }
          ],
          "choropleth": [
           {
            "colorbar": {
             "outlinewidth": 0,
             "ticks": ""
            },
            "type": "choropleth"
           }
          ],
          "contour": [
           {
            "colorbar": {
             "outlinewidth": 0,
             "ticks": ""
            },
            "colorscale": [
             [
              0,
              "#0d0887"
             ],
             [
              0.1111111111111111,
              "#46039f"
             ],
             [
              0.2222222222222222,
              "#7201a8"
             ],
             [
              0.3333333333333333,
              "#9c179e"
             ],
             [
              0.4444444444444444,
              "#bd3786"
             ],
             [
              0.5555555555555556,
              "#d8576b"
             ],
             [
              0.6666666666666666,
              "#ed7953"
             ],
             [
              0.7777777777777778,
              "#fb9f3a"
             ],
             [
              0.8888888888888888,
              "#fdca26"
             ],
             [
              1,
              "#f0f921"
             ]
            ],
            "type": "contour"
           }
          ],
          "contourcarpet": [
           {
            "colorbar": {
             "outlinewidth": 0,
             "ticks": ""
            },
            "type": "contourcarpet"
           }
          ],
          "heatmap": [
           {
            "colorbar": {
             "outlinewidth": 0,
             "ticks": ""
            },
            "colorscale": [
             [
              0,
              "#0d0887"
             ],
             [
              0.1111111111111111,
              "#46039f"
             ],
             [
              0.2222222222222222,
              "#7201a8"
             ],
             [
              0.3333333333333333,
              "#9c179e"
             ],
             [
              0.4444444444444444,
              "#bd3786"
             ],
             [
              0.5555555555555556,
              "#d8576b"
             ],
             [
              0.6666666666666666,
              "#ed7953"
             ],
             [
              0.7777777777777778,
              "#fb9f3a"
             ],
             [
              0.8888888888888888,
              "#fdca26"
             ],
             [
              1,
              "#f0f921"
             ]
            ],
            "type": "heatmap"
           }
          ],
          "heatmapgl": [
           {
            "colorbar": {
             "outlinewidth": 0,
             "ticks": ""
            },
            "colorscale": [
             [
              0,
              "#0d0887"
             ],
             [
              0.1111111111111111,
              "#46039f"
             ],
             [
              0.2222222222222222,
              "#7201a8"
             ],
             [
              0.3333333333333333,
              "#9c179e"
             ],
             [
              0.4444444444444444,
              "#bd3786"
             ],
             [
              0.5555555555555556,
              "#d8576b"
             ],
             [
              0.6666666666666666,
              "#ed7953"
             ],
             [
              0.7777777777777778,
              "#fb9f3a"
             ],
             [
              0.8888888888888888,
              "#fdca26"
             ],
             [
              1,
              "#f0f921"
             ]
            ],
            "type": "heatmapgl"
           }
          ],
          "histogram": [
           {
            "marker": {
             "pattern": {
              "fillmode": "overlay",
              "size": 10,
              "solidity": 0.2
             }
            },
            "type": "histogram"
           }
          ],
          "histogram2d": [
           {
            "colorbar": {
             "outlinewidth": 0,
             "ticks": ""
            },
            "colorscale": [
             [
              0,
              "#0d0887"
             ],
             [
              0.1111111111111111,
              "#46039f"
             ],
             [
              0.2222222222222222,
              "#7201a8"
             ],
             [
              0.3333333333333333,
              "#9c179e"
             ],
             [
              0.4444444444444444,
              "#bd3786"
             ],
             [
              0.5555555555555556,
              "#d8576b"
             ],
             [
              0.6666666666666666,
              "#ed7953"
             ],
             [
              0.7777777777777778,
              "#fb9f3a"
             ],
             [
              0.8888888888888888,
              "#fdca26"
             ],
             [
              1,
              "#f0f921"
             ]
            ],
            "type": "histogram2d"
           }
          ],
          "histogram2dcontour": [
           {
            "colorbar": {
             "outlinewidth": 0,
             "ticks": ""
            },
            "colorscale": [
             [
              0,
              "#0d0887"
             ],
             [
              0.1111111111111111,
              "#46039f"
             ],
             [
              0.2222222222222222,
              "#7201a8"
             ],
             [
              0.3333333333333333,
              "#9c179e"
             ],
             [
              0.4444444444444444,
              "#bd3786"
             ],
             [
              0.5555555555555556,
              "#d8576b"
             ],
             [
              0.6666666666666666,
              "#ed7953"
             ],
             [
              0.7777777777777778,
              "#fb9f3a"
             ],
             [
              0.8888888888888888,
              "#fdca26"
             ],
             [
              1,
              "#f0f921"
             ]
            ],
            "type": "histogram2dcontour"
           }
          ],
          "mesh3d": [
           {
            "colorbar": {
             "outlinewidth": 0,
             "ticks": ""
            },
            "type": "mesh3d"
           }
          ],
          "parcoords": [
           {
            "line": {
             "colorbar": {
              "outlinewidth": 0,
              "ticks": ""
             }
            },
            "type": "parcoords"
           }
          ],
          "pie": [
           {
            "automargin": true,
            "type": "pie"
           }
          ],
          "scatter": [
           {
            "fillpattern": {
             "fillmode": "overlay",
             "size": 10,
             "solidity": 0.2
            },
            "type": "scatter"
           }
          ],
          "scatter3d": [
           {
            "line": {
             "colorbar": {
              "outlinewidth": 0,
              "ticks": ""
             }
            },
            "marker": {
             "colorbar": {
              "outlinewidth": 0,
              "ticks": ""
             }
            },
            "type": "scatter3d"
           }
          ],
          "scattercarpet": [
           {
            "marker": {
             "colorbar": {
              "outlinewidth": 0,
              "ticks": ""
             }
            },
            "type": "scattercarpet"
           }
          ],
          "scattergeo": [
           {
            "marker": {
             "colorbar": {
              "outlinewidth": 0,
              "ticks": ""
             }
            },
            "type": "scattergeo"
           }
          ],
          "scattergl": [
           {
            "marker": {
             "colorbar": {
              "outlinewidth": 0,
              "ticks": ""
             }
            },
            "type": "scattergl"
           }
          ],
          "scattermapbox": [
           {
            "marker": {
             "colorbar": {
              "outlinewidth": 0,
              "ticks": ""
             }
            },
            "type": "scattermapbox"
           }
          ],
          "scatterpolar": [
           {
            "marker": {
             "colorbar": {
              "outlinewidth": 0,
              "ticks": ""
             }
            },
            "type": "scatterpolar"
           }
          ],
          "scatterpolargl": [
           {
            "marker": {
             "colorbar": {
              "outlinewidth": 0,
              "ticks": ""
             }
            },
            "type": "scatterpolargl"
           }
          ],
          "scatterternary": [
           {
            "marker": {
             "colorbar": {
              "outlinewidth": 0,
              "ticks": ""
             }
            },
            "type": "scatterternary"
           }
          ],
          "surface": [
           {
            "colorbar": {
             "outlinewidth": 0,
             "ticks": ""
            },
            "colorscale": [
             [
              0,
              "#0d0887"
             ],
             [
              0.1111111111111111,
              "#46039f"
             ],
             [
              0.2222222222222222,
              "#7201a8"
             ],
             [
              0.3333333333333333,
              "#9c179e"
             ],
             [
              0.4444444444444444,
              "#bd3786"
             ],
             [
              0.5555555555555556,
              "#d8576b"
             ],
             [
              0.6666666666666666,
              "#ed7953"
             ],
             [
              0.7777777777777778,
              "#fb9f3a"
             ],
             [
              0.8888888888888888,
              "#fdca26"
             ],
             [
              1,
              "#f0f921"
             ]
            ],
            "type": "surface"
           }
          ],
          "table": [
           {
            "cells": {
             "fill": {
              "color": "#EBF0F8"
             },
             "line": {
              "color": "white"
             }
            },
            "header": {
             "fill": {
              "color": "#C8D4E3"
             },
             "line": {
              "color": "white"
             }
            },
            "type": "table"
           }
          ]
         },
         "layout": {
          "annotationdefaults": {
           "arrowcolor": "#2a3f5f",
           "arrowhead": 0,
           "arrowwidth": 1
          },
          "autotypenumbers": "strict",
          "coloraxis": {
           "colorbar": {
            "outlinewidth": 0,
            "ticks": ""
           }
          },
          "colorscale": {
           "diverging": [
            [
             0,
             "#8e0152"
            ],
            [
             0.1,
             "#c51b7d"
            ],
            [
             0.2,
             "#de77ae"
            ],
            [
             0.3,
             "#f1b6da"
            ],
            [
             0.4,
             "#fde0ef"
            ],
            [
             0.5,
             "#f7f7f7"
            ],
            [
             0.6,
             "#e6f5d0"
            ],
            [
             0.7,
             "#b8e186"
            ],
            [
             0.8,
             "#7fbc41"
            ],
            [
             0.9,
             "#4d9221"
            ],
            [
             1,
             "#276419"
            ]
           ],
           "sequential": [
            [
             0,
             "#0d0887"
            ],
            [
             0.1111111111111111,
             "#46039f"
            ],
            [
             0.2222222222222222,
             "#7201a8"
            ],
            [
             0.3333333333333333,
             "#9c179e"
            ],
            [
             0.4444444444444444,
             "#bd3786"
            ],
            [
             0.5555555555555556,
             "#d8576b"
            ],
            [
             0.6666666666666666,
             "#ed7953"
            ],
            [
             0.7777777777777778,
             "#fb9f3a"
            ],
            [
             0.8888888888888888,
             "#fdca26"
            ],
            [
             1,
             "#f0f921"
            ]
           ],
           "sequentialminus": [
            [
             0,
             "#0d0887"
            ],
            [
             0.1111111111111111,
             "#46039f"
            ],
            [
             0.2222222222222222,
             "#7201a8"
            ],
            [
             0.3333333333333333,
             "#9c179e"
            ],
            [
             0.4444444444444444,
             "#bd3786"
            ],
            [
             0.5555555555555556,
             "#d8576b"
            ],
            [
             0.6666666666666666,
             "#ed7953"
            ],
            [
             0.7777777777777778,
             "#fb9f3a"
            ],
            [
             0.8888888888888888,
             "#fdca26"
            ],
            [
             1,
             "#f0f921"
            ]
           ]
          },
          "colorway": [
           "#636efa",
           "#EF553B",
           "#00cc96",
           "#ab63fa",
           "#FFA15A",
           "#19d3f3",
           "#FF6692",
           "#B6E880",
           "#FF97FF",
           "#FECB52"
          ],
          "font": {
           "color": "#2a3f5f"
          },
          "geo": {
           "bgcolor": "white",
           "lakecolor": "white",
           "landcolor": "#E5ECF6",
           "showlakes": true,
           "showland": true,
           "subunitcolor": "white"
          },
          "hoverlabel": {
           "align": "left"
          },
          "hovermode": "closest",
          "mapbox": {
           "style": "light"
          },
          "paper_bgcolor": "white",
          "plot_bgcolor": "#E5ECF6",
          "polar": {
           "angularaxis": {
            "gridcolor": "white",
            "linecolor": "white",
            "ticks": ""
           },
           "bgcolor": "#E5ECF6",
           "radialaxis": {
            "gridcolor": "white",
            "linecolor": "white",
            "ticks": ""
           }
          },
          "scene": {
           "xaxis": {
            "backgroundcolor": "#E5ECF6",
            "gridcolor": "white",
            "gridwidth": 2,
            "linecolor": "white",
            "showbackground": true,
            "ticks": "",
            "zerolinecolor": "white"
           },
           "yaxis": {
            "backgroundcolor": "#E5ECF6",
            "gridcolor": "white",
            "gridwidth": 2,
            "linecolor": "white",
            "showbackground": true,
            "ticks": "",
            "zerolinecolor": "white"
           },
           "zaxis": {
            "backgroundcolor": "#E5ECF6",
            "gridcolor": "white",
            "gridwidth": 2,
            "linecolor": "white",
            "showbackground": true,
            "ticks": "",
            "zerolinecolor": "white"
           }
          },
          "shapedefaults": {
           "line": {
            "color": "#2a3f5f"
           }
          },
          "ternary": {
           "aaxis": {
            "gridcolor": "white",
            "linecolor": "white",
            "ticks": ""
           },
           "baxis": {
            "gridcolor": "white",
            "linecolor": "white",
            "ticks": ""
           },
           "bgcolor": "#E5ECF6",
           "caxis": {
            "gridcolor": "white",
            "linecolor": "white",
            "ticks": ""
           }
          },
          "title": {
           "x": 0.05
          },
          "xaxis": {
           "automargin": true,
           "gridcolor": "white",
           "linecolor": "white",
           "ticks": "",
           "title": {
            "standoff": 15
           },
           "zerolinecolor": "white",
           "zerolinewidth": 2
          },
          "yaxis": {
           "automargin": true,
           "gridcolor": "white",
           "linecolor": "white",
           "ticks": "",
           "title": {
            "standoff": 15
           },
           "zerolinecolor": "white",
           "zerolinewidth": 2
          }
         }
        },
        "title": {
         "text": "Distribution of Wheel-base"
        },
        "xaxis": {
         "anchor": "y",
         "domain": [
          0,
          1
         ],
         "title": {
          "text": "Wheel-base"
         }
        },
        "yaxis": {
         "anchor": "x",
         "domain": [
          0,
          1
         ],
         "title": {
          "text": "Count"
         }
        }
       }
      }
     },
     "metadata": {},
     "output_type": "display_data"
    }
   ],
   "source": [
    "column = 'Wheel-base'\n",
    "\n",
    "fig = px.histogram(df, x= column, nbins=30)\n",
    "\n",
    "fig.update_layout(\n",
    "    title=\"Distribution of \" + column,\n",
    "    xaxis_title=column,\n",
    "    yaxis_title=\"Count\"\n",
    ")"
   ]
  },
  {
   "cell_type": "code",
   "execution_count": 136,
   "metadata": {},
   "outputs": [
    {
     "data": {
      "application/vnd.plotly.v1+json": {
       "config": {
        "plotlyServerURL": "https://plot.ly"
       },
       "data": [
        {
         "alignmentgroup": "True",
         "bingroup": "x",
         "hovertemplate": "Horsepower=%{x}<br>count=%{y}<extra></extra>",
         "legendgroup": "",
         "marker": {
          "color": "#636efa",
          "pattern": {
           "shape": ""
          }
         },
         "name": "",
         "nbinsx": 30,
         "offsetgroup": "",
         "orientation": "v",
         "showlegend": false,
         "type": "histogram",
         "x": [
          111,
          111,
          154,
          115,
          110,
          110,
          110,
          140,
          102,
          101,
          101,
          121,
          121,
          121,
          182,
          182,
          182,
          70,
          70,
          48,
          68,
          68,
          102,
          68,
          68,
          68,
          102,
          88,
          145,
          58,
          76,
          60,
          76,
          76,
          76,
          76,
          86,
          86,
          86,
          86,
          101,
          100,
          78,
          90,
          176,
          176,
          262,
          68,
          68,
          68,
          68,
          68,
          84,
          84,
          84,
          84,
          64,
          84,
          120,
          72,
          155,
          155,
          184,
          184,
          123,
          123,
          123,
          123,
          175,
          68,
          68,
          68,
          102,
          116,
          88,
          145,
          145,
          145,
          88,
          88,
          116,
          116,
          116,
          69,
          55,
          69,
          69,
          69,
          69,
          69,
          69,
          69,
          69,
          97,
          97,
          152,
          152,
          152,
          160,
          200,
          97,
          95,
          97,
          95,
          95,
          95,
          95,
          95,
          97,
          95,
          142,
          68,
          102,
          68,
          68,
          68,
          68,
          68,
          88,
          145,
          143,
          207,
          207,
          207,
          207,
          110,
          110,
          110,
          110,
          160,
          160,
          69,
          69,
          73,
          73,
          82,
          82,
          94,
          82,
          111,
          111,
          82,
          94,
          82,
          111,
          62,
          62,
          62,
          62,
          70,
          70,
          56,
          56,
          70,
          70,
          70,
          112,
          112,
          116,
          116,
          116,
          116,
          116,
          92,
          92,
          73,
          92,
          92,
          92,
          156,
          156,
          110,
          52,
          85,
          52,
          85,
          85,
          68,
          100,
          90,
          90,
          68,
          68,
          88,
          114,
          114,
          114,
          114,
          162,
          162,
          114,
          160,
          114,
          134,
          106
         ],
         "xaxis": "x",
         "yaxis": "y"
        }
       ],
       "layout": {
        "barmode": "relative",
        "legend": {
         "tracegroupgap": 0
        },
        "margin": {
         "t": 60
        },
        "template": {
         "data": {
          "bar": [
           {
            "error_x": {
             "color": "#2a3f5f"
            },
            "error_y": {
             "color": "#2a3f5f"
            },
            "marker": {
             "line": {
              "color": "#E5ECF6",
              "width": 0.5
             },
             "pattern": {
              "fillmode": "overlay",
              "size": 10,
              "solidity": 0.2
             }
            },
            "type": "bar"
           }
          ],
          "barpolar": [
           {
            "marker": {
             "line": {
              "color": "#E5ECF6",
              "width": 0.5
             },
             "pattern": {
              "fillmode": "overlay",
              "size": 10,
              "solidity": 0.2
             }
            },
            "type": "barpolar"
           }
          ],
          "carpet": [
           {
            "aaxis": {
             "endlinecolor": "#2a3f5f",
             "gridcolor": "white",
             "linecolor": "white",
             "minorgridcolor": "white",
             "startlinecolor": "#2a3f5f"
            },
            "baxis": {
             "endlinecolor": "#2a3f5f",
             "gridcolor": "white",
             "linecolor": "white",
             "minorgridcolor": "white",
             "startlinecolor": "#2a3f5f"
            },
            "type": "carpet"
           }
          ],
          "choropleth": [
           {
            "colorbar": {
             "outlinewidth": 0,
             "ticks": ""
            },
            "type": "choropleth"
           }
          ],
          "contour": [
           {
            "colorbar": {
             "outlinewidth": 0,
             "ticks": ""
            },
            "colorscale": [
             [
              0,
              "#0d0887"
             ],
             [
              0.1111111111111111,
              "#46039f"
             ],
             [
              0.2222222222222222,
              "#7201a8"
             ],
             [
              0.3333333333333333,
              "#9c179e"
             ],
             [
              0.4444444444444444,
              "#bd3786"
             ],
             [
              0.5555555555555556,
              "#d8576b"
             ],
             [
              0.6666666666666666,
              "#ed7953"
             ],
             [
              0.7777777777777778,
              "#fb9f3a"
             ],
             [
              0.8888888888888888,
              "#fdca26"
             ],
             [
              1,
              "#f0f921"
             ]
            ],
            "type": "contour"
           }
          ],
          "contourcarpet": [
           {
            "colorbar": {
             "outlinewidth": 0,
             "ticks": ""
            },
            "type": "contourcarpet"
           }
          ],
          "heatmap": [
           {
            "colorbar": {
             "outlinewidth": 0,
             "ticks": ""
            },
            "colorscale": [
             [
              0,
              "#0d0887"
             ],
             [
              0.1111111111111111,
              "#46039f"
             ],
             [
              0.2222222222222222,
              "#7201a8"
             ],
             [
              0.3333333333333333,
              "#9c179e"
             ],
             [
              0.4444444444444444,
              "#bd3786"
             ],
             [
              0.5555555555555556,
              "#d8576b"
             ],
             [
              0.6666666666666666,
              "#ed7953"
             ],
             [
              0.7777777777777778,
              "#fb9f3a"
             ],
             [
              0.8888888888888888,
              "#fdca26"
             ],
             [
              1,
              "#f0f921"
             ]
            ],
            "type": "heatmap"
           }
          ],
          "heatmapgl": [
           {
            "colorbar": {
             "outlinewidth": 0,
             "ticks": ""
            },
            "colorscale": [
             [
              0,
              "#0d0887"
             ],
             [
              0.1111111111111111,
              "#46039f"
             ],
             [
              0.2222222222222222,
              "#7201a8"
             ],
             [
              0.3333333333333333,
              "#9c179e"
             ],
             [
              0.4444444444444444,
              "#bd3786"
             ],
             [
              0.5555555555555556,
              "#d8576b"
             ],
             [
              0.6666666666666666,
              "#ed7953"
             ],
             [
              0.7777777777777778,
              "#fb9f3a"
             ],
             [
              0.8888888888888888,
              "#fdca26"
             ],
             [
              1,
              "#f0f921"
             ]
            ],
            "type": "heatmapgl"
           }
          ],
          "histogram": [
           {
            "marker": {
             "pattern": {
              "fillmode": "overlay",
              "size": 10,
              "solidity": 0.2
             }
            },
            "type": "histogram"
           }
          ],
          "histogram2d": [
           {
            "colorbar": {
             "outlinewidth": 0,
             "ticks": ""
            },
            "colorscale": [
             [
              0,
              "#0d0887"
             ],
             [
              0.1111111111111111,
              "#46039f"
             ],
             [
              0.2222222222222222,
              "#7201a8"
             ],
             [
              0.3333333333333333,
              "#9c179e"
             ],
             [
              0.4444444444444444,
              "#bd3786"
             ],
             [
              0.5555555555555556,
              "#d8576b"
             ],
             [
              0.6666666666666666,
              "#ed7953"
             ],
             [
              0.7777777777777778,
              "#fb9f3a"
             ],
             [
              0.8888888888888888,
              "#fdca26"
             ],
             [
              1,
              "#f0f921"
             ]
            ],
            "type": "histogram2d"
           }
          ],
          "histogram2dcontour": [
           {
            "colorbar": {
             "outlinewidth": 0,
             "ticks": ""
            },
            "colorscale": [
             [
              0,
              "#0d0887"
             ],
             [
              0.1111111111111111,
              "#46039f"
             ],
             [
              0.2222222222222222,
              "#7201a8"
             ],
             [
              0.3333333333333333,
              "#9c179e"
             ],
             [
              0.4444444444444444,
              "#bd3786"
             ],
             [
              0.5555555555555556,
              "#d8576b"
             ],
             [
              0.6666666666666666,
              "#ed7953"
             ],
             [
              0.7777777777777778,
              "#fb9f3a"
             ],
             [
              0.8888888888888888,
              "#fdca26"
             ],
             [
              1,
              "#f0f921"
             ]
            ],
            "type": "histogram2dcontour"
           }
          ],
          "mesh3d": [
           {
            "colorbar": {
             "outlinewidth": 0,
             "ticks": ""
            },
            "type": "mesh3d"
           }
          ],
          "parcoords": [
           {
            "line": {
             "colorbar": {
              "outlinewidth": 0,
              "ticks": ""
             }
            },
            "type": "parcoords"
           }
          ],
          "pie": [
           {
            "automargin": true,
            "type": "pie"
           }
          ],
          "scatter": [
           {
            "fillpattern": {
             "fillmode": "overlay",
             "size": 10,
             "solidity": 0.2
            },
            "type": "scatter"
           }
          ],
          "scatter3d": [
           {
            "line": {
             "colorbar": {
              "outlinewidth": 0,
              "ticks": ""
             }
            },
            "marker": {
             "colorbar": {
              "outlinewidth": 0,
              "ticks": ""
             }
            },
            "type": "scatter3d"
           }
          ],
          "scattercarpet": [
           {
            "marker": {
             "colorbar": {
              "outlinewidth": 0,
              "ticks": ""
             }
            },
            "type": "scattercarpet"
           }
          ],
          "scattergeo": [
           {
            "marker": {
             "colorbar": {
              "outlinewidth": 0,
              "ticks": ""
             }
            },
            "type": "scattergeo"
           }
          ],
          "scattergl": [
           {
            "marker": {
             "colorbar": {
              "outlinewidth": 0,
              "ticks": ""
             }
            },
            "type": "scattergl"
           }
          ],
          "scattermapbox": [
           {
            "marker": {
             "colorbar": {
              "outlinewidth": 0,
              "ticks": ""
             }
            },
            "type": "scattermapbox"
           }
          ],
          "scatterpolar": [
           {
            "marker": {
             "colorbar": {
              "outlinewidth": 0,
              "ticks": ""
             }
            },
            "type": "scatterpolar"
           }
          ],
          "scatterpolargl": [
           {
            "marker": {
             "colorbar": {
              "outlinewidth": 0,
              "ticks": ""
             }
            },
            "type": "scatterpolargl"
           }
          ],
          "scatterternary": [
           {
            "marker": {
             "colorbar": {
              "outlinewidth": 0,
              "ticks": ""
             }
            },
            "type": "scatterternary"
           }
          ],
          "surface": [
           {
            "colorbar": {
             "outlinewidth": 0,
             "ticks": ""
            },
            "colorscale": [
             [
              0,
              "#0d0887"
             ],
             [
              0.1111111111111111,
              "#46039f"
             ],
             [
              0.2222222222222222,
              "#7201a8"
             ],
             [
              0.3333333333333333,
              "#9c179e"
             ],
             [
              0.4444444444444444,
              "#bd3786"
             ],
             [
              0.5555555555555556,
              "#d8576b"
             ],
             [
              0.6666666666666666,
              "#ed7953"
             ],
             [
              0.7777777777777778,
              "#fb9f3a"
             ],
             [
              0.8888888888888888,
              "#fdca26"
             ],
             [
              1,
              "#f0f921"
             ]
            ],
            "type": "surface"
           }
          ],
          "table": [
           {
            "cells": {
             "fill": {
              "color": "#EBF0F8"
             },
             "line": {
              "color": "white"
             }
            },
            "header": {
             "fill": {
              "color": "#C8D4E3"
             },
             "line": {
              "color": "white"
             }
            },
            "type": "table"
           }
          ]
         },
         "layout": {
          "annotationdefaults": {
           "arrowcolor": "#2a3f5f",
           "arrowhead": 0,
           "arrowwidth": 1
          },
          "autotypenumbers": "strict",
          "coloraxis": {
           "colorbar": {
            "outlinewidth": 0,
            "ticks": ""
           }
          },
          "colorscale": {
           "diverging": [
            [
             0,
             "#8e0152"
            ],
            [
             0.1,
             "#c51b7d"
            ],
            [
             0.2,
             "#de77ae"
            ],
            [
             0.3,
             "#f1b6da"
            ],
            [
             0.4,
             "#fde0ef"
            ],
            [
             0.5,
             "#f7f7f7"
            ],
            [
             0.6,
             "#e6f5d0"
            ],
            [
             0.7,
             "#b8e186"
            ],
            [
             0.8,
             "#7fbc41"
            ],
            [
             0.9,
             "#4d9221"
            ],
            [
             1,
             "#276419"
            ]
           ],
           "sequential": [
            [
             0,
             "#0d0887"
            ],
            [
             0.1111111111111111,
             "#46039f"
            ],
            [
             0.2222222222222222,
             "#7201a8"
            ],
            [
             0.3333333333333333,
             "#9c179e"
            ],
            [
             0.4444444444444444,
             "#bd3786"
            ],
            [
             0.5555555555555556,
             "#d8576b"
            ],
            [
             0.6666666666666666,
             "#ed7953"
            ],
            [
             0.7777777777777778,
             "#fb9f3a"
            ],
            [
             0.8888888888888888,
             "#fdca26"
            ],
            [
             1,
             "#f0f921"
            ]
           ],
           "sequentialminus": [
            [
             0,
             "#0d0887"
            ],
            [
             0.1111111111111111,
             "#46039f"
            ],
            [
             0.2222222222222222,
             "#7201a8"
            ],
            [
             0.3333333333333333,
             "#9c179e"
            ],
            [
             0.4444444444444444,
             "#bd3786"
            ],
            [
             0.5555555555555556,
             "#d8576b"
            ],
            [
             0.6666666666666666,
             "#ed7953"
            ],
            [
             0.7777777777777778,
             "#fb9f3a"
            ],
            [
             0.8888888888888888,
             "#fdca26"
            ],
            [
             1,
             "#f0f921"
            ]
           ]
          },
          "colorway": [
           "#636efa",
           "#EF553B",
           "#00cc96",
           "#ab63fa",
           "#FFA15A",
           "#19d3f3",
           "#FF6692",
           "#B6E880",
           "#FF97FF",
           "#FECB52"
          ],
          "font": {
           "color": "#2a3f5f"
          },
          "geo": {
           "bgcolor": "white",
           "lakecolor": "white",
           "landcolor": "#E5ECF6",
           "showlakes": true,
           "showland": true,
           "subunitcolor": "white"
          },
          "hoverlabel": {
           "align": "left"
          },
          "hovermode": "closest",
          "mapbox": {
           "style": "light"
          },
          "paper_bgcolor": "white",
          "plot_bgcolor": "#E5ECF6",
          "polar": {
           "angularaxis": {
            "gridcolor": "white",
            "linecolor": "white",
            "ticks": ""
           },
           "bgcolor": "#E5ECF6",
           "radialaxis": {
            "gridcolor": "white",
            "linecolor": "white",
            "ticks": ""
           }
          },
          "scene": {
           "xaxis": {
            "backgroundcolor": "#E5ECF6",
            "gridcolor": "white",
            "gridwidth": 2,
            "linecolor": "white",
            "showbackground": true,
            "ticks": "",
            "zerolinecolor": "white"
           },
           "yaxis": {
            "backgroundcolor": "#E5ECF6",
            "gridcolor": "white",
            "gridwidth": 2,
            "linecolor": "white",
            "showbackground": true,
            "ticks": "",
            "zerolinecolor": "white"
           },
           "zaxis": {
            "backgroundcolor": "#E5ECF6",
            "gridcolor": "white",
            "gridwidth": 2,
            "linecolor": "white",
            "showbackground": true,
            "ticks": "",
            "zerolinecolor": "white"
           }
          },
          "shapedefaults": {
           "line": {
            "color": "#2a3f5f"
           }
          },
          "ternary": {
           "aaxis": {
            "gridcolor": "white",
            "linecolor": "white",
            "ticks": ""
           },
           "baxis": {
            "gridcolor": "white",
            "linecolor": "white",
            "ticks": ""
           },
           "bgcolor": "#E5ECF6",
           "caxis": {
            "gridcolor": "white",
            "linecolor": "white",
            "ticks": ""
           }
          },
          "title": {
           "x": 0.05
          },
          "xaxis": {
           "automargin": true,
           "gridcolor": "white",
           "linecolor": "white",
           "ticks": "",
           "title": {
            "standoff": 15
           },
           "zerolinecolor": "white",
           "zerolinewidth": 2
          },
          "yaxis": {
           "automargin": true,
           "gridcolor": "white",
           "linecolor": "white",
           "ticks": "",
           "title": {
            "standoff": 15
           },
           "zerolinecolor": "white",
           "zerolinewidth": 2
          }
         }
        },
        "title": {
         "text": "Distribution of Horsepower"
        },
        "xaxis": {
         "anchor": "y",
         "domain": [
          0,
          1
         ],
         "title": {
          "text": "Horsepower"
         }
        },
        "yaxis": {
         "anchor": "x",
         "domain": [
          0,
          1
         ],
         "title": {
          "text": "Count"
         }
        }
       }
      }
     },
     "metadata": {},
     "output_type": "display_data"
    }
   ],
   "source": [
    "column = 'Horsepower'\n",
    "\n",
    "fig = px.histogram(df, x= column, nbins=30)\n",
    "\n",
    "fig.update_layout(\n",
    "    title=\"Distribution of \" + column,\n",
    "    xaxis_title=column,\n",
    "    yaxis_title=\"Count\"\n",
    ")"
   ]
  },
  {
   "cell_type": "code",
   "execution_count": 137,
   "metadata": {},
   "outputs": [
    {
     "data": {
      "application/vnd.plotly.v1+json": {
       "config": {
        "plotlyServerURL": "https://plot.ly"
       },
       "data": [
        {
         "alignmentgroup": "True",
         "bingroup": "x",
         "hovertemplate": "Price=%{x}<br>count=%{y}<extra></extra>",
         "legendgroup": "",
         "marker": {
          "color": "#636efa",
          "pattern": {
           "shape": ""
          }
         },
         "name": "",
         "nbinsx": 30,
         "offsetgroup": "",
         "orientation": "v",
         "showlegend": false,
         "type": "histogram",
         "x": [
          13495,
          16500,
          16500,
          17450,
          15250,
          17710,
          18920,
          23875,
          13950,
          16430,
          16925,
          20970,
          21105,
          24565,
          30760,
          41315,
          36880,
          6295,
          6575,
          5151,
          5572,
          6377,
          7957,
          6229,
          6692,
          7609,
          8558,
          8921,
          12964,
          6479,
          6855,
          5399,
          6529,
          7129,
          7295,
          7295,
          7895,
          9095,
          8845,
          10295,
          12945,
          10345,
          6785,
          11048,
          32250,
          35550,
          36000,
          5195,
          6095,
          6795,
          6695,
          7395,
          8845,
          8495,
          10595,
          10245,
          10795,
          11245,
          18280,
          18344,
          34184,
          35056,
          40960,
          45400,
          25552,
          28248,
          28176,
          31500,
          16503,
          5389,
          6189,
          6669,
          7689,
          9959,
          8499,
          12629,
          14869,
          14489,
          6989,
          8189,
          9279,
          9279,
          9389,
          5499,
          7099,
          6649,
          6849,
          7349,
          7299,
          7799,
          7499,
          7999,
          8249,
          8949,
          9549,
          13499,
          14399,
          13499,
          17199,
          19699,
          11900,
          13200,
          12440,
          13860,
          15580,
          16900,
          16695,
          17075,
          16630,
          17950,
          18150,
          5572,
          7957,
          6229,
          6692,
          7609,
          8129,
          8232,
          8921,
          12764,
          22018,
          32528,
          33288,
          34028,
          37028,
          11850,
          12170,
          15040,
          15510,
          18150,
          18620,
          5118,
          6213,
          7053,
          7603,
          7126,
          7775,
          9960,
          9233,
          10329,
          11259,
          7463,
          10198,
          8013,
          11694,
          5348,
          6918,
          7898,
          8778,
          6938,
          7198,
          7898,
          7788,
          7738,
          8358,
          8238,
          9298,
          9538,
          8449,
          9615,
          11199,
          11549,
          17789,
          8972,
          10588,
          10698,
          10719,
          10898,
          11248,
          15690,
          15750,
          13295,
          7775,
          7975,
          7995,
          8195,
          8495,
          9495,
          9995,
          11595,
          9980,
          13845,
          12660,
          12290,
          12940,
          13415,
          15985,
          16515,
          18420,
          18950,
          16845,
          19045,
          22625,
          21485,
          22470
         ],
         "xaxis": "x",
         "yaxis": "y"
        }
       ],
       "layout": {
        "barmode": "relative",
        "legend": {
         "tracegroupgap": 0
        },
        "margin": {
         "t": 60
        },
        "template": {
         "data": {
          "bar": [
           {
            "error_x": {
             "color": "#2a3f5f"
            },
            "error_y": {
             "color": "#2a3f5f"
            },
            "marker": {
             "line": {
              "color": "#E5ECF6",
              "width": 0.5
             },
             "pattern": {
              "fillmode": "overlay",
              "size": 10,
              "solidity": 0.2
             }
            },
            "type": "bar"
           }
          ],
          "barpolar": [
           {
            "marker": {
             "line": {
              "color": "#E5ECF6",
              "width": 0.5
             },
             "pattern": {
              "fillmode": "overlay",
              "size": 10,
              "solidity": 0.2
             }
            },
            "type": "barpolar"
           }
          ],
          "carpet": [
           {
            "aaxis": {
             "endlinecolor": "#2a3f5f",
             "gridcolor": "white",
             "linecolor": "white",
             "minorgridcolor": "white",
             "startlinecolor": "#2a3f5f"
            },
            "baxis": {
             "endlinecolor": "#2a3f5f",
             "gridcolor": "white",
             "linecolor": "white",
             "minorgridcolor": "white",
             "startlinecolor": "#2a3f5f"
            },
            "type": "carpet"
           }
          ],
          "choropleth": [
           {
            "colorbar": {
             "outlinewidth": 0,
             "ticks": ""
            },
            "type": "choropleth"
           }
          ],
          "contour": [
           {
            "colorbar": {
             "outlinewidth": 0,
             "ticks": ""
            },
            "colorscale": [
             [
              0,
              "#0d0887"
             ],
             [
              0.1111111111111111,
              "#46039f"
             ],
             [
              0.2222222222222222,
              "#7201a8"
             ],
             [
              0.3333333333333333,
              "#9c179e"
             ],
             [
              0.4444444444444444,
              "#bd3786"
             ],
             [
              0.5555555555555556,
              "#d8576b"
             ],
             [
              0.6666666666666666,
              "#ed7953"
             ],
             [
              0.7777777777777778,
              "#fb9f3a"
             ],
             [
              0.8888888888888888,
              "#fdca26"
             ],
             [
              1,
              "#f0f921"
             ]
            ],
            "type": "contour"
           }
          ],
          "contourcarpet": [
           {
            "colorbar": {
             "outlinewidth": 0,
             "ticks": ""
            },
            "type": "contourcarpet"
           }
          ],
          "heatmap": [
           {
            "colorbar": {
             "outlinewidth": 0,
             "ticks": ""
            },
            "colorscale": [
             [
              0,
              "#0d0887"
             ],
             [
              0.1111111111111111,
              "#46039f"
             ],
             [
              0.2222222222222222,
              "#7201a8"
             ],
             [
              0.3333333333333333,
              "#9c179e"
             ],
             [
              0.4444444444444444,
              "#bd3786"
             ],
             [
              0.5555555555555556,
              "#d8576b"
             ],
             [
              0.6666666666666666,
              "#ed7953"
             ],
             [
              0.7777777777777778,
              "#fb9f3a"
             ],
             [
              0.8888888888888888,
              "#fdca26"
             ],
             [
              1,
              "#f0f921"
             ]
            ],
            "type": "heatmap"
           }
          ],
          "heatmapgl": [
           {
            "colorbar": {
             "outlinewidth": 0,
             "ticks": ""
            },
            "colorscale": [
             [
              0,
              "#0d0887"
             ],
             [
              0.1111111111111111,
              "#46039f"
             ],
             [
              0.2222222222222222,
              "#7201a8"
             ],
             [
              0.3333333333333333,
              "#9c179e"
             ],
             [
              0.4444444444444444,
              "#bd3786"
             ],
             [
              0.5555555555555556,
              "#d8576b"
             ],
             [
              0.6666666666666666,
              "#ed7953"
             ],
             [
              0.7777777777777778,
              "#fb9f3a"
             ],
             [
              0.8888888888888888,
              "#fdca26"
             ],
             [
              1,
              "#f0f921"
             ]
            ],
            "type": "heatmapgl"
           }
          ],
          "histogram": [
           {
            "marker": {
             "pattern": {
              "fillmode": "overlay",
              "size": 10,
              "solidity": 0.2
             }
            },
            "type": "histogram"
           }
          ],
          "histogram2d": [
           {
            "colorbar": {
             "outlinewidth": 0,
             "ticks": ""
            },
            "colorscale": [
             [
              0,
              "#0d0887"
             ],
             [
              0.1111111111111111,
              "#46039f"
             ],
             [
              0.2222222222222222,
              "#7201a8"
             ],
             [
              0.3333333333333333,
              "#9c179e"
             ],
             [
              0.4444444444444444,
              "#bd3786"
             ],
             [
              0.5555555555555556,
              "#d8576b"
             ],
             [
              0.6666666666666666,
              "#ed7953"
             ],
             [
              0.7777777777777778,
              "#fb9f3a"
             ],
             [
              0.8888888888888888,
              "#fdca26"
             ],
             [
              1,
              "#f0f921"
             ]
            ],
            "type": "histogram2d"
           }
          ],
          "histogram2dcontour": [
           {
            "colorbar": {
             "outlinewidth": 0,
             "ticks": ""
            },
            "colorscale": [
             [
              0,
              "#0d0887"
             ],
             [
              0.1111111111111111,
              "#46039f"
             ],
             [
              0.2222222222222222,
              "#7201a8"
             ],
             [
              0.3333333333333333,
              "#9c179e"
             ],
             [
              0.4444444444444444,
              "#bd3786"
             ],
             [
              0.5555555555555556,
              "#d8576b"
             ],
             [
              0.6666666666666666,
              "#ed7953"
             ],
             [
              0.7777777777777778,
              "#fb9f3a"
             ],
             [
              0.8888888888888888,
              "#fdca26"
             ],
             [
              1,
              "#f0f921"
             ]
            ],
            "type": "histogram2dcontour"
           }
          ],
          "mesh3d": [
           {
            "colorbar": {
             "outlinewidth": 0,
             "ticks": ""
            },
            "type": "mesh3d"
           }
          ],
          "parcoords": [
           {
            "line": {
             "colorbar": {
              "outlinewidth": 0,
              "ticks": ""
             }
            },
            "type": "parcoords"
           }
          ],
          "pie": [
           {
            "automargin": true,
            "type": "pie"
           }
          ],
          "scatter": [
           {
            "fillpattern": {
             "fillmode": "overlay",
             "size": 10,
             "solidity": 0.2
            },
            "type": "scatter"
           }
          ],
          "scatter3d": [
           {
            "line": {
             "colorbar": {
              "outlinewidth": 0,
              "ticks": ""
             }
            },
            "marker": {
             "colorbar": {
              "outlinewidth": 0,
              "ticks": ""
             }
            },
            "type": "scatter3d"
           }
          ],
          "scattercarpet": [
           {
            "marker": {
             "colorbar": {
              "outlinewidth": 0,
              "ticks": ""
             }
            },
            "type": "scattercarpet"
           }
          ],
          "scattergeo": [
           {
            "marker": {
             "colorbar": {
              "outlinewidth": 0,
              "ticks": ""
             }
            },
            "type": "scattergeo"
           }
          ],
          "scattergl": [
           {
            "marker": {
             "colorbar": {
              "outlinewidth": 0,
              "ticks": ""
             }
            },
            "type": "scattergl"
           }
          ],
          "scattermapbox": [
           {
            "marker": {
             "colorbar": {
              "outlinewidth": 0,
              "ticks": ""
             }
            },
            "type": "scattermapbox"
           }
          ],
          "scatterpolar": [
           {
            "marker": {
             "colorbar": {
              "outlinewidth": 0,
              "ticks": ""
             }
            },
            "type": "scatterpolar"
           }
          ],
          "scatterpolargl": [
           {
            "marker": {
             "colorbar": {
              "outlinewidth": 0,
              "ticks": ""
             }
            },
            "type": "scatterpolargl"
           }
          ],
          "scatterternary": [
           {
            "marker": {
             "colorbar": {
              "outlinewidth": 0,
              "ticks": ""
             }
            },
            "type": "scatterternary"
           }
          ],
          "surface": [
           {
            "colorbar": {
             "outlinewidth": 0,
             "ticks": ""
            },
            "colorscale": [
             [
              0,
              "#0d0887"
             ],
             [
              0.1111111111111111,
              "#46039f"
             ],
             [
              0.2222222222222222,
              "#7201a8"
             ],
             [
              0.3333333333333333,
              "#9c179e"
             ],
             [
              0.4444444444444444,
              "#bd3786"
             ],
             [
              0.5555555555555556,
              "#d8576b"
             ],
             [
              0.6666666666666666,
              "#ed7953"
             ],
             [
              0.7777777777777778,
              "#fb9f3a"
             ],
             [
              0.8888888888888888,
              "#fdca26"
             ],
             [
              1,
              "#f0f921"
             ]
            ],
            "type": "surface"
           }
          ],
          "table": [
           {
            "cells": {
             "fill": {
              "color": "#EBF0F8"
             },
             "line": {
              "color": "white"
             }
            },
            "header": {
             "fill": {
              "color": "#C8D4E3"
             },
             "line": {
              "color": "white"
             }
            },
            "type": "table"
           }
          ]
         },
         "layout": {
          "annotationdefaults": {
           "arrowcolor": "#2a3f5f",
           "arrowhead": 0,
           "arrowwidth": 1
          },
          "autotypenumbers": "strict",
          "coloraxis": {
           "colorbar": {
            "outlinewidth": 0,
            "ticks": ""
           }
          },
          "colorscale": {
           "diverging": [
            [
             0,
             "#8e0152"
            ],
            [
             0.1,
             "#c51b7d"
            ],
            [
             0.2,
             "#de77ae"
            ],
            [
             0.3,
             "#f1b6da"
            ],
            [
             0.4,
             "#fde0ef"
            ],
            [
             0.5,
             "#f7f7f7"
            ],
            [
             0.6,
             "#e6f5d0"
            ],
            [
             0.7,
             "#b8e186"
            ],
            [
             0.8,
             "#7fbc41"
            ],
            [
             0.9,
             "#4d9221"
            ],
            [
             1,
             "#276419"
            ]
           ],
           "sequential": [
            [
             0,
             "#0d0887"
            ],
            [
             0.1111111111111111,
             "#46039f"
            ],
            [
             0.2222222222222222,
             "#7201a8"
            ],
            [
             0.3333333333333333,
             "#9c179e"
            ],
            [
             0.4444444444444444,
             "#bd3786"
            ],
            [
             0.5555555555555556,
             "#d8576b"
            ],
            [
             0.6666666666666666,
             "#ed7953"
            ],
            [
             0.7777777777777778,
             "#fb9f3a"
            ],
            [
             0.8888888888888888,
             "#fdca26"
            ],
            [
             1,
             "#f0f921"
            ]
           ],
           "sequentialminus": [
            [
             0,
             "#0d0887"
            ],
            [
             0.1111111111111111,
             "#46039f"
            ],
            [
             0.2222222222222222,
             "#7201a8"
            ],
            [
             0.3333333333333333,
             "#9c179e"
            ],
            [
             0.4444444444444444,
             "#bd3786"
            ],
            [
             0.5555555555555556,
             "#d8576b"
            ],
            [
             0.6666666666666666,
             "#ed7953"
            ],
            [
             0.7777777777777778,
             "#fb9f3a"
            ],
            [
             0.8888888888888888,
             "#fdca26"
            ],
            [
             1,
             "#f0f921"
            ]
           ]
          },
          "colorway": [
           "#636efa",
           "#EF553B",
           "#00cc96",
           "#ab63fa",
           "#FFA15A",
           "#19d3f3",
           "#FF6692",
           "#B6E880",
           "#FF97FF",
           "#FECB52"
          ],
          "font": {
           "color": "#2a3f5f"
          },
          "geo": {
           "bgcolor": "white",
           "lakecolor": "white",
           "landcolor": "#E5ECF6",
           "showlakes": true,
           "showland": true,
           "subunitcolor": "white"
          },
          "hoverlabel": {
           "align": "left"
          },
          "hovermode": "closest",
          "mapbox": {
           "style": "light"
          },
          "paper_bgcolor": "white",
          "plot_bgcolor": "#E5ECF6",
          "polar": {
           "angularaxis": {
            "gridcolor": "white",
            "linecolor": "white",
            "ticks": ""
           },
           "bgcolor": "#E5ECF6",
           "radialaxis": {
            "gridcolor": "white",
            "linecolor": "white",
            "ticks": ""
           }
          },
          "scene": {
           "xaxis": {
            "backgroundcolor": "#E5ECF6",
            "gridcolor": "white",
            "gridwidth": 2,
            "linecolor": "white",
            "showbackground": true,
            "ticks": "",
            "zerolinecolor": "white"
           },
           "yaxis": {
            "backgroundcolor": "#E5ECF6",
            "gridcolor": "white",
            "gridwidth": 2,
            "linecolor": "white",
            "showbackground": true,
            "ticks": "",
            "zerolinecolor": "white"
           },
           "zaxis": {
            "backgroundcolor": "#E5ECF6",
            "gridcolor": "white",
            "gridwidth": 2,
            "linecolor": "white",
            "showbackground": true,
            "ticks": "",
            "zerolinecolor": "white"
           }
          },
          "shapedefaults": {
           "line": {
            "color": "#2a3f5f"
           }
          },
          "ternary": {
           "aaxis": {
            "gridcolor": "white",
            "linecolor": "white",
            "ticks": ""
           },
           "baxis": {
            "gridcolor": "white",
            "linecolor": "white",
            "ticks": ""
           },
           "bgcolor": "#E5ECF6",
           "caxis": {
            "gridcolor": "white",
            "linecolor": "white",
            "ticks": ""
           }
          },
          "title": {
           "x": 0.05
          },
          "xaxis": {
           "automargin": true,
           "gridcolor": "white",
           "linecolor": "white",
           "ticks": "",
           "title": {
            "standoff": 15
           },
           "zerolinecolor": "white",
           "zerolinewidth": 2
          },
          "yaxis": {
           "automargin": true,
           "gridcolor": "white",
           "linecolor": "white",
           "ticks": "",
           "title": {
            "standoff": 15
           },
           "zerolinecolor": "white",
           "zerolinewidth": 2
          }
         }
        },
        "title": {
         "text": "Distribution of Price"
        },
        "xaxis": {
         "anchor": "y",
         "domain": [
          0,
          1
         ],
         "title": {
          "text": "Price"
         }
        },
        "yaxis": {
         "anchor": "x",
         "domain": [
          0,
          1
         ],
         "title": {
          "text": "Count"
         }
        }
       }
      }
     },
     "metadata": {},
     "output_type": "display_data"
    }
   ],
   "source": [
    "column = 'Price'\n",
    "\n",
    "fig = px.histogram(df, x= column, nbins=30)\n",
    "\n",
    "fig.update_layout(\n",
    "    title=\"Distribution of \" + column,\n",
    "    xaxis_title=column,\n",
    "    yaxis_title=\"Count\"\n",
    ")"
   ]
  },
  {
   "cell_type": "code",
   "execution_count": 138,
   "metadata": {},
   "outputs": [],
   "source": [
    "# columns_to_transform = ['Wheel-base', 'Length', 'Width', 'Height', 'Curb-weight', 'Cylinders', 'Cylinders', 'Cylinders','Horsepower','City-mpg','Highway-mpg','Price']\n",
    "\n",
    "# pca = PCA()\n",
    "# principal_components = pca.fit_transform(df[columns_to_transform])\n",
    "\n",
    "# # Calculate correlation matrix\n",
    "# correlation_matrix = np.corrcoef(principal_components.T)\n",
    "\n",
    "# # Check for orthogonality\n",
    "# is_orthogonal = np.allclose(correlation_matrix, np.eye(correlation_matrix.shape[0]))\n",
    "# print(\"Are the principal components orthogonal?\", is_orthogonal)"
   ]
  },
  {
   "attachments": {},
   "cell_type": "markdown",
   "metadata": {},
   "source": [
    "---"
   ]
  },
  {
   "attachments": {},
   "cell_type": "markdown",
   "metadata": {},
   "source": [
    "**<h1>`Question 2 (A)`</h1>**"
   ]
  },
  {
   "cell_type": "code",
   "execution_count": 139,
   "metadata": {},
   "outputs": [
    {
     "data": {
      "text/html": [
       "<div>\n",
       "<style scoped>\n",
       "    .dataframe tbody tr th:only-of-type {\n",
       "        vertical-align: middle;\n",
       "    }\n",
       "\n",
       "    .dataframe tbody tr th {\n",
       "        vertical-align: top;\n",
       "    }\n",
       "\n",
       "    .dataframe thead th {\n",
       "        text-align: right;\n",
       "    }\n",
       "</style>\n",
       "<table border=\"1\" class=\"dataframe\">\n",
       "  <thead>\n",
       "    <tr style=\"text-align: right;\">\n",
       "      <th></th>\n",
       "      <th>Brand</th>\n",
       "      <th>Type</th>\n",
       "      <th>Wheel-base</th>\n",
       "      <th>Length</th>\n",
       "      <th>Width</th>\n",
       "      <th>Height</th>\n",
       "      <th>Curb-weight</th>\n",
       "      <th>Cylinders</th>\n",
       "      <th>Engine</th>\n",
       "      <th>Compression-ratio</th>\n",
       "      <th>Horsepower</th>\n",
       "      <th>City-mpg</th>\n",
       "      <th>Highway-mpg</th>\n",
       "      <th>Price</th>\n",
       "    </tr>\n",
       "  </thead>\n",
       "  <tbody>\n",
       "    <tr>\n",
       "      <th>0</th>\n",
       "      <td>alfa-romero</td>\n",
       "      <td>convertible</td>\n",
       "      <td>88.6</td>\n",
       "      <td>168.8</td>\n",
       "      <td>64.1</td>\n",
       "      <td>48.8</td>\n",
       "      <td>2548</td>\n",
       "      <td>4</td>\n",
       "      <td>130</td>\n",
       "      <td>9.0</td>\n",
       "      <td>111</td>\n",
       "      <td>21</td>\n",
       "      <td>27</td>\n",
       "      <td>13495</td>\n",
       "    </tr>\n",
       "    <tr>\n",
       "      <th>1</th>\n",
       "      <td>alfa-romero</td>\n",
       "      <td>convertible</td>\n",
       "      <td>88.6</td>\n",
       "      <td>168.8</td>\n",
       "      <td>64.1</td>\n",
       "      <td>48.8</td>\n",
       "      <td>2548</td>\n",
       "      <td>4</td>\n",
       "      <td>130</td>\n",
       "      <td>9.0</td>\n",
       "      <td>111</td>\n",
       "      <td>21</td>\n",
       "      <td>27</td>\n",
       "      <td>16500</td>\n",
       "    </tr>\n",
       "    <tr>\n",
       "      <th>2</th>\n",
       "      <td>alfa-romero</td>\n",
       "      <td>hatchback</td>\n",
       "      <td>94.5</td>\n",
       "      <td>171.2</td>\n",
       "      <td>65.5</td>\n",
       "      <td>52.4</td>\n",
       "      <td>2823</td>\n",
       "      <td>6</td>\n",
       "      <td>152</td>\n",
       "      <td>9.0</td>\n",
       "      <td>154</td>\n",
       "      <td>19</td>\n",
       "      <td>26</td>\n",
       "      <td>16500</td>\n",
       "    </tr>\n",
       "    <tr>\n",
       "      <th>3</th>\n",
       "      <td>audi</td>\n",
       "      <td>sedan</td>\n",
       "      <td>99.4</td>\n",
       "      <td>176.6</td>\n",
       "      <td>66.4</td>\n",
       "      <td>54.3</td>\n",
       "      <td>2824</td>\n",
       "      <td>5</td>\n",
       "      <td>136</td>\n",
       "      <td>8.0</td>\n",
       "      <td>115</td>\n",
       "      <td>18</td>\n",
       "      <td>22</td>\n",
       "      <td>17450</td>\n",
       "    </tr>\n",
       "    <tr>\n",
       "      <th>4</th>\n",
       "      <td>audi</td>\n",
       "      <td>sedan</td>\n",
       "      <td>99.8</td>\n",
       "      <td>177.3</td>\n",
       "      <td>66.3</td>\n",
       "      <td>53.1</td>\n",
       "      <td>2507</td>\n",
       "      <td>5</td>\n",
       "      <td>136</td>\n",
       "      <td>8.5</td>\n",
       "      <td>110</td>\n",
       "      <td>19</td>\n",
       "      <td>25</td>\n",
       "      <td>15250</td>\n",
       "    </tr>\n",
       "    <tr>\n",
       "      <th>...</th>\n",
       "      <td>...</td>\n",
       "      <td>...</td>\n",
       "      <td>...</td>\n",
       "      <td>...</td>\n",
       "      <td>...</td>\n",
       "      <td>...</td>\n",
       "      <td>...</td>\n",
       "      <td>...</td>\n",
       "      <td>...</td>\n",
       "      <td>...</td>\n",
       "      <td>...</td>\n",
       "      <td>...</td>\n",
       "      <td>...</td>\n",
       "      <td>...</td>\n",
       "    </tr>\n",
       "    <tr>\n",
       "      <th>190</th>\n",
       "      <td>volvo</td>\n",
       "      <td>sedan</td>\n",
       "      <td>109.1</td>\n",
       "      <td>188.8</td>\n",
       "      <td>68.9</td>\n",
       "      <td>55.5</td>\n",
       "      <td>2952</td>\n",
       "      <td>4</td>\n",
       "      <td>141</td>\n",
       "      <td>9.5</td>\n",
       "      <td>114</td>\n",
       "      <td>23</td>\n",
       "      <td>28</td>\n",
       "      <td>16845</td>\n",
       "    </tr>\n",
       "    <tr>\n",
       "      <th>191</th>\n",
       "      <td>volvo</td>\n",
       "      <td>sedan</td>\n",
       "      <td>109.1</td>\n",
       "      <td>188.8</td>\n",
       "      <td>68.8</td>\n",
       "      <td>55.5</td>\n",
       "      <td>3049</td>\n",
       "      <td>4</td>\n",
       "      <td>141</td>\n",
       "      <td>8.7</td>\n",
       "      <td>160</td>\n",
       "      <td>19</td>\n",
       "      <td>25</td>\n",
       "      <td>19045</td>\n",
       "    </tr>\n",
       "    <tr>\n",
       "      <th>192</th>\n",
       "      <td>volvo</td>\n",
       "      <td>sedan</td>\n",
       "      <td>109.1</td>\n",
       "      <td>188.8</td>\n",
       "      <td>68.9</td>\n",
       "      <td>55.5</td>\n",
       "      <td>3062</td>\n",
       "      <td>4</td>\n",
       "      <td>141</td>\n",
       "      <td>9.5</td>\n",
       "      <td>114</td>\n",
       "      <td>19</td>\n",
       "      <td>25</td>\n",
       "      <td>22625</td>\n",
       "    </tr>\n",
       "    <tr>\n",
       "      <th>193</th>\n",
       "      <td>volvo</td>\n",
       "      <td>sedan</td>\n",
       "      <td>109.1</td>\n",
       "      <td>188.8</td>\n",
       "      <td>68.9</td>\n",
       "      <td>55.5</td>\n",
       "      <td>3012</td>\n",
       "      <td>6</td>\n",
       "      <td>173</td>\n",
       "      <td>8.8</td>\n",
       "      <td>134</td>\n",
       "      <td>18</td>\n",
       "      <td>23</td>\n",
       "      <td>21485</td>\n",
       "    </tr>\n",
       "    <tr>\n",
       "      <th>194</th>\n",
       "      <td>volvo</td>\n",
       "      <td>sedan</td>\n",
       "      <td>109.1</td>\n",
       "      <td>188.8</td>\n",
       "      <td>68.9</td>\n",
       "      <td>55.5</td>\n",
       "      <td>3217</td>\n",
       "      <td>6</td>\n",
       "      <td>145</td>\n",
       "      <td>23.0</td>\n",
       "      <td>106</td>\n",
       "      <td>26</td>\n",
       "      <td>27</td>\n",
       "      <td>22470</td>\n",
       "    </tr>\n",
       "  </tbody>\n",
       "</table>\n",
       "<p>195 rows × 14 columns</p>\n",
       "</div>"
      ],
      "text/plain": [
       "           Brand         Type  Wheel-base  Length  Width  Height  Curb-weight  \\\n",
       "0    alfa-romero  convertible        88.6   168.8   64.1    48.8         2548   \n",
       "1    alfa-romero  convertible        88.6   168.8   64.1    48.8         2548   \n",
       "2    alfa-romero    hatchback        94.5   171.2   65.5    52.4         2823   \n",
       "3           audi        sedan        99.4   176.6   66.4    54.3         2824   \n",
       "4           audi        sedan        99.8   177.3   66.3    53.1         2507   \n",
       "..           ...          ...         ...     ...    ...     ...          ...   \n",
       "190        volvo        sedan       109.1   188.8   68.9    55.5         2952   \n",
       "191        volvo        sedan       109.1   188.8   68.8    55.5         3049   \n",
       "192        volvo        sedan       109.1   188.8   68.9    55.5         3062   \n",
       "193        volvo        sedan       109.1   188.8   68.9    55.5         3012   \n",
       "194        volvo        sedan       109.1   188.8   68.9    55.5         3217   \n",
       "\n",
       "     Cylinders  Engine  Compression-ratio  Horsepower  City-mpg  Highway-mpg  \\\n",
       "0            4     130                9.0         111        21           27   \n",
       "1            4     130                9.0         111        21           27   \n",
       "2            6     152                9.0         154        19           26   \n",
       "3            5     136                8.0         115        18           22   \n",
       "4            5     136                8.5         110        19           25   \n",
       "..         ...     ...                ...         ...       ...          ...   \n",
       "190          4     141                9.5         114        23           28   \n",
       "191          4     141                8.7         160        19           25   \n",
       "192          4     141                9.5         114        19           25   \n",
       "193          6     173                8.8         134        18           23   \n",
       "194          6     145               23.0         106        26           27   \n",
       "\n",
       "     Price  \n",
       "0    13495  \n",
       "1    16500  \n",
       "2    16500  \n",
       "3    17450  \n",
       "4    15250  \n",
       "..     ...  \n",
       "190  16845  \n",
       "191  19045  \n",
       "192  22625  \n",
       "193  21485  \n",
       "194  22470  \n",
       "\n",
       "[195 rows x 14 columns]"
      ]
     },
     "execution_count": 139,
     "metadata": {},
     "output_type": "execute_result"
    }
   ],
   "source": [
    "df"
   ]
  },
  {
   "cell_type": "code",
   "execution_count": 140,
   "metadata": {},
   "outputs": [
    {
     "data": {
      "text/html": [
       "<div>\n",
       "<style scoped>\n",
       "    .dataframe tbody tr th:only-of-type {\n",
       "        vertical-align: middle;\n",
       "    }\n",
       "\n",
       "    .dataframe tbody tr th {\n",
       "        vertical-align: top;\n",
       "    }\n",
       "\n",
       "    .dataframe thead th {\n",
       "        text-align: right;\n",
       "    }\n",
       "</style>\n",
       "<table border=\"1\" class=\"dataframe\">\n",
       "  <thead>\n",
       "    <tr style=\"text-align: right;\">\n",
       "      <th></th>\n",
       "      <th>Brand</th>\n",
       "      <th>Type</th>\n",
       "      <th>Wheel-base</th>\n",
       "      <th>Length</th>\n",
       "      <th>Width</th>\n",
       "      <th>Height</th>\n",
       "      <th>Curb-weight</th>\n",
       "      <th>Cylinders</th>\n",
       "      <th>Engine</th>\n",
       "      <th>Compression-ratio</th>\n",
       "      <th>Horsepower</th>\n",
       "      <th>City-mpg</th>\n",
       "      <th>Highway-mpg</th>\n",
       "      <th>Price</th>\n",
       "    </tr>\n",
       "  </thead>\n",
       "  <tbody>\n",
       "    <tr>\n",
       "      <th>0</th>\n",
       "      <td>alfa-romero</td>\n",
       "      <td>convertible</td>\n",
       "      <td>88.6</td>\n",
       "      <td>168.8</td>\n",
       "      <td>64.1</td>\n",
       "      <td>48.8</td>\n",
       "      <td>2548</td>\n",
       "      <td>4</td>\n",
       "      <td>130</td>\n",
       "      <td>9.0</td>\n",
       "      <td>111</td>\n",
       "      <td>21</td>\n",
       "      <td>27</td>\n",
       "      <td>13495</td>\n",
       "    </tr>\n",
       "    <tr>\n",
       "      <th>1</th>\n",
       "      <td>alfa-romero</td>\n",
       "      <td>convertible</td>\n",
       "      <td>88.6</td>\n",
       "      <td>168.8</td>\n",
       "      <td>64.1</td>\n",
       "      <td>48.8</td>\n",
       "      <td>2548</td>\n",
       "      <td>4</td>\n",
       "      <td>130</td>\n",
       "      <td>9.0</td>\n",
       "      <td>111</td>\n",
       "      <td>21</td>\n",
       "      <td>27</td>\n",
       "      <td>16500</td>\n",
       "    </tr>\n",
       "    <tr>\n",
       "      <th>2</th>\n",
       "      <td>alfa-romero</td>\n",
       "      <td>hatchback</td>\n",
       "      <td>94.5</td>\n",
       "      <td>171.2</td>\n",
       "      <td>65.5</td>\n",
       "      <td>52.4</td>\n",
       "      <td>2823</td>\n",
       "      <td>6</td>\n",
       "      <td>152</td>\n",
       "      <td>9.0</td>\n",
       "      <td>154</td>\n",
       "      <td>19</td>\n",
       "      <td>26</td>\n",
       "      <td>16500</td>\n",
       "    </tr>\n",
       "    <tr>\n",
       "      <th>3</th>\n",
       "      <td>audi</td>\n",
       "      <td>sedan</td>\n",
       "      <td>99.4</td>\n",
       "      <td>176.6</td>\n",
       "      <td>66.4</td>\n",
       "      <td>54.3</td>\n",
       "      <td>2824</td>\n",
       "      <td>5</td>\n",
       "      <td>136</td>\n",
       "      <td>8.0</td>\n",
       "      <td>115</td>\n",
       "      <td>18</td>\n",
       "      <td>22</td>\n",
       "      <td>17450</td>\n",
       "    </tr>\n",
       "    <tr>\n",
       "      <th>4</th>\n",
       "      <td>audi</td>\n",
       "      <td>sedan</td>\n",
       "      <td>99.8</td>\n",
       "      <td>177.3</td>\n",
       "      <td>66.3</td>\n",
       "      <td>53.1</td>\n",
       "      <td>2507</td>\n",
       "      <td>5</td>\n",
       "      <td>136</td>\n",
       "      <td>8.5</td>\n",
       "      <td>110</td>\n",
       "      <td>19</td>\n",
       "      <td>25</td>\n",
       "      <td>15250</td>\n",
       "    </tr>\n",
       "  </tbody>\n",
       "</table>\n",
       "</div>"
      ],
      "text/plain": [
       "         Brand         Type  Wheel-base  Length  Width  Height  Curb-weight  \\\n",
       "0  alfa-romero  convertible        88.6   168.8   64.1    48.8         2548   \n",
       "1  alfa-romero  convertible        88.6   168.8   64.1    48.8         2548   \n",
       "2  alfa-romero    hatchback        94.5   171.2   65.5    52.4         2823   \n",
       "3         audi        sedan        99.4   176.6   66.4    54.3         2824   \n",
       "4         audi        sedan        99.8   177.3   66.3    53.1         2507   \n",
       "\n",
       "   Cylinders  Engine  Compression-ratio  Horsepower  City-mpg  Highway-mpg  \\\n",
       "0          4     130                9.0         111        21           27   \n",
       "1          4     130                9.0         111        21           27   \n",
       "2          6     152                9.0         154        19           26   \n",
       "3          5     136                8.0         115        18           22   \n",
       "4          5     136                8.5         110        19           25   \n",
       "\n",
       "   Price  \n",
       "0  13495  \n",
       "1  16500  \n",
       "2  16500  \n",
       "3  17450  \n",
       "4  15250  "
      ]
     },
     "execution_count": 140,
     "metadata": {},
     "output_type": "execute_result"
    }
   ],
   "source": [
    "df = pd.read_excel('./dataset_9/cars_9.xlsx')\n",
    "df1 = df.drop(['Brand', 'Type'], axis=1)\n",
    "df.head()"
   ]
  },
  {
   "attachments": {},
   "cell_type": "markdown",
   "metadata": {},
   "source": [
    ">Check if the components are orthogonal"
   ]
  },
  {
   "cell_type": "code",
   "execution_count": 141,
   "metadata": {},
   "outputs": [
    {
     "name": "stdout",
     "output_type": "stream",
     "text": [
      "Are the principal components orthogonal? True\n"
     ]
    }
   ],
   "source": [
    "pca = PCA()\n",
    "principal_components = pca.fit_transform(df1)\n",
    "\n",
    "# Calculate correlation matrix\n",
    "correlation_matrix = np.corrcoef(principal_components.T)\n",
    "\n",
    "# Check for orthogonality\n",
    "is_orthogonal = np.allclose(correlation_matrix, np.eye(correlation_matrix.shape[0]))\n",
    "print(\"Are the principal components orthogonal?\", is_orthogonal)\n"
   ]
  },
  {
   "cell_type": "code",
   "execution_count": 142,
   "metadata": {},
   "outputs": [
    {
     "data": {
      "text/html": [
       "<div>\n",
       "<style scoped>\n",
       "    .dataframe tbody tr th:only-of-type {\n",
       "        vertical-align: middle;\n",
       "    }\n",
       "\n",
       "    .dataframe tbody tr th {\n",
       "        vertical-align: top;\n",
       "    }\n",
       "\n",
       "    .dataframe thead th {\n",
       "        text-align: right;\n",
       "    }\n",
       "</style>\n",
       "<table border=\"1\" class=\"dataframe\">\n",
       "  <thead>\n",
       "    <tr style=\"text-align: right;\">\n",
       "      <th></th>\n",
       "      <th>Wheel-base</th>\n",
       "      <th>Length</th>\n",
       "      <th>Width</th>\n",
       "      <th>Height</th>\n",
       "      <th>Curb-weight</th>\n",
       "      <th>Cylinders</th>\n",
       "      <th>Engine</th>\n",
       "      <th>Compression-ratio</th>\n",
       "      <th>Horsepower</th>\n",
       "      <th>City-mpg</th>\n",
       "      <th>Highway-mpg</th>\n",
       "      <th>Price</th>\n",
       "    </tr>\n",
       "  </thead>\n",
       "  <tbody>\n",
       "    <tr>\n",
       "      <th>0</th>\n",
       "      <td>-1.651399</td>\n",
       "      <td>-0.434250</td>\n",
       "      <td>-0.833568</td>\n",
       "      <td>-2.117092</td>\n",
       "      <td>-0.014783</td>\n",
       "      <td>-0.392257</td>\n",
       "      <td>0.056339</td>\n",
       "      <td>-0.299118</td>\n",
       "      <td>0.212479</td>\n",
       "      <td>-0.692920</td>\n",
       "      <td>-0.570092</td>\n",
       "      <td>0.024923</td>\n",
       "    </tr>\n",
       "    <tr>\n",
       "      <th>1</th>\n",
       "      <td>-1.651399</td>\n",
       "      <td>-0.434250</td>\n",
       "      <td>-0.833568</td>\n",
       "      <td>-2.117092</td>\n",
       "      <td>-0.014783</td>\n",
       "      <td>-0.392257</td>\n",
       "      <td>0.056339</td>\n",
       "      <td>-0.299118</td>\n",
       "      <td>0.212479</td>\n",
       "      <td>-0.692920</td>\n",
       "      <td>-0.570092</td>\n",
       "      <td>0.393069</td>\n",
       "    </tr>\n",
       "    <tr>\n",
       "      <th>2</th>\n",
       "      <td>-0.696418</td>\n",
       "      <td>-0.240883</td>\n",
       "      <td>-0.172813</td>\n",
       "      <td>-0.615426</td>\n",
       "      <td>0.515125</td>\n",
       "      <td>1.594500</td>\n",
       "      <td>0.588700</td>\n",
       "      <td>-0.299118</td>\n",
       "      <td>1.347280</td>\n",
       "      <td>-1.006422</td>\n",
       "      <td>-0.717529</td>\n",
       "      <td>0.393069</td>\n",
       "    </tr>\n",
       "    <tr>\n",
       "      <th>3</th>\n",
       "      <td>0.096702</td>\n",
       "      <td>0.194194</td>\n",
       "      <td>0.251958</td>\n",
       "      <td>0.177120</td>\n",
       "      <td>0.517052</td>\n",
       "      <td>0.601121</td>\n",
       "      <td>0.201528</td>\n",
       "      <td>-0.538835</td>\n",
       "      <td>0.318042</td>\n",
       "      <td>-1.163173</td>\n",
       "      <td>-1.307280</td>\n",
       "      <td>0.509455</td>\n",
       "    </tr>\n",
       "    <tr>\n",
       "      <th>4</th>\n",
       "      <td>0.161446</td>\n",
       "      <td>0.250593</td>\n",
       "      <td>0.204762</td>\n",
       "      <td>-0.323436</td>\n",
       "      <td>-0.093788</td>\n",
       "      <td>0.601121</td>\n",
       "      <td>0.201528</td>\n",
       "      <td>-0.418976</td>\n",
       "      <td>0.186088</td>\n",
       "      <td>-1.006422</td>\n",
       "      <td>-0.864967</td>\n",
       "      <td>0.239930</td>\n",
       "    </tr>\n",
       "  </tbody>\n",
       "</table>\n",
       "</div>"
      ],
      "text/plain": [
       "   Wheel-base    Length     Width    Height  Curb-weight  Cylinders    Engine  \\\n",
       "0   -1.651399 -0.434250 -0.833568 -2.117092    -0.014783  -0.392257  0.056339   \n",
       "1   -1.651399 -0.434250 -0.833568 -2.117092    -0.014783  -0.392257  0.056339   \n",
       "2   -0.696418 -0.240883 -0.172813 -0.615426     0.515125   1.594500  0.588700   \n",
       "3    0.096702  0.194194  0.251958  0.177120     0.517052   0.601121  0.201528   \n",
       "4    0.161446  0.250593  0.204762 -0.323436    -0.093788   0.601121  0.201528   \n",
       "\n",
       "   Compression-ratio  Horsepower  City-mpg  Highway-mpg     Price  \n",
       "0          -0.299118    0.212479 -0.692920    -0.570092  0.024923  \n",
       "1          -0.299118    0.212479 -0.692920    -0.570092  0.393069  \n",
       "2          -0.299118    1.347280 -1.006422    -0.717529  0.393069  \n",
       "3          -0.538835    0.318042 -1.163173    -1.307280  0.509455  \n",
       "4          -0.418976    0.186088 -1.006422    -0.864967  0.239930  "
      ]
     },
     "execution_count": 142,
     "metadata": {},
     "output_type": "execute_result"
    }
   ],
   "source": [
    "data_standardized = (df1 - df1.mean())/df1.std()\n",
    "data_standardized.head()"
   ]
  },
  {
   "attachments": {},
   "cell_type": "markdown",
   "metadata": {},
   "source": [
    "> Standardize the data"
   ]
  },
  {
   "cell_type": "code",
   "execution_count": 143,
   "metadata": {},
   "outputs": [],
   "source": [
    "# implementing PCA using sklearn\n",
    "\n",
    "from sklearn.decomposition import PCA\n",
    "\n",
    "pca = PCA(n_components=12).fit(data_standardized)\n",
    "#Note that pca.transform() returns scores based on centred data\n",
    "pca_samples = pca.transform(data_standardized)"
   ]
  },
  {
   "cell_type": "code",
   "execution_count": 144,
   "metadata": {},
   "outputs": [
    {
     "data": {
      "text/html": [
       "<div>\n",
       "<style scoped>\n",
       "    .dataframe tbody tr th:only-of-type {\n",
       "        vertical-align: middle;\n",
       "    }\n",
       "\n",
       "    .dataframe tbody tr th {\n",
       "        vertical-align: top;\n",
       "    }\n",
       "\n",
       "    .dataframe thead th {\n",
       "        text-align: right;\n",
       "    }\n",
       "</style>\n",
       "<table border=\"1\" class=\"dataframe\">\n",
       "  <thead>\n",
       "    <tr style=\"text-align: right;\">\n",
       "      <th></th>\n",
       "      <th>Eigenvalue</th>\n",
       "      <th>Explained Variance</th>\n",
       "      <th>Cumulative Variance Explained</th>\n",
       "      <th>Wheel-base</th>\n",
       "      <th>Length</th>\n",
       "      <th>Width</th>\n",
       "      <th>Height</th>\n",
       "      <th>Curb-weight</th>\n",
       "      <th>Cylinders</th>\n",
       "      <th>Engine</th>\n",
       "      <th>Compression-ratio</th>\n",
       "      <th>Horsepower</th>\n",
       "      <th>City-mpg</th>\n",
       "      <th>Highway-mpg</th>\n",
       "      <th>Price</th>\n",
       "    </tr>\n",
       "  </thead>\n",
       "  <tbody>\n",
       "    <tr>\n",
       "      <th>PC 1</th>\n",
       "      <td>7.4025</td>\n",
       "      <td>0.6169</td>\n",
       "      <td>0.6169</td>\n",
       "      <td>0.2750</td>\n",
       "      <td>0.3203</td>\n",
       "      <td>0.3211</td>\n",
       "      <td>0.1069</td>\n",
       "      <td>0.3512</td>\n",
       "      <td>0.2651</td>\n",
       "      <td>0.3315</td>\n",
       "      <td>0.0044</td>\n",
       "      <td>0.3065</td>\n",
       "      <td>-0.3127</td>\n",
       "      <td>-0.3222</td>\n",
       "      <td>0.3287</td>\n",
       "    </tr>\n",
       "    <tr>\n",
       "      <th>PC 2</th>\n",
       "      <td>2.0636</td>\n",
       "      <td>0.1720</td>\n",
       "      <td>0.7889</td>\n",
       "      <td>-0.3882</td>\n",
       "      <td>-0.2562</td>\n",
       "      <td>-0.1903</td>\n",
       "      <td>-0.5242</td>\n",
       "      <td>-0.0935</td>\n",
       "      <td>0.2260</td>\n",
       "      <td>0.1345</td>\n",
       "      <td>-0.4762</td>\n",
       "      <td>0.3046</td>\n",
       "      <td>-0.2087</td>\n",
       "      <td>-0.1577</td>\n",
       "      <td>0.0821</td>\n",
       "    </tr>\n",
       "    <tr>\n",
       "      <th>PC 3</th>\n",
       "      <td>1.0965</td>\n",
       "      <td>0.0914</td>\n",
       "      <td>0.8803</td>\n",
       "      <td>-0.1284</td>\n",
       "      <td>-0.1378</td>\n",
       "      <td>0.0434</td>\n",
       "      <td>-0.3313</td>\n",
       "      <td>0.0387</td>\n",
       "      <td>0.3976</td>\n",
       "      <td>0.2672</td>\n",
       "      <td>0.6076</td>\n",
       "      <td>0.0419</td>\n",
       "      <td>0.3222</td>\n",
       "      <td>0.3045</td>\n",
       "      <td>0.2334</td>\n",
       "    </tr>\n",
       "    <tr>\n",
       "      <th>PC 4</th>\n",
       "      <td>0.4388</td>\n",
       "      <td>0.0366</td>\n",
       "      <td>0.9169</td>\n",
       "      <td>-0.0241</td>\n",
       "      <td>-0.1259</td>\n",
       "      <td>-0.2435</td>\n",
       "      <td>0.6322</td>\n",
       "      <td>-0.1529</td>\n",
       "      <td>0.5416</td>\n",
       "      <td>0.1508</td>\n",
       "      <td>-0.3181</td>\n",
       "      <td>-0.0284</td>\n",
       "      <td>0.1920</td>\n",
       "      <td>0.1710</td>\n",
       "      <td>0.1305</td>\n",
       "    </tr>\n",
       "    <tr>\n",
       "      <th>PC 5</th>\n",
       "      <td>0.3332</td>\n",
       "      <td>0.0278</td>\n",
       "      <td>0.9447</td>\n",
       "      <td>-0.4290</td>\n",
       "      <td>-0.1276</td>\n",
       "      <td>-0.3894</td>\n",
       "      <td>0.3695</td>\n",
       "      <td>0.0658</td>\n",
       "      <td>-0.1898</td>\n",
       "      <td>-0.1122</td>\n",
       "      <td>0.4562</td>\n",
       "      <td>0.3134</td>\n",
       "      <td>-0.2802</td>\n",
       "      <td>-0.2211</td>\n",
       "      <td>0.1577</td>\n",
       "    </tr>\n",
       "    <tr>\n",
       "      <th>PC 6</th>\n",
       "      <td>0.1898</td>\n",
       "      <td>0.0158</td>\n",
       "      <td>0.9605</td>\n",
       "      <td>-0.0212</td>\n",
       "      <td>0.0090</td>\n",
       "      <td>-0.0853</td>\n",
       "      <td>-0.0476</td>\n",
       "      <td>0.0288</td>\n",
       "      <td>0.5153</td>\n",
       "      <td>-0.0618</td>\n",
       "      <td>0.2380</td>\n",
       "      <td>-0.3471</td>\n",
       "      <td>-0.2548</td>\n",
       "      <td>-0.3839</td>\n",
       "      <td>-0.5747</td>\n",
       "    </tr>\n",
       "    <tr>\n",
       "      <th>PC 7</th>\n",
       "      <td>0.1369</td>\n",
       "      <td>0.0114</td>\n",
       "      <td>0.9719</td>\n",
       "      <td>-0.2707</td>\n",
       "      <td>-0.2949</td>\n",
       "      <td>0.7181</td>\n",
       "      <td>0.1405</td>\n",
       "      <td>-0.2915</td>\n",
       "      <td>0.1343</td>\n",
       "      <td>-0.3693</td>\n",
       "      <td>0.0292</td>\n",
       "      <td>-0.0599</td>\n",
       "      <td>-0.0970</td>\n",
       "      <td>-0.1101</td>\n",
       "      <td>0.1975</td>\n",
       "    </tr>\n",
       "    <tr>\n",
       "      <th>PC 8</th>\n",
       "      <td>0.1112</td>\n",
       "      <td>0.0093</td>\n",
       "      <td>0.9812</td>\n",
       "      <td>-0.3058</td>\n",
       "      <td>0.3496</td>\n",
       "      <td>0.2461</td>\n",
       "      <td>0.1089</td>\n",
       "      <td>0.0331</td>\n",
       "      <td>0.0802</td>\n",
       "      <td>-0.0340</td>\n",
       "      <td>-0.0241</td>\n",
       "      <td>0.5576</td>\n",
       "      <td>0.1367</td>\n",
       "      <td>0.2774</td>\n",
       "      <td>-0.5442</td>\n",
       "    </tr>\n",
       "    <tr>\n",
       "      <th>PC 9</th>\n",
       "      <td>0.0858</td>\n",
       "      <td>0.0071</td>\n",
       "      <td>0.9883</td>\n",
       "      <td>-0.1724</td>\n",
       "      <td>0.7112</td>\n",
       "      <td>-0.1795</td>\n",
       "      <td>-0.1427</td>\n",
       "      <td>-0.3011</td>\n",
       "      <td>0.1824</td>\n",
       "      <td>-0.3364</td>\n",
       "      <td>0.0089</td>\n",
       "      <td>-0.1692</td>\n",
       "      <td>-0.1499</td>\n",
       "      <td>0.1280</td>\n",
       "      <td>0.3274</td>\n",
       "    </tr>\n",
       "    <tr>\n",
       "      <th>PC 10</th>\n",
       "      <td>0.0720</td>\n",
       "      <td>0.0060</td>\n",
       "      <td>0.9943</td>\n",
       "      <td>-0.6025</td>\n",
       "      <td>0.1504</td>\n",
       "      <td>0.1535</td>\n",
       "      <td>0.0928</td>\n",
       "      <td>0.4233</td>\n",
       "      <td>-0.1499</td>\n",
       "      <td>0.3350</td>\n",
       "      <td>-0.1471</td>\n",
       "      <td>-0.4923</td>\n",
       "      <td>0.0228</td>\n",
       "      <td>0.0487</td>\n",
       "      <td>0.0386</td>\n",
       "    </tr>\n",
       "    <tr>\n",
       "      <th>PC 11</th>\n",
       "      <td>0.0483</td>\n",
       "      <td>0.0040</td>\n",
       "      <td>0.9983</td>\n",
       "      <td>0.0243</td>\n",
       "      <td>-0.0941</td>\n",
       "      <td>-0.0908</td>\n",
       "      <td>-0.0688</td>\n",
       "      <td>0.6806</td>\n",
       "      <td>0.2076</td>\n",
       "      <td>-0.6311</td>\n",
       "      <td>-0.1212</td>\n",
       "      <td>0.0506</td>\n",
       "      <td>0.2062</td>\n",
       "      <td>0.0350</td>\n",
       "      <td>0.1093</td>\n",
       "    </tr>\n",
       "    <tr>\n",
       "      <th>PC 12</th>\n",
       "      <td>0.0213</td>\n",
       "      <td>0.0018</td>\n",
       "      <td>1.0001</td>\n",
       "      <td>-0.1099</td>\n",
       "      <td>0.1846</td>\n",
       "      <td>-0.0188</td>\n",
       "      <td>-0.0141</td>\n",
       "      <td>-0.1370</td>\n",
       "      <td>-0.0488</td>\n",
       "      <td>0.0150</td>\n",
       "      <td>-0.0122</td>\n",
       "      <td>0.0637</td>\n",
       "      <td>0.6935</td>\n",
       "      <td>-0.6664</td>\n",
       "      <td>0.0528</td>\n",
       "    </tr>\n",
       "  </tbody>\n",
       "</table>\n",
       "</div>"
      ],
      "text/plain": [
       "       Eigenvalue  Explained Variance  Cumulative Variance Explained  \\\n",
       "PC 1       7.4025              0.6169                         0.6169   \n",
       "PC 2       2.0636              0.1720                         0.7889   \n",
       "PC 3       1.0965              0.0914                         0.8803   \n",
       "PC 4       0.4388              0.0366                         0.9169   \n",
       "PC 5       0.3332              0.0278                         0.9447   \n",
       "PC 6       0.1898              0.0158                         0.9605   \n",
       "PC 7       0.1369              0.0114                         0.9719   \n",
       "PC 8       0.1112              0.0093                         0.9812   \n",
       "PC 9       0.0858              0.0071                         0.9883   \n",
       "PC 10      0.0720              0.0060                         0.9943   \n",
       "PC 11      0.0483              0.0040                         0.9983   \n",
       "PC 12      0.0213              0.0018                         1.0001   \n",
       "\n",
       "       Wheel-base  Length   Width  Height  Curb-weight  Cylinders  Engine  \\\n",
       "PC 1       0.2750  0.3203  0.3211  0.1069       0.3512     0.2651  0.3315   \n",
       "PC 2      -0.3882 -0.2562 -0.1903 -0.5242      -0.0935     0.2260  0.1345   \n",
       "PC 3      -0.1284 -0.1378  0.0434 -0.3313       0.0387     0.3976  0.2672   \n",
       "PC 4      -0.0241 -0.1259 -0.2435  0.6322      -0.1529     0.5416  0.1508   \n",
       "PC 5      -0.4290 -0.1276 -0.3894  0.3695       0.0658    -0.1898 -0.1122   \n",
       "PC 6      -0.0212  0.0090 -0.0853 -0.0476       0.0288     0.5153 -0.0618   \n",
       "PC 7      -0.2707 -0.2949  0.7181  0.1405      -0.2915     0.1343 -0.3693   \n",
       "PC 8      -0.3058  0.3496  0.2461  0.1089       0.0331     0.0802 -0.0340   \n",
       "PC 9      -0.1724  0.7112 -0.1795 -0.1427      -0.3011     0.1824 -0.3364   \n",
       "PC 10     -0.6025  0.1504  0.1535  0.0928       0.4233    -0.1499  0.3350   \n",
       "PC 11      0.0243 -0.0941 -0.0908 -0.0688       0.6806     0.2076 -0.6311   \n",
       "PC 12     -0.1099  0.1846 -0.0188 -0.0141      -0.1370    -0.0488  0.0150   \n",
       "\n",
       "       Compression-ratio  Horsepower  City-mpg  Highway-mpg   Price  \n",
       "PC 1              0.0044      0.3065   -0.3127      -0.3222  0.3287  \n",
       "PC 2             -0.4762      0.3046   -0.2087      -0.1577  0.0821  \n",
       "PC 3              0.6076      0.0419    0.3222       0.3045  0.2334  \n",
       "PC 4             -0.3181     -0.0284    0.1920       0.1710  0.1305  \n",
       "PC 5              0.4562      0.3134   -0.2802      -0.2211  0.1577  \n",
       "PC 6              0.2380     -0.3471   -0.2548      -0.3839 -0.5747  \n",
       "PC 7              0.0292     -0.0599   -0.0970      -0.1101  0.1975  \n",
       "PC 8             -0.0241      0.5576    0.1367       0.2774 -0.5442  \n",
       "PC 9              0.0089     -0.1692   -0.1499       0.1280  0.3274  \n",
       "PC 10            -0.1471     -0.4923    0.0228       0.0487  0.0386  \n",
       "PC 11            -0.1212      0.0506    0.2062       0.0350  0.1093  \n",
       "PC 12            -0.0122      0.0637    0.6935      -0.6664  0.0528  "
      ]
     },
     "execution_count": 144,
     "metadata": {},
     "output_type": "execute_result"
    }
   ],
   "source": [
    "pca_results = pca_results(data_standardized, pca)\n",
    "pca_results"
   ]
  },
  {
   "attachments": {},
   "cell_type": "markdown",
   "metadata": {},
   "source": [
    "> This time i will use the cumulative covariance to determine the number of components to use  \n",
    ">as we can see PC3 is enough to capture 80% of the variance so we will only keep those 3 "
   ]
  },
  {
   "cell_type": "code",
   "execution_count": 145,
   "metadata": {},
   "outputs": [
    {
     "data": {
      "text/plain": [
       "<Figure size 640x480 with 0 Axes>"
      ]
     },
     "metadata": {},
     "output_type": "display_data"
    },
    {
     "data": {
      "image/png": "[encoded data removed]",
      "text/plain": [
       "<Figure size 640x480 with 1 Axes>"
      ]
     },
     "metadata": {},
     "output_type": "display_data"
    }
   ],
   "source": [
    "#Scree plot\n",
    "import matplotlib.ticker as ticker\n",
    "plt.clf()\n",
    "fig1, ax1 = plt.subplots()\n",
    "ax1.plot(np.arange(1, len(pca.explained_variance_)+1), pca.explained_variance_)\n",
    "ax1.xaxis.set_major_locator(ticker.MultipleLocator(1))\n",
    "ax1.set(xlabel = 'Component number', ylabel = 'Eigenvalue', title = 'Screeplot')\n",
    "plt.show()"
   ]
  },
  {
   "attachments": {},
   "cell_type": "markdown",
   "metadata": {},
   "source": [
    "> Although scree plot say to keep 4 PCs 3 PCs are enough to capture 80% of the variance as we infer from above so we will keep 3 PCs and discard the rest"
   ]
  },
  {
   "cell_type": "code",
   "execution_count": 150,
   "metadata": {},
   "outputs": [],
   "source": [
    "#Extract only the three PCs\n",
    "pca2 = PCA(n_components=3).fit(data_standardized)\n",
    "scores2 = pca2.transform(data_standardized)"
   ]
  },
  {
   "attachments": {},
   "cell_type": "markdown",
   "metadata": {},
   "source": [
    "> Extract 3 PCs"
   ]
  },
  {
   "cell_type": "code",
   "execution_count": 151,
   "metadata": {},
   "outputs": [
    {
     "data": {
      "text/html": [
       "<div>\n",
       "<style scoped>\n",
       "    .dataframe tbody tr th:only-of-type {\n",
       "        vertical-align: middle;\n",
       "    }\n",
       "\n",
       "    .dataframe tbody tr th {\n",
       "        vertical-align: top;\n",
       "    }\n",
       "\n",
       "    .dataframe thead th {\n",
       "        text-align: right;\n",
       "    }\n",
       "</style>\n",
       "<table border=\"1\" class=\"dataframe\">\n",
       "  <thead>\n",
       "    <tr style=\"text-align: right;\">\n",
       "      <th></th>\n",
       "      <th>PC1</th>\n",
       "      <th>PC2</th>\n",
       "      <th>PC3</th>\n",
       "    </tr>\n",
       "  </thead>\n",
       "  <tbody>\n",
       "    <tr>\n",
       "      <th>0</th>\n",
       "      <td>-0.705354</td>\n",
       "      <td>2.384813</td>\n",
       "      <td>0.231644</td>\n",
       "    </tr>\n",
       "    <tr>\n",
       "      <th>1</th>\n",
       "      <td>-0.584352</td>\n",
       "      <td>2.415041</td>\n",
       "      <td>0.317554</td>\n",
       "    </tr>\n",
       "    <tr>\n",
       "      <th>2</th>\n",
       "      <td>1.495695</td>\n",
       "      <td>1.987229</td>\n",
       "      <td>0.553729</td>\n",
       "    </tr>\n",
       "    <tr>\n",
       "      <th>3</th>\n",
       "      <td>1.643993</td>\n",
       "      <td>0.730725</td>\n",
       "      <td>-0.742141</td>\n",
       "    </tr>\n",
       "    <tr>\n",
       "      <th>4</th>\n",
       "      <td>1.076594</td>\n",
       "      <td>0.797768</td>\n",
       "      <td>-0.428481</td>\n",
       "    </tr>\n",
       "  </tbody>\n",
       "</table>\n",
       "</div>"
      ],
      "text/plain": [
       "        PC1       PC2       PC3\n",
       "0 -0.705354  2.384813  0.231644\n",
       "1 -0.584352  2.415041  0.317554\n",
       "2  1.495695  1.987229  0.553729\n",
       "3  1.643993  0.730725 -0.742141\n",
       "4  1.076594  0.797768 -0.428481"
      ]
     },
     "execution_count": 151,
     "metadata": {},
     "output_type": "execute_result"
    }
   ],
   "source": [
    "#Obtain scores from original data that are not centred\n",
    "\n",
    "scores_notcentred2 = np.dot(data_standardized, pca2.components_.T)\n",
    "scores_notcentred2 = pd.DataFrame(scores_notcentred2, columns = ['PC1', 'PC2', 'PC3'])\n",
    "scores_notcentred2.head()"
   ]
  },
  {
   "cell_type": "code",
   "execution_count": 148,
   "metadata": {},
   "outputs": [
    {
     "data": {
      "image/png": "[encoded data removed]",
      "text/plain": [
       "<Figure size 1000x1000 with 1 Axes>"
      ]
     },
     "metadata": {},
     "output_type": "display_data"
    }
   ],
   "source": [
    "plt.clf\n",
    "ax2 = loadingplot(data_standardized, pca, width=10, height=10)\n",
    "plt.show()"
   ]
  },
  {
   "attachments": {},
   "cell_type": "markdown",
   "metadata": {},
   "source": [
    "> A quick analysis on the loading plot\n",
    "\n",
    "- PC1 Highway MPG, city MPG contributes negatively to the PC while the rest contributed positively\n",
    "\n",
    "- PC2 Only price, engine, cylinder horsepower contributed positively to PC2 while the rest constributed negatively"
   ]
  },
  {
   "cell_type": "code",
   "execution_count": 149,
   "metadata": {},
   "outputs": [
    {
     "data": {
      "image/png": "[encoded data removed]",
      "text/plain": [
       "<Figure size 2000x2000 with 1 Axes>"
      ]
     },
     "metadata": {},
     "output_type": "display_data"
    }
   ],
   "source": [
    "plt.clf\n",
    "\n",
    "ax3 = scoreplot_label(df, scores_notcentred2, pca2, width=20, height=20)\n",
    "plt.show()\n"
   ]
  },
  {
   "attachments": {},
   "cell_type": "markdown",
   "metadata": {},
   "source": [
    "---"
   ]
  },
  {
   "attachments": {},
   "cell_type": "markdown",
   "metadata": {},
   "source": [
    "**<h2>Question 2 (B)</h2>**"
   ]
  },
  {
   "attachments": {},
   "cell_type": "markdown",
   "metadata": {},
   "source": [
    "*<h3>`Usefullness of PCA for clustering/classification`</h3>*\n",
    "\n",
    "For this question i feel like PCA is not useful in terms of classification/clustering due to these few points:\n",
    "\n",
    "- Although PCA managed to successfully reduce the number of dimensions from 12 to 3 \n",
    "\n",
    "- The data on the score plot does not appear in clusters making it hard to infer upon\n",
    "\n",
    "- This difficulity would definitely be not desirable for classification/clustering projects hence not useful"
   ]
  },
  {
   "attachments": {},
   "cell_type": "markdown",
   "metadata": {},
   "source": [
    "---"
   ]
  },
  {
   "attachments": {},
   "cell_type": "markdown",
   "metadata": {},
   "source": [
    "Lasagna Recipe (click to read all)\n",
    "\n",
    "<!-- ## Ingredients:\n",
    "- 1 pound (450g) ground beef\n",
    "- 1 onion, finely chopped\n",
    "- 3 cloves garlic, minced\n",
    "- 1 can (14 ounces/400g) crushed tomatoes\n",
    "- 1 can (6 ounces/170g) tomato paste\n",
    "- 1/2 cup water\n",
    "- 2 teaspoons dried basil\n",
    "- 2 teaspoons dried oregano\n",
    "- Salt and pepper to taste\n",
    "- 9 lasagna noodles, cooked and drained\n",
    "- 2 cups shredded mozzarella cheese\n",
    "- 1 cup grated Parmesan cheese\n",
    "- Fresh parsley, for garnish\n",
    "\n",
    "## Instructions:\n",
    "1. Preheat the oven to 375°F (190°C).\n",
    "\n",
    "2. In a large skillet, cook the ground beef, onion, and garlic over medium heat until the beef is browned and the onion is tender. Drain any excess fat.\n",
    "\n",
    "3. Add crushed tomatoes, tomato paste, water, dried basil, dried oregano, salt, and pepper to the skillet. Stir well to combine. Simmer the sauce for about 15 minutes to allow the flavors to develop.\n",
    "\n",
    "4. In a greased 9x13-inch baking dish, spread a thin layer of the meat sauce. Place three lasagna noodles on top of the sauce. Spread a layer of meat sauce over the noodles, followed by a layer of mozzarella cheese and Parmesan cheese. Repeat the layers, ending with a layer of cheese on top.\n",
    "\n",
    "5. Cover the baking dish with aluminum foil and bake in the preheated oven for 25 minutes. Then, remove the foil and bake for an additional 10 minutes or until the cheese is bubbly and golden.\n",
    "\n",
    "6. Remove the lasagna from the oven and let it cool for a few minutes. Garnish with fresh parsley.\n",
    "\n",
    "7. Slice and serve the lasagna while it's still hot and delicious!\n",
    "\n",
    "Enjoy your homemade lasagna! -->"
   ]
  }
 ],
 "metadata": {
  "kernelspec": {
   "display_name": "base",
   "language": "python",
   "name": "python3"
  },
  "language_info": {
   "codemirror_mode": {
    "name": "ipython",
    "version": 3
   },
   "file_extension": ".py",
   "mimetype": "text/x-python",
   "name": "python",
   "nbconvert_exporter": "python",
   "pygments_lexer": "ipython3",
   "version": "3.10.9"
  },
  "orig_nbformat": 4
 },
 "nbformat": 4,
 "nbformat_minor": 2
}
